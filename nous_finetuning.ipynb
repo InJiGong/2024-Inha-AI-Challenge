{
  "cells": [
    {
      "cell_type": "markdown",
      "metadata": {
        "id": "IJnPABrD8vBJ"
      },
      "source": [
        "# 데이터 불러오기 코드"
      ]
    },
    {
      "cell_type": "code",
      "execution_count": null,
      "metadata": {
        "colab": {
          "base_uri": "https://localhost:8080/"
        },
        "executionInfo": {
          "elapsed": 5845,
          "status": "ok",
          "timestamp": 1723631087012,
          "user": {
            "displayName": "joha dae",
            "userId": "03564021945157250655"
          },
          "user_tz": -540
        },
        "id": "cXRUGFaZ_SAf",
        "outputId": "55706512-e64d-4a3c-a4bd-c666b385e6a8"
      },
      "outputs": [
        {
          "output_type": "stream",
          "name": "stdout",
          "text": [
            "Collecting datasets==2.19.0\n",
            "  Downloading datasets-2.19.0-py3-none-any.whl.metadata (19 kB)\n",
            "Requirement already satisfied: filelock in /usr/local/lib/python3.10/dist-packages (from datasets==2.19.0) (3.15.4)\n",
            "Requirement already satisfied: numpy>=1.17 in /usr/local/lib/python3.10/dist-packages (from datasets==2.19.0) (1.26.4)\n",
            "Requirement already satisfied: pyarrow>=12.0.0 in /usr/local/lib/python3.10/dist-packages (from datasets==2.19.0) (14.0.2)\n",
            "Requirement already satisfied: pyarrow-hotfix in /usr/local/lib/python3.10/dist-packages (from datasets==2.19.0) (0.6)\n",
            "Collecting dill<0.3.9,>=0.3.0 (from datasets==2.19.0)\n",
            "  Downloading dill-0.3.8-py3-none-any.whl.metadata (10 kB)\n",
            "Requirement already satisfied: pandas in /usr/local/lib/python3.10/dist-packages (from datasets==2.19.0) (2.1.4)\n",
            "Requirement already satisfied: requests>=2.19.0 in /usr/local/lib/python3.10/dist-packages (from datasets==2.19.0) (2.32.3)\n",
            "Requirement already satisfied: tqdm>=4.62.1 in /usr/local/lib/python3.10/dist-packages (from datasets==2.19.0) (4.66.5)\n",
            "Collecting xxhash (from datasets==2.19.0)\n",
            "  Downloading xxhash-3.4.1-cp310-cp310-manylinux_2_17_x86_64.manylinux2014_x86_64.whl.metadata (12 kB)\n",
            "Collecting multiprocess (from datasets==2.19.0)\n",
            "  Downloading multiprocess-0.70.16-py310-none-any.whl.metadata (7.2 kB)\n",
            "Collecting fsspec<=2024.3.1,>=2023.1.0 (from fsspec[http]<=2024.3.1,>=2023.1.0->datasets==2.19.0)\n",
            "  Downloading fsspec-2024.3.1-py3-none-any.whl.metadata (6.8 kB)\n",
            "Requirement already satisfied: aiohttp in /usr/local/lib/python3.10/dist-packages (from datasets==2.19.0) (3.10.1)\n",
            "Requirement already satisfied: huggingface-hub>=0.21.2 in /usr/local/lib/python3.10/dist-packages (from datasets==2.19.0) (0.23.5)\n",
            "Requirement already satisfied: packaging in /usr/local/lib/python3.10/dist-packages (from datasets==2.19.0) (24.1)\n",
            "Requirement already satisfied: pyyaml>=5.1 in /usr/local/lib/python3.10/dist-packages (from datasets==2.19.0) (6.0.2)\n",
            "Requirement already satisfied: aiohappyeyeballs>=2.3.0 in /usr/local/lib/python3.10/dist-packages (from aiohttp->datasets==2.19.0) (2.3.4)\n",
            "Requirement already satisfied: aiosignal>=1.1.2 in /usr/local/lib/python3.10/dist-packages (from aiohttp->datasets==2.19.0) (1.3.1)\n",
            "Requirement already satisfied: attrs>=17.3.0 in /usr/local/lib/python3.10/dist-packages (from aiohttp->datasets==2.19.0) (24.2.0)\n",
            "Requirement already satisfied: frozenlist>=1.1.1 in /usr/local/lib/python3.10/dist-packages (from aiohttp->datasets==2.19.0) (1.4.1)\n",
            "Requirement already satisfied: multidict<7.0,>=4.5 in /usr/local/lib/python3.10/dist-packages (from aiohttp->datasets==2.19.0) (6.0.5)\n",
            "Requirement already satisfied: yarl<2.0,>=1.0 in /usr/local/lib/python3.10/dist-packages (from aiohttp->datasets==2.19.0) (1.9.4)\n",
            "Requirement already satisfied: async-timeout<5.0,>=4.0 in /usr/local/lib/python3.10/dist-packages (from aiohttp->datasets==2.19.0) (4.0.3)\n",
            "Requirement already satisfied: typing-extensions>=3.7.4.3 in /usr/local/lib/python3.10/dist-packages (from huggingface-hub>=0.21.2->datasets==2.19.0) (4.12.2)\n",
            "Requirement already satisfied: charset-normalizer<4,>=2 in /usr/local/lib/python3.10/dist-packages (from requests>=2.19.0->datasets==2.19.0) (3.3.2)\n",
            "Requirement already satisfied: idna<4,>=2.5 in /usr/local/lib/python3.10/dist-packages (from requests>=2.19.0->datasets==2.19.0) (3.7)\n",
            "Requirement already satisfied: urllib3<3,>=1.21.1 in /usr/local/lib/python3.10/dist-packages (from requests>=2.19.0->datasets==2.19.0) (2.0.7)\n",
            "Requirement already satisfied: certifi>=2017.4.17 in /usr/local/lib/python3.10/dist-packages (from requests>=2.19.0->datasets==2.19.0) (2024.7.4)\n",
            "Requirement already satisfied: python-dateutil>=2.8.2 in /usr/local/lib/python3.10/dist-packages (from pandas->datasets==2.19.0) (2.8.2)\n",
            "Requirement already satisfied: pytz>=2020.1 in /usr/local/lib/python3.10/dist-packages (from pandas->datasets==2.19.0) (2024.1)\n",
            "Requirement already satisfied: tzdata>=2022.1 in /usr/local/lib/python3.10/dist-packages (from pandas->datasets==2.19.0) (2024.1)\n",
            "Requirement already satisfied: six>=1.5 in /usr/local/lib/python3.10/dist-packages (from python-dateutil>=2.8.2->pandas->datasets==2.19.0) (1.16.0)\n",
            "Downloading datasets-2.19.0-py3-none-any.whl (542 kB)\n",
            "\u001b[2K   \u001b[90m━━━━━━━━━━━━━━━━━━━━━━━━━━━━━━━━━━━━━━━━\u001b[0m \u001b[32m542.0/542.0 kB\u001b[0m \u001b[31m23.8 MB/s\u001b[0m eta \u001b[36m0:00:00\u001b[0m\n",
            "\u001b[?25hDownloading dill-0.3.8-py3-none-any.whl (116 kB)\n",
            "\u001b[2K   \u001b[90m━━━━━━━━━━━━━━━━━━━━━━━━━━━━━━━━━━━━━━━━\u001b[0m \u001b[32m116.3/116.3 kB\u001b[0m \u001b[31m9.1 MB/s\u001b[0m eta \u001b[36m0:00:00\u001b[0m\n",
            "\u001b[?25hDownloading fsspec-2024.3.1-py3-none-any.whl (171 kB)\n",
            "\u001b[2K   \u001b[90m━━━━━━━━━━━━━━━━━━━━━━━━━━━━━━━━━━━━━━━━\u001b[0m \u001b[32m172.0/172.0 kB\u001b[0m \u001b[31m15.5 MB/s\u001b[0m eta \u001b[36m0:00:00\u001b[0m\n",
            "\u001b[?25hDownloading multiprocess-0.70.16-py310-none-any.whl (134 kB)\n",
            "\u001b[2K   \u001b[90m━━━━━━━━━━━━━━━━━━━━━━━━━━━━━━━━━━━━━━━━\u001b[0m \u001b[32m134.8/134.8 kB\u001b[0m \u001b[31m12.0 MB/s\u001b[0m eta \u001b[36m0:00:00\u001b[0m\n",
            "\u001b[?25hDownloading xxhash-3.4.1-cp310-cp310-manylinux_2_17_x86_64.manylinux2014_x86_64.whl (194 kB)\n",
            "\u001b[2K   \u001b[90m━━━━━━━━━━━━━━━━━━━━━━━━━━━━━━━━━━━━━━━━\u001b[0m \u001b[32m194.1/194.1 kB\u001b[0m \u001b[31m16.2 MB/s\u001b[0m eta \u001b[36m0:00:00\u001b[0m\n",
            "\u001b[?25hInstalling collected packages: xxhash, fsspec, dill, multiprocess, datasets\n",
            "  Attempting uninstall: fsspec\n",
            "    Found existing installation: fsspec 2024.6.1\n",
            "    Uninstalling fsspec-2024.6.1:\n",
            "      Successfully uninstalled fsspec-2024.6.1\n",
            "\u001b[31mERROR: pip's dependency resolver does not currently take into account all the packages that are installed. This behaviour is the source of the following dependency conflicts.\n",
            "torch 2.3.1+cu121 requires nvidia-cublas-cu12==12.1.3.1; platform_system == \"Linux\" and platform_machine == \"x86_64\", which is not installed.\n",
            "torch 2.3.1+cu121 requires nvidia-cuda-cupti-cu12==12.1.105; platform_system == \"Linux\" and platform_machine == \"x86_64\", which is not installed.\n",
            "torch 2.3.1+cu121 requires nvidia-cuda-nvrtc-cu12==12.1.105; platform_system == \"Linux\" and platform_machine == \"x86_64\", which is not installed.\n",
            "torch 2.3.1+cu121 requires nvidia-cuda-runtime-cu12==12.1.105; platform_system == \"Linux\" and platform_machine == \"x86_64\", which is not installed.\n",
            "torch 2.3.1+cu121 requires nvidia-cudnn-cu12==8.9.2.26; platform_system == \"Linux\" and platform_machine == \"x86_64\", which is not installed.\n",
            "torch 2.3.1+cu121 requires nvidia-cufft-cu12==11.0.2.54; platform_system == \"Linux\" and platform_machine == \"x86_64\", which is not installed.\n",
            "torch 2.3.1+cu121 requires nvidia-curand-cu12==10.3.2.106; platform_system == \"Linux\" and platform_machine == \"x86_64\", which is not installed.\n",
            "torch 2.3.1+cu121 requires nvidia-cusolver-cu12==11.4.5.107; platform_system == \"Linux\" and platform_machine == \"x86_64\", which is not installed.\n",
            "torch 2.3.1+cu121 requires nvidia-cusparse-cu12==12.1.0.106; platform_system == \"Linux\" and platform_machine == \"x86_64\", which is not installed.\n",
            "torch 2.3.1+cu121 requires nvidia-nccl-cu12==2.20.5; platform_system == \"Linux\" and platform_machine == \"x86_64\", which is not installed.\n",
            "torch 2.3.1+cu121 requires nvidia-nvtx-cu12==12.1.105; platform_system == \"Linux\" and platform_machine == \"x86_64\", which is not installed.\n",
            "gcsfs 2024.6.1 requires fsspec==2024.6.1, but you have fsspec 2024.3.1 which is incompatible.\u001b[0m\u001b[31m\n",
            "\u001b[0mSuccessfully installed datasets-2.19.0 dill-0.3.8 fsspec-2024.3.1 multiprocess-0.70.16 xxhash-3.4.1\n"
          ]
        }
      ],
      "source": [
        "# datasets: loads and manages data from hugging-face's community.\n",
        "# jsonlines: handles json format data\n",
        "!pip install datasets==2.19.0"
      ]
    },
    {
      "cell_type": "code",
      "execution_count": null,
      "metadata": {
        "id": "s6CH7aUr895z"
      },
      "outputs": [],
      "source": [
        "import pandas as pd\n",
        "from datasets import Dataset"
      ]
    },
    {
      "cell_type": "code",
      "execution_count": null,
      "metadata": {
        "id": "UseTM8Tl8w1O"
      },
      "outputs": [],
      "source": [
        "# 테스트 데이터 깃허브상의 불러온 데이터임\n",
        "# 변경포인트: pd.read_csv(\"파일경로\")로 변경 가능함\n",
        "trainDataPath = \"/content/drive/MyDrive/train.csv\""
      ]
    },
    {
      "cell_type": "code",
      "source": [
        "from google.colab import drive\n",
        "drive.mount('/content/drive')"
      ],
      "metadata": {
        "colab": {
          "base_uri": "https://localhost:8080/"
        },
        "id": "kT9XRKSMVvVR",
        "executionInfo": {
          "status": "ok",
          "timestamp": 1723631106121,
          "user_tz": -540,
          "elapsed": 18431,
          "user": {
            "displayName": "joha dae",
            "userId": "03564021945157250655"
          }
        },
        "outputId": "7fd58095-c33c-4dcc-fe9c-afcc3067385a"
      },
      "execution_count": null,
      "outputs": [
        {
          "output_type": "stream",
          "name": "stdout",
          "text": [
            "Mounted at /content/drive\n"
          ]
        }
      ]
    },
    {
      "cell_type": "code",
      "execution_count": null,
      "metadata": {
        "id": "9Rbk0aMM-vzG"
      },
      "outputs": [],
      "source": [
        "# Define paths and filenames\n",
        "# Load Data\n",
        "try:\n",
        "    df = pd.read_csv(trainDataPath)\n",
        "except Exception as e:\n",
        "    df = pd.read_csv(trainDataPath, encoding=\"utf-8\")"
      ]
    },
    {
      "cell_type": "code",
      "source": [
        "df = df[df['context'].apply(len) <= 1300]\n",
        "df"
      ],
      "metadata": {
        "colab": {
          "base_uri": "https://localhost:8080/",
          "height": 423
        },
        "id": "p6GoacmDV9xy",
        "executionInfo": {
          "status": "ok",
          "timestamp": 1723631110157,
          "user_tz": -540,
          "elapsed": 836,
          "user": {
            "displayName": "joha dae",
            "userId": "03564021945157250655"
          }
        },
        "outputId": "babb2d16-9b3c-4ba1-e952-852e3c0fa79e"
      },
      "execution_count": null,
      "outputs": [
        {
          "output_type": "execute_result",
          "data": {
            "text/plain": [
              "                id                                            context  \\\n",
              "0      TRAIN_00000  \\n\\n 르노그룹이 지분 약 80%를 보유한 자회사 르노삼성자동차의 경영실적 부진에...   \n",
              "1      TRAIN_00001  \\n\\n 르노그룹이 지분 약 80%를 보유한 자회사 르노삼성자동차의 경영실적 부진에...   \n",
              "2      TRAIN_00002  \\n\\n대한항공과 아시아나항공이 신년사를 통해 올해 ‘통합’에 전념하겠다는 뜻을 밝...   \n",
              "3      TRAIN_00003  \\n\\n대한항공과 아시아나항공이 신년사를 통해 올해 ‘통합’에 전념하겠다는 뜻을 밝...   \n",
              "11     TRAIN_00011   삼성전자와 유엔개발계획(UNDP)이 24일 전세계 청년들과 함께 17개 지속가능발...   \n",
              "...            ...                                                ...   \n",
              "33711  TRAIN_33711  흰 소띠의 해인 신축년(辛丑年)을 맞아 백우에 대한 관심이 높아지고 있지만 멸종위기...   \n",
              "33712  TRAIN_33712  흰소의 해를 맞아 매달 1등급 한우를 새벽 배송해주는 ‘한우 구독 서비스’가 등장했...   \n",
              "33713  TRAIN_33713  흰소의 해를 맞아 매달 1등급 한우를 새벽 배송해주는 ‘한우 구독 서비스’가 등장했...   \n",
              "33714  TRAIN_33714  히어링허브 보청기 전문센터에서 부산카톨릭대학교 언어청각치료학과와 산학협력을 통한 기...   \n",
              "33715  TRAIN_33715  히어링허브 보청기 전문센터에서 부산카톨릭대학교 언어청각치료학과와 산학협력을 통한 기...   \n",
              "\n",
              "                                                question      answer  \n",
              "0                         실적 부진으로 인해 르노그룹에서 자구책을 어디서 세웠어     르노삼성자동차  \n",
              "1                      실적 부진으로 인해 르노그룹에서 자구책을 세운 대상은 어디야     르노삼성자동차  \n",
              "2                            사원들에게 신년사를 이메일로 전달한 사람은 누구야         조원태  \n",
              "3                              누가 사원들에게 이메일을 통해 신년사를 보냈어         조원태  \n",
              "11                     24일 삼성전자와 제너레이션17 사업을 진행하는 곳은 어디야      유엔개발계획  \n",
              "...                                                  ...         ...  \n",
              "33711                     얼마나 되는 한국 고유의 품종 백우가 한국에 살아 있어        25마리  \n",
              "33712                      롯데마트가 소용량 소고기를 만든 목적은 어떤 손님이야  혼밥족과 2인 가구  \n",
              "33713                    롯데마트가 어떤 손님을 목적으로 소용량 소고기를 만들었어  혼밥족과 2인 가구  \n",
              "33714  부산카톨릭대와 협력해 언어청각장애 개선을 위한 기술 제휴와 인재 육성을 도모하는 곳...       히어링허브  \n",
              "33715  협력기관인 부산카톨릭대와 함께 언어청각장애 개선을 위해 기술 제휴와 인재 육성을 도...       히어링허브  \n",
              "\n",
              "[28574 rows x 4 columns]"
            ],
            "text/html": [
              "\n",
              "  <div id=\"df-d31b1587-6663-4b5f-b903-1e888f8e0f59\" class=\"colab-df-container\">\n",
              "    <div>\n",
              "<style scoped>\n",
              "    .dataframe tbody tr th:only-of-type {\n",
              "        vertical-align: middle;\n",
              "    }\n",
              "\n",
              "    .dataframe tbody tr th {\n",
              "        vertical-align: top;\n",
              "    }\n",
              "\n",
              "    .dataframe thead th {\n",
              "        text-align: right;\n",
              "    }\n",
              "</style>\n",
              "<table border=\"1\" class=\"dataframe\">\n",
              "  <thead>\n",
              "    <tr style=\"text-align: right;\">\n",
              "      <th></th>\n",
              "      <th>id</th>\n",
              "      <th>context</th>\n",
              "      <th>question</th>\n",
              "      <th>answer</th>\n",
              "    </tr>\n",
              "  </thead>\n",
              "  <tbody>\n",
              "    <tr>\n",
              "      <th>0</th>\n",
              "      <td>TRAIN_00000</td>\n",
              "      <td>\\n\\n 르노그룹이 지분 약 80%를 보유한 자회사 르노삼성자동차의 경영실적 부진에...</td>\n",
              "      <td>실적 부진으로 인해 르노그룹에서 자구책을 어디서 세웠어</td>\n",
              "      <td>르노삼성자동차</td>\n",
              "    </tr>\n",
              "    <tr>\n",
              "      <th>1</th>\n",
              "      <td>TRAIN_00001</td>\n",
              "      <td>\\n\\n 르노그룹이 지분 약 80%를 보유한 자회사 르노삼성자동차의 경영실적 부진에...</td>\n",
              "      <td>실적 부진으로 인해 르노그룹에서 자구책을 세운 대상은 어디야</td>\n",
              "      <td>르노삼성자동차</td>\n",
              "    </tr>\n",
              "    <tr>\n",
              "      <th>2</th>\n",
              "      <td>TRAIN_00002</td>\n",
              "      <td>\\n\\n대한항공과 아시아나항공이 신년사를 통해 올해 ‘통합’에 전념하겠다는 뜻을 밝...</td>\n",
              "      <td>사원들에게 신년사를 이메일로 전달한 사람은 누구야</td>\n",
              "      <td>조원태</td>\n",
              "    </tr>\n",
              "    <tr>\n",
              "      <th>3</th>\n",
              "      <td>TRAIN_00003</td>\n",
              "      <td>\\n\\n대한항공과 아시아나항공이 신년사를 통해 올해 ‘통합’에 전념하겠다는 뜻을 밝...</td>\n",
              "      <td>누가 사원들에게 이메일을 통해 신년사를 보냈어</td>\n",
              "      <td>조원태</td>\n",
              "    </tr>\n",
              "    <tr>\n",
              "      <th>11</th>\n",
              "      <td>TRAIN_00011</td>\n",
              "      <td>삼성전자와 유엔개발계획(UNDP)이 24일 전세계 청년들과 함께 17개 지속가능발...</td>\n",
              "      <td>24일 삼성전자와 제너레이션17 사업을 진행하는 곳은 어디야</td>\n",
              "      <td>유엔개발계획</td>\n",
              "    </tr>\n",
              "    <tr>\n",
              "      <th>...</th>\n",
              "      <td>...</td>\n",
              "      <td>...</td>\n",
              "      <td>...</td>\n",
              "      <td>...</td>\n",
              "    </tr>\n",
              "    <tr>\n",
              "      <th>33711</th>\n",
              "      <td>TRAIN_33711</td>\n",
              "      <td>흰 소띠의 해인 신축년(辛丑年)을 맞아 백우에 대한 관심이 높아지고 있지만 멸종위기...</td>\n",
              "      <td>얼마나 되는 한국 고유의 품종 백우가 한국에 살아 있어</td>\n",
              "      <td>25마리</td>\n",
              "    </tr>\n",
              "    <tr>\n",
              "      <th>33712</th>\n",
              "      <td>TRAIN_33712</td>\n",
              "      <td>흰소의 해를 맞아 매달 1등급 한우를 새벽 배송해주는 ‘한우 구독 서비스’가 등장했...</td>\n",
              "      <td>롯데마트가 소용량 소고기를 만든 목적은 어떤 손님이야</td>\n",
              "      <td>혼밥족과 2인 가구</td>\n",
              "    </tr>\n",
              "    <tr>\n",
              "      <th>33713</th>\n",
              "      <td>TRAIN_33713</td>\n",
              "      <td>흰소의 해를 맞아 매달 1등급 한우를 새벽 배송해주는 ‘한우 구독 서비스’가 등장했...</td>\n",
              "      <td>롯데마트가 어떤 손님을 목적으로 소용량 소고기를 만들었어</td>\n",
              "      <td>혼밥족과 2인 가구</td>\n",
              "    </tr>\n",
              "    <tr>\n",
              "      <th>33714</th>\n",
              "      <td>TRAIN_33714</td>\n",
              "      <td>히어링허브 보청기 전문센터에서 부산카톨릭대학교 언어청각치료학과와 산학협력을 통한 기...</td>\n",
              "      <td>부산카톨릭대와 협력해 언어청각장애 개선을 위한 기술 제휴와 인재 육성을 도모하는 곳...</td>\n",
              "      <td>히어링허브</td>\n",
              "    </tr>\n",
              "    <tr>\n",
              "      <th>33715</th>\n",
              "      <td>TRAIN_33715</td>\n",
              "      <td>히어링허브 보청기 전문센터에서 부산카톨릭대학교 언어청각치료학과와 산학협력을 통한 기...</td>\n",
              "      <td>협력기관인 부산카톨릭대와 함께 언어청각장애 개선을 위해 기술 제휴와 인재 육성을 도...</td>\n",
              "      <td>히어링허브</td>\n",
              "    </tr>\n",
              "  </tbody>\n",
              "</table>\n",
              "<p>28574 rows × 4 columns</p>\n",
              "</div>\n",
              "    <div class=\"colab-df-buttons\">\n",
              "\n",
              "  <div class=\"colab-df-container\">\n",
              "    <button class=\"colab-df-convert\" onclick=\"convertToInteractive('df-d31b1587-6663-4b5f-b903-1e888f8e0f59')\"\n",
              "            title=\"Convert this dataframe to an interactive table.\"\n",
              "            style=\"display:none;\">\n",
              "\n",
              "  <svg xmlns=\"http://www.w3.org/2000/svg\" height=\"24px\" viewBox=\"0 -960 960 960\">\n",
              "    <path d=\"M120-120v-720h720v720H120Zm60-500h600v-160H180v160Zm220 220h160v-160H400v160Zm0 220h160v-160H400v160ZM180-400h160v-160H180v160Zm440 0h160v-160H620v160ZM180-180h160v-160H180v160Zm440 0h160v-160H620v160Z\"/>\n",
              "  </svg>\n",
              "    </button>\n",
              "\n",
              "  <style>\n",
              "    .colab-df-container {\n",
              "      display:flex;\n",
              "      gap: 12px;\n",
              "    }\n",
              "\n",
              "    .colab-df-convert {\n",
              "      background-color: #E8F0FE;\n",
              "      border: none;\n",
              "      border-radius: 50%;\n",
              "      cursor: pointer;\n",
              "      display: none;\n",
              "      fill: #1967D2;\n",
              "      height: 32px;\n",
              "      padding: 0 0 0 0;\n",
              "      width: 32px;\n",
              "    }\n",
              "\n",
              "    .colab-df-convert:hover {\n",
              "      background-color: #E2EBFA;\n",
              "      box-shadow: 0px 1px 2px rgba(60, 64, 67, 0.3), 0px 1px 3px 1px rgba(60, 64, 67, 0.15);\n",
              "      fill: #174EA6;\n",
              "    }\n",
              "\n",
              "    .colab-df-buttons div {\n",
              "      margin-bottom: 4px;\n",
              "    }\n",
              "\n",
              "    [theme=dark] .colab-df-convert {\n",
              "      background-color: #3B4455;\n",
              "      fill: #D2E3FC;\n",
              "    }\n",
              "\n",
              "    [theme=dark] .colab-df-convert:hover {\n",
              "      background-color: #434B5C;\n",
              "      box-shadow: 0px 1px 3px 1px rgba(0, 0, 0, 0.15);\n",
              "      filter: drop-shadow(0px 1px 2px rgba(0, 0, 0, 0.3));\n",
              "      fill: #FFFFFF;\n",
              "    }\n",
              "  </style>\n",
              "\n",
              "    <script>\n",
              "      const buttonEl =\n",
              "        document.querySelector('#df-d31b1587-6663-4b5f-b903-1e888f8e0f59 button.colab-df-convert');\n",
              "      buttonEl.style.display =\n",
              "        google.colab.kernel.accessAllowed ? 'block' : 'none';\n",
              "\n",
              "      async function convertToInteractive(key) {\n",
              "        const element = document.querySelector('#df-d31b1587-6663-4b5f-b903-1e888f8e0f59');\n",
              "        const dataTable =\n",
              "          await google.colab.kernel.invokeFunction('convertToInteractive',\n",
              "                                                    [key], {});\n",
              "        if (!dataTable) return;\n",
              "\n",
              "        const docLinkHtml = 'Like what you see? Visit the ' +\n",
              "          '<a target=\"_blank\" href=https://colab.research.google.com/notebooks/data_table.ipynb>data table notebook</a>'\n",
              "          + ' to learn more about interactive tables.';\n",
              "        element.innerHTML = '';\n",
              "        dataTable['output_type'] = 'display_data';\n",
              "        await google.colab.output.renderOutput(dataTable, element);\n",
              "        const docLink = document.createElement('div');\n",
              "        docLink.innerHTML = docLinkHtml;\n",
              "        element.appendChild(docLink);\n",
              "      }\n",
              "    </script>\n",
              "  </div>\n",
              "\n",
              "\n",
              "<div id=\"df-f3005959-9669-4fa1-b0b8-38e54da8f123\">\n",
              "  <button class=\"colab-df-quickchart\" onclick=\"quickchart('df-f3005959-9669-4fa1-b0b8-38e54da8f123')\"\n",
              "            title=\"Suggest charts\"\n",
              "            style=\"display:none;\">\n",
              "\n",
              "<svg xmlns=\"http://www.w3.org/2000/svg\" height=\"24px\"viewBox=\"0 0 24 24\"\n",
              "     width=\"24px\">\n",
              "    <g>\n",
              "        <path d=\"M19 3H5c-1.1 0-2 .9-2 2v14c0 1.1.9 2 2 2h14c1.1 0 2-.9 2-2V5c0-1.1-.9-2-2-2zM9 17H7v-7h2v7zm4 0h-2V7h2v10zm4 0h-2v-4h2v4z\"/>\n",
              "    </g>\n",
              "</svg>\n",
              "  </button>\n",
              "\n",
              "<style>\n",
              "  .colab-df-quickchart {\n",
              "      --bg-color: #E8F0FE;\n",
              "      --fill-color: #1967D2;\n",
              "      --hover-bg-color: #E2EBFA;\n",
              "      --hover-fill-color: #174EA6;\n",
              "      --disabled-fill-color: #AAA;\n",
              "      --disabled-bg-color: #DDD;\n",
              "  }\n",
              "\n",
              "  [theme=dark] .colab-df-quickchart {\n",
              "      --bg-color: #3B4455;\n",
              "      --fill-color: #D2E3FC;\n",
              "      --hover-bg-color: #434B5C;\n",
              "      --hover-fill-color: #FFFFFF;\n",
              "      --disabled-bg-color: #3B4455;\n",
              "      --disabled-fill-color: #666;\n",
              "  }\n",
              "\n",
              "  .colab-df-quickchart {\n",
              "    background-color: var(--bg-color);\n",
              "    border: none;\n",
              "    border-radius: 50%;\n",
              "    cursor: pointer;\n",
              "    display: none;\n",
              "    fill: var(--fill-color);\n",
              "    height: 32px;\n",
              "    padding: 0;\n",
              "    width: 32px;\n",
              "  }\n",
              "\n",
              "  .colab-df-quickchart:hover {\n",
              "    background-color: var(--hover-bg-color);\n",
              "    box-shadow: 0 1px 2px rgba(60, 64, 67, 0.3), 0 1px 3px 1px rgba(60, 64, 67, 0.15);\n",
              "    fill: var(--button-hover-fill-color);\n",
              "  }\n",
              "\n",
              "  .colab-df-quickchart-complete:disabled,\n",
              "  .colab-df-quickchart-complete:disabled:hover {\n",
              "    background-color: var(--disabled-bg-color);\n",
              "    fill: var(--disabled-fill-color);\n",
              "    box-shadow: none;\n",
              "  }\n",
              "\n",
              "  .colab-df-spinner {\n",
              "    border: 2px solid var(--fill-color);\n",
              "    border-color: transparent;\n",
              "    border-bottom-color: var(--fill-color);\n",
              "    animation:\n",
              "      spin 1s steps(1) infinite;\n",
              "  }\n",
              "\n",
              "  @keyframes spin {\n",
              "    0% {\n",
              "      border-color: transparent;\n",
              "      border-bottom-color: var(--fill-color);\n",
              "      border-left-color: var(--fill-color);\n",
              "    }\n",
              "    20% {\n",
              "      border-color: transparent;\n",
              "      border-left-color: var(--fill-color);\n",
              "      border-top-color: var(--fill-color);\n",
              "    }\n",
              "    30% {\n",
              "      border-color: transparent;\n",
              "      border-left-color: var(--fill-color);\n",
              "      border-top-color: var(--fill-color);\n",
              "      border-right-color: var(--fill-color);\n",
              "    }\n",
              "    40% {\n",
              "      border-color: transparent;\n",
              "      border-right-color: var(--fill-color);\n",
              "      border-top-color: var(--fill-color);\n",
              "    }\n",
              "    60% {\n",
              "      border-color: transparent;\n",
              "      border-right-color: var(--fill-color);\n",
              "    }\n",
              "    80% {\n",
              "      border-color: transparent;\n",
              "      border-right-color: var(--fill-color);\n",
              "      border-bottom-color: var(--fill-color);\n",
              "    }\n",
              "    90% {\n",
              "      border-color: transparent;\n",
              "      border-bottom-color: var(--fill-color);\n",
              "    }\n",
              "  }\n",
              "</style>\n",
              "\n",
              "  <script>\n",
              "    async function quickchart(key) {\n",
              "      const quickchartButtonEl =\n",
              "        document.querySelector('#' + key + ' button');\n",
              "      quickchartButtonEl.disabled = true;  // To prevent multiple clicks.\n",
              "      quickchartButtonEl.classList.add('colab-df-spinner');\n",
              "      try {\n",
              "        const charts = await google.colab.kernel.invokeFunction(\n",
              "            'suggestCharts', [key], {});\n",
              "      } catch (error) {\n",
              "        console.error('Error during call to suggestCharts:', error);\n",
              "      }\n",
              "      quickchartButtonEl.classList.remove('colab-df-spinner');\n",
              "      quickchartButtonEl.classList.add('colab-df-quickchart-complete');\n",
              "    }\n",
              "    (() => {\n",
              "      let quickchartButtonEl =\n",
              "        document.querySelector('#df-f3005959-9669-4fa1-b0b8-38e54da8f123 button');\n",
              "      quickchartButtonEl.style.display =\n",
              "        google.colab.kernel.accessAllowed ? 'block' : 'none';\n",
              "    })();\n",
              "  </script>\n",
              "</div>\n",
              "\n",
              "  <div id=\"id_d7c46d38-5fbe-4193-996b-eb05d1e73f10\">\n",
              "    <style>\n",
              "      .colab-df-generate {\n",
              "        background-color: #E8F0FE;\n",
              "        border: none;\n",
              "        border-radius: 50%;\n",
              "        cursor: pointer;\n",
              "        display: none;\n",
              "        fill: #1967D2;\n",
              "        height: 32px;\n",
              "        padding: 0 0 0 0;\n",
              "        width: 32px;\n",
              "      }\n",
              "\n",
              "      .colab-df-generate:hover {\n",
              "        background-color: #E2EBFA;\n",
              "        box-shadow: 0px 1px 2px rgba(60, 64, 67, 0.3), 0px 1px 3px 1px rgba(60, 64, 67, 0.15);\n",
              "        fill: #174EA6;\n",
              "      }\n",
              "\n",
              "      [theme=dark] .colab-df-generate {\n",
              "        background-color: #3B4455;\n",
              "        fill: #D2E3FC;\n",
              "      }\n",
              "\n",
              "      [theme=dark] .colab-df-generate:hover {\n",
              "        background-color: #434B5C;\n",
              "        box-shadow: 0px 1px 3px 1px rgba(0, 0, 0, 0.15);\n",
              "        filter: drop-shadow(0px 1px 2px rgba(0, 0, 0, 0.3));\n",
              "        fill: #FFFFFF;\n",
              "      }\n",
              "    </style>\n",
              "    <button class=\"colab-df-generate\" onclick=\"generateWithVariable('df')\"\n",
              "            title=\"Generate code using this dataframe.\"\n",
              "            style=\"display:none;\">\n",
              "\n",
              "  <svg xmlns=\"http://www.w3.org/2000/svg\" height=\"24px\"viewBox=\"0 0 24 24\"\n",
              "       width=\"24px\">\n",
              "    <path d=\"M7,19H8.4L18.45,9,17,7.55,7,17.6ZM5,21V16.75L18.45,3.32a2,2,0,0,1,2.83,0l1.4,1.43a1.91,1.91,0,0,1,.58,1.4,1.91,1.91,0,0,1-.58,1.4L9.25,21ZM18.45,9,17,7.55Zm-12,3A5.31,5.31,0,0,0,4.9,8.1,5.31,5.31,0,0,0,1,6.5,5.31,5.31,0,0,0,4.9,4.9,5.31,5.31,0,0,0,6.5,1,5.31,5.31,0,0,0,8.1,4.9,5.31,5.31,0,0,0,12,6.5,5.46,5.46,0,0,0,6.5,12Z\"/>\n",
              "  </svg>\n",
              "    </button>\n",
              "    <script>\n",
              "      (() => {\n",
              "      const buttonEl =\n",
              "        document.querySelector('#id_d7c46d38-5fbe-4193-996b-eb05d1e73f10 button.colab-df-generate');\n",
              "      buttonEl.style.display =\n",
              "        google.colab.kernel.accessAllowed ? 'block' : 'none';\n",
              "\n",
              "      buttonEl.onclick = () => {\n",
              "        google.colab.notebook.generateWithVariable('df');\n",
              "      }\n",
              "      })();\n",
              "    </script>\n",
              "  </div>\n",
              "\n",
              "    </div>\n",
              "  </div>\n"
            ],
            "application/vnd.google.colaboratory.intrinsic+json": {
              "type": "dataframe",
              "variable_name": "df",
              "summary": "{\n  \"name\": \"df\",\n  \"rows\": 28574,\n  \"fields\": [\n    {\n      \"column\": \"id\",\n      \"properties\": {\n        \"dtype\": \"string\",\n        \"num_unique_values\": 28574,\n        \"samples\": [\n          \"TRAIN_05564\",\n          \"TRAIN_08072\",\n          \"TRAIN_00154\"\n        ],\n        \"semantic_type\": \"\",\n        \"description\": \"\"\n      }\n    },\n    {\n      \"column\": \"context\",\n      \"properties\": {\n        \"dtype\": \"category\",\n        \"num_unique_values\": 10767,\n        \"samples\": [\n          \"\\ud0dd\\ubc30 \\ubd84\\ub958 \\uc778\\ub825 6,000\\uba85\\uc774 \\ud22c\\uc785\\ub41c 4\\uc77c \\ud0dd\\ubc30\\uc5c5\\uacc4\\uc5d4 \\ub610 \\ub2e4\\ub978 \\uac08\\ub4f1\\uc774 \\ubd88\\uac70\\uc84c\\ub2e4. \\uc774\\ub0a0 \\ud22c\\uc785\\uc774 \\uc644\\ub8cc\\ub41c \\ubd84\\ub958\\uc778\\ub825\\uc758 \\ube44\\uc6a9 \\ubd80\\ub2f4\\uc744 \\ub450\\uace0 \\ud0dd\\ubc30\\uc0ac\\uc640 \\ub300\\ub9ac\\uc810 \\uac04\\uc5d0 \\uc785\\uc7a5\\uc774 \\uc5c7\\uac08\\ub9ac\\uba74\\uc11c\\ub2e4. \\n\\uc774\\ub0a0 CJ\\ub300\\ud55c\\ud1b5\\uc6b4, \\ub86f\\ub370\\uae00\\ub85c\\ubc8c\\ub85c\\uc9c0\\uc2a4, \\ud55c\\uc9c4, \\ub85c\\uc820 \\ub4f1 \\uad6d\\ub0b4 \\ud0dd\\ubc30 4\\uc0ac\\uc758 \\ub300\\ub9ac\\uc810 \\uc5f0\\ud569\\ud68c\\ub294 \\uc11c\\uc6b8 \\uc5ec\\uc758\\ub3c4 \\uad6d\\ud68c \\uc55e\\uc5d0\\uc11c \\uae30\\uc790\\ud68c\\uacac\\uc744 \\uc5f4\\uace0 \\u201c4\\uc77c\\ubd80\\ud130 \\ubd84\\ub958\\uc778\\ub825 \\ud22c\\uc785\\uc744 \\uacb0\\uc815\\ud55c \\ud0dd\\ubc30\\uc0ac\\uc640 \\ud0dd\\ubc30\\uae30\\uc0ac\\uac04 \\ub0a0\\uce58\\uae30\\uc2dd \\ucd94\\uac00\\ud569\\uc758\\ub294 \\uc6d0\\ucc9c\\uc801 \\ubb34\\ud6a8\\u201d\\ub77c\\uace0 \\uc8fc\\uc7a5\\ud588\\ub2e4. \\u2018\\ud0dd\\ubc30\\ub178\\ub3d9\\uc790 \\uacfc\\ub85c\\uc0ac \\ub300\\ucc45\\uc744 \\uc704\\ud55c \\uc0ac\\ud68c\\uc801\\ud569\\uc758\\uae30\\uad6c\\u2019\\uc758 \\ud55c \\ucd95\\uc778 \\ub300\\ub9ac\\uc810\\uc774 \\ubc30\\uc81c\\ub41c \\ucc44 \\uc774\\ub904\\uc9c4 \\ud569\\uc758\\ub77c\\ub294 \\uc774\\uc720\\uc5d0\\uc11c\\ub2e4. \\n\\uc0ac\\ud68c\\uc801 \\ud569\\uc758\\uae30\\uad6c\\ub294 \\uc9c0\\ub09c\\ub2ec 21\\uc77c \\ud0dd\\ubc30 \\ubd84\\ub958\\uc791\\uc5c5\\uc744 \\ud0dd\\ubc30\\uae30\\uc0ac\\uc758 \\uae30\\ubcf8 \\uc5c5\\ubb34 \\ubc94\\uc704\\uc5d0\\uc11c \\uc81c\\uc678\\ud558\\uace0 \\uc774\\ub97c \\uc0ac\\uc5c5\\uc790\\uac00 \\ubd80\\ub2f4\\ud558\\ub3c4\\ub85d \\ud558\\ub294 1\\ucc28 \\ud569\\uc758\\ubb38\\uc744 \\ubc1c\\ud45c\\ud588\\ub2e4. \\ub300\\ub9ac\\uc810\\uc5f0\\ud569\\ud68c\\uc5d0 \\ub530\\ub974\\uba74 \\uc774 \\ub54c\\ub3c4 \\u2018\\ubd84\\ub958\\uc791\\uc5c5 \\uc815\\uc0c1\\ud654 \\uc2dc\\uc810\\u2019\\uc744 \\ub450\\uace0 \\uc774\\uacac\\uc774 \\uc0c1\\ub2f9\\ud588\\ub2e4. \\uae09\\uae30\\uc57c \\ud569\\uc758\\ubb38 \\ubc1c\\ud45c\\ub418\\uace0 6\\uc77c\\uc774 \\uc9c0\\ub09c \\uc774\\ud6c4 \\ud0dd\\ubc30\\ub178\\uc870\\ub294 \\ud0dd\\ubc30\\uc0ac\\uc5c5\\uc790\\uac00 \\uc0ac\\ud68c\\uc801 \\ud569\\uc758\\ub97c \\ud30c\\uae30\\ud588\\ub2e4\\uba70 \\ucd1d\\ud30c\\uc5c5\\uc744 \\uc608\\uace0\\ud588\\ub2e4. \\uc774\\uc5d0 \\ud0dd\\ubc30\\uc0ac\\uac00 \\ud0dd\\ubc30\\uae30\\uc0ac\\ub4e4\\uc758 \\uc694\\uad6c\\ub97c \\ubc18\\uc601\\ud574 \\ub098\\uc628 \\uac8c 4\\uc77c\\ubd80\\ud130 \\ubd84\\ub958\\uc778\\ub825\\uc744 \\ud22c\\uc785\\ud0a4\\ub85c \\ud55c \\ucd94\\uac00 \\ud569\\uc758\\ubb38\\uc774\\ub2e4. \\ucd94\\uac00 \\ud569\\uc758 \\uc774\\ud6c4 \\ud0dd\\ubc30\\ub178\\uc870\\ub294 \\ud30c\\uc5c5\\uc744 \\ucca0\\ud68c\\ud588\\ub2e4.\\n\\uc0ac\\ud0dc\\uac00 \\uc77c\\ub2e8\\ub77d\\ub418\\ub294 \\ub4ef \\ud588\\uc9c0\\ub9cc \\uc774\\ubc88\\uc5d4 \\ud0dd\\ubc30\\ub300\\ub9ac\\uc810\\uc774 \\ubd84\\ub958\\uc778\\ub825\\uc758 \\ube44\\uc6a9 \\ubd80\\ub2f4\\uc744 \\ubb38\\uc81c\\uc0bc\\uace0 \\ub098\\uc130\\ub2e4. \\ud0dd\\ubc30\\uc0ac\\uac00 \\ubd84\\ub958\\uc778\\ub825\\uc758 \\ube44\\uc6a9\\uc744 \\ucc45\\uc784\\uc838\\uc57c \\ud558\\uc9c0\\ub9cc \\uc2e4\\uc81c\\ub85c\\ub294 \\ub300\\ub9ac\\uc810\\uc774 \\ubd80\\ub2f4\\ud558\\uace0 \\uc788\\ub2e4\\ub294 \\uac83\\uc774\\ub2e4. \\ud55c\\uc9c4 \\ub300\\ub9ac\\uc810 \\uad00\\uacc4\\uc790\\ub294 \\u201c\\ubd84\\ub958\\uc778\\ub825 \\ube44\\uc6a9\\uc744 \\ud604\\uc7ac \\ub300\\ub9ac\\uc810\\uc774 \\ubd80\\ub2f4\\ud558\\uace0 \\uc788\\ub2e4\\u201d\\uba70 \\u201c\\ud0dd\\ubc30\\uc0ac \\uce21\\uc774 \\uba85\\ud655\\ud558\\uac8c \\ube44\\uc6a9 \\uc9c0\\ubd88\\uc5d0 \\ub300\\ud574 \\uc5b8\\uae09\\ud558\\uc9c0 \\uc54a\\uace0 \\uc788\\ub2e4\\u201d\\uace0 \\ub9d0\\ud588\\ub2e4.\\n\\ub300\\ub9ac\\uc810 \\uc5f0\\ud569\\ud68c\\ub294 \\uc774\\ub0a0 \\ubc1c\\ud45c\\ud55c \\uc785\\uc7a5\\ubb38\\uc5d0\\uc11c \\u201c1\\ucc28 \\ud569\\uc758\\ub294 \\ub300\\ub9ac\\uc810 \\uc785\\uc7a5\\uc774 \\ucda9\\ubd84\\ud788 \\uad00\\ucca0\\ub418\\uc9c0 \\uc54a\\uc558\\uc9c0\\ub9cc \\ud0dd\\ubc30\\uc0ac\\uc640 \\ud0dd\\ubc30\\uae30\\uc0ac \\uce21\\uc758 \\uc785\\uc7a5\\uc744 \\uc874\\uc911\\ud558\\ub294 \\ub9c8\\uc74c\\uc73c\\ub85c \\uc11c\\uba85\\ud588\\ub2e4\\u201d\\uba70 \\u201c\\uadf8\\ub7ec\\ub098 \\ucd5c\\uadfc \\ub300\\ub9ac\\uc810\\uc774 \\ubc30\\uc81c\\ub41c \\ucc44 \\ube44\\uacf5\\uac1c \\uc11d\\uc0c1\\uc5d0\\uc11c \\ucd94\\uac00 \\ud569\\uc758\\uc548\\uc774 \\ub9cc\\ub4e4\\uc5b4\\uc84c\\ub2e4\\u201d\\uace0 \\uc9c0\\uc801\\ud588\\ub2e4. \\uc774\\uc5b4 \\u201c\\ud0dd\\ubc30\\uc0ac\\uc640 \\ud0dd\\ubc30\\uae30\\uc0ac\\uc758 \\ud611\\uc0c1 \\ud14c\\uc774\\ube14\\uc5d0\\ub294 \\uc815\\ubd80 \\uad00\\uacc4\\uc790\\uc640 \\uc815\\uce58\\uc778 \\ub4f1\\uc774 \\ubc30\\uc11d\\ud55c \\uac83\\uc73c\\ub85c \\uc54c\\uace0 \\uc788\\ub2e4\\u201d\\uba70 \\u201c\\ub300\\ub9ac\\uc810\\ub9cc \\ub530\\ub3cc\\ub9b0 \\ucc44 \\ubc00\\uc2e4\\uc5d0\\uc11c \\ud0dc\\uc5b4\\ub09c \\ucd94\\uac00\\ud569\\uc758\\uc548\\uc758 \\uc815\\ub2f9\\uc131\\uc744 \\uc778\\uc815\\ud560 \\uc218 \\uc5c6\\ub2e4\\u201d\\uace0 \\uac15\\uc870\\ud588\\ub2e4.\\n\\ub300\\ub9ac\\uc810\\uc5f0\\ud569\\ud68c\\ub294 \\ud569\\uc758 \\ubb34\\ud6a8 \\uc694\\uad6c\\uac00 \\uac70\\ubd80\\ub420 \\uacbd\\uc6b0 17\\uc77c\\ub85c \\uc608\\uc815\\ub41c \\uc0ac\\ud68c\\uc801 \\ud569\\uc758\\uae30\\uad6c 2\\ucc28 \\ud68c\\uc758\\uc5d0 \\ubd88\\ucc38\\ud558\\uace0 \\ud30c\\uc5c5\\uc5d0 \\ub3cc\\uc785\\ud560 \\uacc4\\ud68d\\uc774\\ub2e4. \\ud0dd\\ubc30 4\\uc0ac \\ub300\\ub9ac\\uc810\\uc740 \\ucd1d 4,220\\uc5ec\\uac1c\\ub85c \\uc774 \\uc911 \\uc808\\ubc18\\uc774 \\ub118\\ub294 2,180\\uc5ec\\uacf3\\uc774 \\ub300\\ub9ac\\uc810\\uc5f0\\ud569\\ud68c \\uc18c\\uc18d\\uc778 \\uac83\\uc73c\\ub85c \\uc54c\\ub824\\uc84c\\ub2e4.\",\n          \"\\ud55c\\uad6d\\uc790\\uc0b0\\uad00\\ub9ac\\uacf5\\uc0ac(\\ucea0\\ucf54)\\ub294 1561\\uc5b5 \\uc6d0 \\uaddc\\ubaa8\\uc758 \\uad6d\\uc720\\uc99d\\uad8c\\uc744 18\\uc77c\\ubd80\\ud130 \\uc628\\ube44\\ub4dc(www.onbid.co.kr)\\ub97c \\ud1b5\\ud574 \\uacf5\\uac1c\\uc785\\ucc30 \\ubc29\\uc2dd\\uc73c\\ub85c \\ub9e4\\uac01\\ud55c\\ub2e4\\uace0 4\\uc77c \\ubc1d\\ud614\\ub2e4. \\n\\n \\n\\n \\uc774\\ubc88\\uc5d0 \\ub9e4\\uac01\\ud558\\ub294 \\ube44\\uc0c1\\uc7a5\\uc99d\\uad8c\\uc758 \\ubc1c\\ud589\\ubc95\\uc778\\uc740 \\u25b3\\uac74\\uc124\\uc5c5 16\\uac1c \\u25b3\\uc81c\\uc870\\uc5c5 10\\uac1c \\u25b3\\ubd80\\ub3d9\\uc0b0\\u00b7\\uc784\\ub300\\uc5c5 3\\uac1c \\u25b3\\ub3c4\\u00b7\\uc18c\\ub9e4\\uc5c5 6\\uac1c \\u25b3\\uae30\\ud0c0 \\uc5c5\\uc885 8\\uac1c \\ub4f1 \\ucd1d 43\\uac1c \\ubc95\\uc778\\uc774\\ub2e4. \\n\\n \\n\\n \\uc774\\ubc88 \\ube44\\uc0c1\\uc7a5\\uc99d\\uad8c \\ub9e4\\uac01 \\uc785\\ucc30\\uc740 \\ub9e4\\uac01\\uc608\\uc815\\uac00\\uc758 100%\\ub97c \\uc2dc\\uc791\\uc73c\\ub85c \\ucd1d 4\\ud68c\\uc5d0 \\uac78\\uccd0 \\uc9c4\\ud589\\ub41c\\ub2e4. 2\\ud68c \\uc720\\ucc30\\ub41c \\uc885\\ubaa9\\uc758 \\uacbd\\uc6b0 3\\ud68c\\ubd80\\ud130 \\ub9e4\\ud68c \\ucd5c\\ucd08\\ub9e4\\uac01\\uc608\\uc815\\uac00\\uc758 10%\\uc529 \\ub2e8\\uacc4\\uc801\\uc73c\\ub85c \\uc904\\uc5ec \\uc785\\ucc30\\uc744 \\uc9c4\\ud589\\ud55c\\ub2e4. 2\\ud68c \\uc774\\uc0c1 \\uc720\\ucc30\\ub41c \\uc885\\ubaa9\\uc740 \\uc804 \\ud68c\\ucc28 \\ub9e4\\uac01 \\uc870\\uac74\\uc73c\\ub85c \\ucc28\\uae30 \\uc785\\ucc30 \\uc804\\uc77c\\uae4c\\uc9c0 \\uc218\\uc758\\uacc4\\uc57d\\ub3c4 \\uac00\\ub2a5\\ud558\\ub2e4. \\n\\n \\n\\n \\uc785\\ucc30\\ud76c\\ub9dd\\uc790\\ub294 \\uc628\\ube44\\ub4dc\\ub97c \\ud1b5\\ud574 \\uc785\\ucc30\\uae30\\uac04 \\uc911 \\uc785\\ucc30\\uae08\\uc561\\uc758 5% \\uc774\\uc0c1\\uc744 \\uc9c0\\uc815\\ub41c \\uac00\\uc0c1\\uacc4\\uc88c\\uc5d0 \\uc785\\uae08\\ud574\\uc57c \\ud55c\\ub2e4. \\ub2e4\\ub9cc \\u2018\\uad6d\\uc720\\uc7ac\\uc0b0\\ubc95 \\uc2dc\\ud589\\ub839\\u2019\\uc5d0 \\ub530\\ub77c \\uad6d\\uc138(\\uc0c1\\uc18d\\uc138, \\uc99d\\uc5ec\\uc138 \\ub4f1)\\ub97c \\ube44\\uc0c1\\uc7a5\\uc99d\\uad8c\\uc73c\\ub85c \\ubb3c\\ub0a9\\ud55c \\uc790(\\ubb3c\\ub0a9\\ud55c \\ubcf8\\uc778 \\ubc0f \\uc5f0\\ub300\\ub0a9\\uc138\\uc758\\ubb34\\uc790) \\ubc0f \\ubbfc\\ubc95\\uc0c1 \\ubb3c\\ub0a9\\uc790\\uc758 \\uac00\\uc871\\uc5d0 \\ud574\\ub2f9\\ud558\\ub294 \\uc790\\ub294 \\ubb3c\\ub0a9\\uac00\\uc561 \\ubbf8\\ub9cc\\uc73c\\ub85c \\ud574\\ub2f9 \\ube44\\uc0c1\\uc7a5\\uc99d\\uad8c\\uc744 \\ub9e4\\uc218\\ud560 \\uc218 \\uc5c6\\ub2e4. \\n\\n \\n\\n \\ub099\\ucc30\\ub410\\ub2e4\\uba74 \\ub099\\ucc30\\uc77c\\ub85c\\ubd80\\ud130 5\\uc77c \\ub0b4\\uc5d0 \\uc8fc\\uad8c\\ub9e4\\ub9e4\\uacc4\\uc57d\\uc744 \\uccb4\\uacb0\\ud558\\uace0 60\\uc77c\\ub0b4\\uc5d0 \\ub300\\uae08\\uc744 \\uc644\\ub0a9\\ud574\\uc57c \\ud55c\\ub2e4. \\ud55c\\ud3b8, \\ubd84\\ud560\\ub0a9\\ubd80\\uc758 \\uacbd\\uc6b0 \\ubd84\\ub0a9\\uc8fc\\uae30 \\ubc0f \\uae30\\uac04(\\ucd5c\\uc7a5 1\\ub144 \\uc774\\ub0b4)\\uc744 \\uc815\\ud558\\uc5ec \\ub300\\uae08\\uc744 \\ub0a9\\ubd80\\ud560 \\uc218 \\uc788\\ub2e4. \\n\\n \\n\\n \\ucea0\\ucf54 \\uad00\\uacc4\\uc790\\ub294 \\u201c\\uc774\\ubc88\\uc5d0 \\uacf5\\ub9e4\\ub418\\ub294 \\ubc95\\uc778 \\uc911 \\ud734\\ud14c\\ud06c\\uc0b0\\uc5c5, \\ud604\\ud574\\uac74\\uc124 \\ub4f1 \\uc7ac\\ubb34\\uc0c1\\ud0dc\\uac00 \\uc591\\ud638\\ud558\\uac70\\ub098 \\uc9c0\\uc18d \\uc131\\uc7a5 \\uc911\\uc778 \\uc885\\ubaa9\\uc774 \\uc0c1\\ub2f9\\uc218 \\ud3ec\\ud568\\ub3fc \\uc788\\uc5b4, \\uc2e4\\uc218\\uc694\\uc790\\ub4e4\\uc740 \\uad00\\uc2ec\\uc744 \\uac00\\uc838\\ubcfc \\ub9cc\\ud558\\ub2e4\\u201d\\uace0 \\ub367\\ubd99\\uc600\\ub2e4. \\n\\n \\n\",\n          \"\\uae30\\uc544\\uc758 \\uccab \\uc804\\uc6a9 \\uc804\\uae30\\ucc28\\uc778 \\u2018EV6\\u2019\\uac00 \\ub9c8\\uce68\\ub0b4 \\ubca0\\uc77c\\uc744 \\ubc97\\uc5c8\\ub2e4. \\ubbf8\\ub798\\uc9c0\\ud5a5\\uc801\\uc774\\uba74\\uc11c\\ub3c4 \\ub3c5\\ucc3d\\uc801\\uc778 \\ub514\\uc790\\uc778\\uc774 \\uc801\\uc6a9\\ub41c \\uac83\\uc73c\\ub85c \\ud3c9\\uac00\\ub41c EV6\\ub294 \\uae30\\uc874\\uc758 \\ud604\\ub300\\uc790\\ub3d9\\ucc28 \\u2018\\uc544\\uc774\\uc624\\ub2c95\\u2019\\uc640 \\ud14c\\uc2ac\\ub77c \\u2018\\ubaa8\\ub378Y\\u2019, \\ud3ed\\uc2a4\\ubc14\\uac90 \\u2018ID.4\\u2019 \\ub4f1\\uacfc \\uad6d\\ub0b4 \\uc804\\uae30\\ucc28 \\uc2dc\\uc7a5\\uc5d0\\uc11c \\uce58\\uc5f4\\ud55c \\uac01\\ucd95\\uc804\\uc744 \\ubc8c\\uc77c \\uac83\\uc73c\\ub85c \\uc810\\uccd0\\uc9c4\\ub2e4\\n\\uae30\\uc544\\ub294 15\\uc77c \\uc0c8\\ub85c\\uc6b4 \\ub514\\uc790\\uc778 \\ucca0\\ud559\\uc778 \\u2018\\uc624\\ud37c\\uc9d3 \\uc720\\ub098\\uc774\\ud2f0\\ub4dc(\\uc0c1\\ubc18\\ub41c \\uac1c\\ub150\\uc758 \\ucc3d\\uc758\\uc801 \\uc735\\ud569)\\u2019\\uac00 \\ubc18\\uc601\\ub41c \\u2018EV6\\u2019\\uc758 \\ub0b4\\u00b7\\uc678\\uc7a5 \\ub514\\uc790\\uc778\\uc744 \\uacf5\\uac1c\\ud588\\ub2e4. \\uae30\\uc544\\uc758 \\uc62c\\ud574 \\ucd5c\\ub300 \\uc57c\\uc2ec\\uc791\\uc73c\\ub85c \\uaf3d\\ud78c EV6\\uc758 \\ud2b9\\uc9d5\\uc740 \\uc5ed\\uc2dc \\ub514\\uc790\\uc778\\uc774\\ub2e4.\\n\\uc6b0\\uc120 \\uc804\\uba74\\ubd80\\uc5d4 \\uae30\\uc874 \\uae30\\uc544 \\ubaa8\\ub378\\uc758 \\uc815\\uba74 \\ub514\\uc790\\uc778 \\uc0c1\\uc9d5\\uc778 \\u2018\\ud0c0\\uc774\\uac70 \\ub178\\uc988\\u2019(\\ud638\\ub791\\uc774 \\ucf54)\\ub97c \\uc7ac\\ud574\\uc11d\\ud55c \\u2018\\ub514\\uc9c0\\ud138 \\ud0c0\\uc774\\uac70 \\ud398\\uc774\\uc2a4\\u2019 \\uadf8\\ub9b4\\uc744 \\uc801\\uc6a9\\ud588\\ub2e4. \\uc8fc\\uac04\\uc8fc\\ud589\\ub4f1(DRL)\\uc5d4 \\ub514\\uc9c0\\ud138 \\uc774\\ubbf8\\uc9c0\\ub97c \\uad6c\\uc131\\ud558\\ub294 \\ud53d\\uc140\\uc5d0\\uc11c \\uc5f0\\uc0c1\\ub41c \\u2018\\ubb34\\ube59 \\ub77c\\uc774\\ud2b8 \\ud328\\ud134\\u2019\\uc744 \\uc785\\ud614\\ub2e4.\\n\\uc606\\ubaa8\\uc2b5\\ub3c4 \\uac04\\uacb0\\ud558\\ub2e4. \\ud2b9\\ud788 \\ub4b7\\ubc14\\ud034 \\uc544\\ub7ab\\ubd80\\ubd84\\ubd80\\ud130 \\ud6c4\\ubbf8\\ub4f1\\uae4c\\uc9c0 \\uc774\\uc5b4\\uc9c4 \\u2018\\ub2e4\\uc774\\ub0b4\\ubbf9 \\uce90\\ub9ad\\ud130\\u2019\\ub294 \\uc720\\uc120\\ud615\\uc758 \\ucc28\\uccb4\\uc640 \\ubbf8\\ub798\\uc9c0\\ud5a5\\uc801\\uc778 \\ub290\\ub08c\\uc758 \\ud6c4\\uba74\\ubd80\\ub97c \\uad50\\ucc28\\uc2dc\\ud0b4\\uc73c\\ub85c\\uc368 \\ub514\\uc790\\uc778 \\uc644\\uc131\\ub3c4\\ub97c \\ub04c\\uc5b4\\uc62c\\ub838\\ub2e4. \\ud6c4\\ubbf8\\ub4f1\\uc758 \\ubc1c\\uad11\\ub2e4\\uc774\\uc624\\ub4dc(LED) \\ud074\\ub7ec\\uc2a4\\ud130 \\ub7a8\\ud504\\ub294 \\ube5b\\uc744 \\ub9e4\\uac1c\\uccb4\\ub85c \\ub3c5\\ud2b9\\ud55c \\ud328\\ud134\\uc744 \\ud615\\uc0c1\\ud654\\ud574 EV6\\ub9cc\\uc758 \\ucc28\\ubcc4\\ud654\\ub41c \\uc694\\uc18c\\ub85c \\uc791\\uc6a9\\ud55c\\ub2e4.\\n\\ub0b4\\uc7a5 \\ub514\\uc790\\uc778\\ub3c4 \\uae30\\uc544\\uc758 \\uc2e0\\uaddc \\ub514\\uc790\\uc778 \\ucca0\\ud559\\uc774 \\uacf3\\uacf3\\uc5d0 \\ubc18\\uc601\\ub410\\ub2e4. \\uc804\\uba74\\ubd80\\ub97c \\ub9e4\\ub044\\ub7fd\\uac8c \\uac10\\uc2f8\\ub4ef \\uc790\\ub9ac\\ud55c \\u2018\\ud30c\\ub178\\ub77c\\ubbf9 \\ucee4\\ube0c\\ub4dc \\ub514\\uc2a4\\ud50c\\ub808\\uc774\\u2019\\ub294 \\ub113\\uac8c \\ud3bc\\uccd0\\uc9c4 \\ud654\\uba74\\uacfc \\uc2ac\\ub9bc\\ud55c \\ub300\\uc2dc\\ubcf4\\ub4dc\\ub85c \\ub0b4\\ubd80\\ub97c \\ub354\\uc6b1 \\ub113\\uc5b4 \\ubcf4\\uc774\\uac8c \\ud55c\\ub2e4. \\uc6b4\\uc804\\uc790 \\ucabd\\uc5d4 \\uacc4\\uae30\\ubc18\\uc744 \\ubc30\\uce58\\ud588\\uace0 \\uc13c\\ud130\\ucf58\\uc194 \\ucabd\\uc5d4 \\ub0b4\\ube44\\uac8c\\uc774\\uc158\\uc744 \\ud3ec\\ud568\\ud55c \\ucca8\\ub2e8 \\uc778\\ud3ec\\ud14c\\uc778\\uba3c\\ud2b8 \\uc2dc\\uc2a4\\ud15c\\uc744 \\uc124\\uce58\\ud588\\ub2e4.\\n\\ub0b4\\ube44\\uac8c\\uc774\\uc158 \\ud654\\uba74 \\ud558\\ub2e8\\uc758 \\uc778\\ud3ec\\ud14c\\uc778\\uba3c\\ud2b8\\u00b7\\uacf5\\uc870 \\uc804\\ud658 \\uc870\\uc791\\uacc4\\ub294 \\ubbf8\\ub514\\uc5b4 \\uc74c\\ub7c9\\uacfc \\uc2e4\\ub0b4 \\uc628\\ub3c4 \\ub4f1 \\uc8fc\\ud589 \\uc911 \\uc9c1\\uad00\\uc801\\uc73c\\ub85c \\uc870\\uc791\\uc774 \\ud544\\uc694\\ud55c \\ubc84\\ud2bc \\uc678\\uc5d0 \\ubaa8\\ub4e0 \\ubc84\\ud2bc\\uc744 \\ud130\\uce58 \\ubc29\\uc2dd\\uc73c\\ub85c \\uc801\\uc6a9\\ud574 \\uc2e4\\ub0b4 \\uc911\\uc559\\ubd80 \\uacf5\\uac04\\uc744 \\ucd5c\\uc18c\\ud654\\ud588\\ub2e4. \\uc911\\uc559\\uc218\\ub0a9\\uc7a5\\uc740 \\ub9c8\\uce58 \\uc911\\uc559\\uc5d0 \\ub5a0 \\uc788\\ub294 \\ub4ef\\ud55c \\ud615\\uc0c1\\uc73c\\ub85c \\uc790\\ub9ac \\uc7a1\\uc558\\ub2e4. \\ubb3c\\ub9ac\\uc801 \\ubc84\\ud2bc\\uc744 \\ucd5c\\uc18c\\ud654\\ud558\\uace0 \\u2018\\ud585\\ud2f1(\\uc9c4\\ub3d9)\\u2019 \\uae30\\uc220\\uc744 \\ud65c\\uc6a9\\ud55c \\ud130\\uce58\\uc2dd \\ubc84\\ud2bc\\uc744 \\ubd80\\ucc29\\ud588\\ub2e4. \\nEV6\\ub97c \\uc704\\ud574 \\ud2b9\\ubcc4\\ud788 \\uc124\\uacc4\\ub41c \\uc804\\uae30\\ucc28 \\uc804\\uc6a9 \\uc2dc\\ud2b8\\ub294 \\ucf8c\\uc801\\ud568\\uc744 \\ub354\\ud574\\uc900\\ub2e4. \\ub610 \\ubb38 \\uc218\\ub0a9\\uacf5\\uac04 \\ub4f1\\uc5d0 \\ud3d0\\ud50c\\ub77c\\uc2a4\\ud2f1 \\uc7ac\\ud65c\\uc6a9 \\uc18c\\uc7ac\\ub97c \\uc801\\uc6a9\\ud558\\uace0 \\u2018\\uc544\\ub9c8\\uc528 \\ucd94\\ucd9c\\ubb3c\\u2019\\uc744 \\uc774\\uc6a9\\ud55c \\uce5c\\ud658\\uacbd \\uacf5\\uc815 \\ub098\\ud30c \\uac00\\uc8fd \\uc2dc\\ud2b8 \\ub4f1 \\uce5c\\ud658\\uacbd \\uc18c\\uc7ac\\ub3c4 \\ud65c\\uc6a9\\ud588\\ub2e4.\\n\\uce74\\ub9bc \\ud558\\ube44\\ube0c \\uae30\\uc544\\ub514\\uc790\\uc778\\ub2f4\\ub2f9 \\uc804\\ubb34\\ub294 \\u201c\\uae30\\uc544\\uc758 \\ubaa9\\ud45c\\ub294 \\ub3c5\\ucc3d\\uc801\\uc774\\uace0 \\ucc3d\\uc758\\uc801\\uc778 \\uc990\\uac70\\uc6c0\\uc744 \\ub514\\uc790\\uc778\\ud558\\uace0 \\uae30\\uc544 \\ube0c\\ub79c\\ub4dc\\ub97c \\ud1b5\\ud574 \\uace0\\uac1d\\uc774 \\uc774\\ub97c \\uc9c0\\uc18d\\uc801\\uc73c\\ub85c \\uacbd\\ud5d8\\ud558\\uac8c \\ud558\\ub294 \\uac83\\u201d\\uc774\\ub77c\\uba70 \\u201cEV6\\ub97c \\uc2dc\\uc791\\uc73c\\ub85c \\uc55e\\uc73c\\ub85c \\ucd9c\\uc2dc\\ub418\\ub294 \\ubaa8\\ub4e0 \\uae30\\uc544\\uc758 \\uc81c\\ud488\\ub4e4\\uc744 \\ud1b5\\ud574\\uc11c \\ub514\\uc790\\uc778 \\ucca0\\ud559 \\uc624\\ud37c\\uc9d3 \\uc720\\ub098\\uc774\\ud2f0\\ub4dc\\ub97c \\uc9c1\\uc811 \\uacbd\\ud5d8\\ud558\\uace0 \\ub290\\ub084 \\uc218 \\uc788\\uc744 \\uac83\\u201d\\uc774\\ub77c\\uace0 \\ub9d0\\ud588\\ub2e4.\"\n        ],\n        \"semantic_type\": \"\",\n        \"description\": \"\"\n      }\n    },\n    {\n      \"column\": \"question\",\n      \"properties\": {\n        \"dtype\": \"string\",\n        \"num_unique_values\": 28568,\n        \"samples\": [\n          \"\\ubd80\\ub3d9\\uc0b0\\uacfc \\uad00\\ub828\\ud574\\uc11c \\uacbd\\uae30\\ub3c4\\uac00 \\uc9c4\\ud589\\ud55c \\uc124\\ubb38 \\uc870\\uc0ac\\ub294 \\ub300\\uc0c1 \\ubc94\\uc704\\ub97c \\uc5b4\\ub5bb\\uac8c \\uc815\\ud588\\uc5b4\",\n          \"<\\ucd08\\ub4f1\\uacfc\\ud559Q> \\uc2dc\\ub9ac\\uc988 \\uba87 \\uad8c\",\n          \"\\uc804\\ubd81\\ud14c\\ud06c\\ub178\\ud30c\\ud06c\\uac00 \\ubaa8\\uc9d1\\ud558\\uc5ec \\ubf51\\uc740 \\uae30\\uc5c5\\ub4e4\\uc744 \\uc0c1\\ub300\\ub85c \\ub3c4\\uc640\\uc8fc\\ub824\\ub294 \\ubd84\\uc57c\\ub294 \\ubb50\\uc57c\"\n        ],\n        \"semantic_type\": \"\",\n        \"description\": \"\"\n      }\n    },\n    {\n      \"column\": \"answer\",\n      \"properties\": {\n        \"dtype\": \"category\",\n        \"num_unique_values\": 13364,\n        \"samples\": [\n          \"1\\uc6d4 1\\uc77c\",\n          \"3\\ub144\\uac04 \\ubd88\\uc131\\uc2e4\\uacf5\\uc2dc\\ubc95\\uc778 \\uc9c0\\uc815 \\uc720\\uc608 \\uc790\\uaca9 \\ubd80\\uc5ec, \\uc758\\ubb34\\uad50\\uc721 \\uc774\\uc218 \\uba74\\uc81c, \\ud3ec\\uc0c1\\uae08 \\uc9c0\\uae09 \\ub4f1\",\n          \"\\uc5f4\\ub78c\\uacfc \\uc774\\uc758\\uc81c\\uae30 \\uad8c\\ub9ac \\ud589\\uc0ac\\ubc29\\ubc95\"\n        ],\n        \"semantic_type\": \"\",\n        \"description\": \"\"\n      }\n    }\n  ]\n}"
            }
          },
          "metadata": {},
          "execution_count": 6
        }
      ]
    },
    {
      "cell_type": "code",
      "execution_count": null,
      "metadata": {
        "colab": {
          "base_uri": "https://localhost:8080/",
          "height": 112
        },
        "executionInfo": {
          "elapsed": 5,
          "status": "ok",
          "timestamp": 1723631110157,
          "user": {
            "displayName": "joha dae",
            "userId": "03564021945157250655"
          },
          "user_tz": -540
        },
        "id": "xKdmiTls_J1Z",
        "outputId": "61404ab3-8ace-45cd-cf74-438b79d7d681"
      },
      "outputs": [
        {
          "output_type": "execute_result",
          "data": {
            "text/plain": [
              "                                               input  \\\n",
              "0  \\n\\n 르노그룹이 지분 약 80%를 보유한 자회사 르노삼성자동차의 경영실적 부진에...   \n",
              "1  \\n\\n 르노그룹이 지분 약 80%를 보유한 자회사 르노삼성자동차의 경영실적 부진에...   \n",
              "\n",
              "                         instruction   output  \n",
              "0     실적 부진으로 인해 르노그룹에서 자구책을 어디서 세웠어  르노삼성자동차  \n",
              "1  실적 부진으로 인해 르노그룹에서 자구책을 세운 대상은 어디야  르노삼성자동차  "
            ],
            "text/html": [
              "\n",
              "  <div id=\"df-a795d59a-ecf5-49bf-bca3-a3af9c164fc7\" class=\"colab-df-container\">\n",
              "    <div>\n",
              "<style scoped>\n",
              "    .dataframe tbody tr th:only-of-type {\n",
              "        vertical-align: middle;\n",
              "    }\n",
              "\n",
              "    .dataframe tbody tr th {\n",
              "        vertical-align: top;\n",
              "    }\n",
              "\n",
              "    .dataframe thead th {\n",
              "        text-align: right;\n",
              "    }\n",
              "</style>\n",
              "<table border=\"1\" class=\"dataframe\">\n",
              "  <thead>\n",
              "    <tr style=\"text-align: right;\">\n",
              "      <th></th>\n",
              "      <th>input</th>\n",
              "      <th>instruction</th>\n",
              "      <th>output</th>\n",
              "    </tr>\n",
              "  </thead>\n",
              "  <tbody>\n",
              "    <tr>\n",
              "      <th>0</th>\n",
              "      <td>\\n\\n 르노그룹이 지분 약 80%를 보유한 자회사 르노삼성자동차의 경영실적 부진에...</td>\n",
              "      <td>실적 부진으로 인해 르노그룹에서 자구책을 어디서 세웠어</td>\n",
              "      <td>르노삼성자동차</td>\n",
              "    </tr>\n",
              "    <tr>\n",
              "      <th>1</th>\n",
              "      <td>\\n\\n 르노그룹이 지분 약 80%를 보유한 자회사 르노삼성자동차의 경영실적 부진에...</td>\n",
              "      <td>실적 부진으로 인해 르노그룹에서 자구책을 세운 대상은 어디야</td>\n",
              "      <td>르노삼성자동차</td>\n",
              "    </tr>\n",
              "  </tbody>\n",
              "</table>\n",
              "</div>\n",
              "    <div class=\"colab-df-buttons\">\n",
              "\n",
              "  <div class=\"colab-df-container\">\n",
              "    <button class=\"colab-df-convert\" onclick=\"convertToInteractive('df-a795d59a-ecf5-49bf-bca3-a3af9c164fc7')\"\n",
              "            title=\"Convert this dataframe to an interactive table.\"\n",
              "            style=\"display:none;\">\n",
              "\n",
              "  <svg xmlns=\"http://www.w3.org/2000/svg\" height=\"24px\" viewBox=\"0 -960 960 960\">\n",
              "    <path d=\"M120-120v-720h720v720H120Zm60-500h600v-160H180v160Zm220 220h160v-160H400v160Zm0 220h160v-160H400v160ZM180-400h160v-160H180v160Zm440 0h160v-160H620v160ZM180-180h160v-160H180v160Zm440 0h160v-160H620v160Z\"/>\n",
              "  </svg>\n",
              "    </button>\n",
              "\n",
              "  <style>\n",
              "    .colab-df-container {\n",
              "      display:flex;\n",
              "      gap: 12px;\n",
              "    }\n",
              "\n",
              "    .colab-df-convert {\n",
              "      background-color: #E8F0FE;\n",
              "      border: none;\n",
              "      border-radius: 50%;\n",
              "      cursor: pointer;\n",
              "      display: none;\n",
              "      fill: #1967D2;\n",
              "      height: 32px;\n",
              "      padding: 0 0 0 0;\n",
              "      width: 32px;\n",
              "    }\n",
              "\n",
              "    .colab-df-convert:hover {\n",
              "      background-color: #E2EBFA;\n",
              "      box-shadow: 0px 1px 2px rgba(60, 64, 67, 0.3), 0px 1px 3px 1px rgba(60, 64, 67, 0.15);\n",
              "      fill: #174EA6;\n",
              "    }\n",
              "\n",
              "    .colab-df-buttons div {\n",
              "      margin-bottom: 4px;\n",
              "    }\n",
              "\n",
              "    [theme=dark] .colab-df-convert {\n",
              "      background-color: #3B4455;\n",
              "      fill: #D2E3FC;\n",
              "    }\n",
              "\n",
              "    [theme=dark] .colab-df-convert:hover {\n",
              "      background-color: #434B5C;\n",
              "      box-shadow: 0px 1px 3px 1px rgba(0, 0, 0, 0.15);\n",
              "      filter: drop-shadow(0px 1px 2px rgba(0, 0, 0, 0.3));\n",
              "      fill: #FFFFFF;\n",
              "    }\n",
              "  </style>\n",
              "\n",
              "    <script>\n",
              "      const buttonEl =\n",
              "        document.querySelector('#df-a795d59a-ecf5-49bf-bca3-a3af9c164fc7 button.colab-df-convert');\n",
              "      buttonEl.style.display =\n",
              "        google.colab.kernel.accessAllowed ? 'block' : 'none';\n",
              "\n",
              "      async function convertToInteractive(key) {\n",
              "        const element = document.querySelector('#df-a795d59a-ecf5-49bf-bca3-a3af9c164fc7');\n",
              "        const dataTable =\n",
              "          await google.colab.kernel.invokeFunction('convertToInteractive',\n",
              "                                                    [key], {});\n",
              "        if (!dataTable) return;\n",
              "\n",
              "        const docLinkHtml = 'Like what you see? Visit the ' +\n",
              "          '<a target=\"_blank\" href=https://colab.research.google.com/notebooks/data_table.ipynb>data table notebook</a>'\n",
              "          + ' to learn more about interactive tables.';\n",
              "        element.innerHTML = '';\n",
              "        dataTable['output_type'] = 'display_data';\n",
              "        await google.colab.output.renderOutput(dataTable, element);\n",
              "        const docLink = document.createElement('div');\n",
              "        docLink.innerHTML = docLinkHtml;\n",
              "        element.appendChild(docLink);\n",
              "      }\n",
              "    </script>\n",
              "  </div>\n",
              "\n",
              "\n",
              "<div id=\"df-70d22591-5640-4aeb-8f80-5f8f2daa5d31\">\n",
              "  <button class=\"colab-df-quickchart\" onclick=\"quickchart('df-70d22591-5640-4aeb-8f80-5f8f2daa5d31')\"\n",
              "            title=\"Suggest charts\"\n",
              "            style=\"display:none;\">\n",
              "\n",
              "<svg xmlns=\"http://www.w3.org/2000/svg\" height=\"24px\"viewBox=\"0 0 24 24\"\n",
              "     width=\"24px\">\n",
              "    <g>\n",
              "        <path d=\"M19 3H5c-1.1 0-2 .9-2 2v14c0 1.1.9 2 2 2h14c1.1 0 2-.9 2-2V5c0-1.1-.9-2-2-2zM9 17H7v-7h2v7zm4 0h-2V7h2v10zm4 0h-2v-4h2v4z\"/>\n",
              "    </g>\n",
              "</svg>\n",
              "  </button>\n",
              "\n",
              "<style>\n",
              "  .colab-df-quickchart {\n",
              "      --bg-color: #E8F0FE;\n",
              "      --fill-color: #1967D2;\n",
              "      --hover-bg-color: #E2EBFA;\n",
              "      --hover-fill-color: #174EA6;\n",
              "      --disabled-fill-color: #AAA;\n",
              "      --disabled-bg-color: #DDD;\n",
              "  }\n",
              "\n",
              "  [theme=dark] .colab-df-quickchart {\n",
              "      --bg-color: #3B4455;\n",
              "      --fill-color: #D2E3FC;\n",
              "      --hover-bg-color: #434B5C;\n",
              "      --hover-fill-color: #FFFFFF;\n",
              "      --disabled-bg-color: #3B4455;\n",
              "      --disabled-fill-color: #666;\n",
              "  }\n",
              "\n",
              "  .colab-df-quickchart {\n",
              "    background-color: var(--bg-color);\n",
              "    border: none;\n",
              "    border-radius: 50%;\n",
              "    cursor: pointer;\n",
              "    display: none;\n",
              "    fill: var(--fill-color);\n",
              "    height: 32px;\n",
              "    padding: 0;\n",
              "    width: 32px;\n",
              "  }\n",
              "\n",
              "  .colab-df-quickchart:hover {\n",
              "    background-color: var(--hover-bg-color);\n",
              "    box-shadow: 0 1px 2px rgba(60, 64, 67, 0.3), 0 1px 3px 1px rgba(60, 64, 67, 0.15);\n",
              "    fill: var(--button-hover-fill-color);\n",
              "  }\n",
              "\n",
              "  .colab-df-quickchart-complete:disabled,\n",
              "  .colab-df-quickchart-complete:disabled:hover {\n",
              "    background-color: var(--disabled-bg-color);\n",
              "    fill: var(--disabled-fill-color);\n",
              "    box-shadow: none;\n",
              "  }\n",
              "\n",
              "  .colab-df-spinner {\n",
              "    border: 2px solid var(--fill-color);\n",
              "    border-color: transparent;\n",
              "    border-bottom-color: var(--fill-color);\n",
              "    animation:\n",
              "      spin 1s steps(1) infinite;\n",
              "  }\n",
              "\n",
              "  @keyframes spin {\n",
              "    0% {\n",
              "      border-color: transparent;\n",
              "      border-bottom-color: var(--fill-color);\n",
              "      border-left-color: var(--fill-color);\n",
              "    }\n",
              "    20% {\n",
              "      border-color: transparent;\n",
              "      border-left-color: var(--fill-color);\n",
              "      border-top-color: var(--fill-color);\n",
              "    }\n",
              "    30% {\n",
              "      border-color: transparent;\n",
              "      border-left-color: var(--fill-color);\n",
              "      border-top-color: var(--fill-color);\n",
              "      border-right-color: var(--fill-color);\n",
              "    }\n",
              "    40% {\n",
              "      border-color: transparent;\n",
              "      border-right-color: var(--fill-color);\n",
              "      border-top-color: var(--fill-color);\n",
              "    }\n",
              "    60% {\n",
              "      border-color: transparent;\n",
              "      border-right-color: var(--fill-color);\n",
              "    }\n",
              "    80% {\n",
              "      border-color: transparent;\n",
              "      border-right-color: var(--fill-color);\n",
              "      border-bottom-color: var(--fill-color);\n",
              "    }\n",
              "    90% {\n",
              "      border-color: transparent;\n",
              "      border-bottom-color: var(--fill-color);\n",
              "    }\n",
              "  }\n",
              "</style>\n",
              "\n",
              "  <script>\n",
              "    async function quickchart(key) {\n",
              "      const quickchartButtonEl =\n",
              "        document.querySelector('#' + key + ' button');\n",
              "      quickchartButtonEl.disabled = true;  // To prevent multiple clicks.\n",
              "      quickchartButtonEl.classList.add('colab-df-spinner');\n",
              "      try {\n",
              "        const charts = await google.colab.kernel.invokeFunction(\n",
              "            'suggestCharts', [key], {});\n",
              "      } catch (error) {\n",
              "        console.error('Error during call to suggestCharts:', error);\n",
              "      }\n",
              "      quickchartButtonEl.classList.remove('colab-df-spinner');\n",
              "      quickchartButtonEl.classList.add('colab-df-quickchart-complete');\n",
              "    }\n",
              "    (() => {\n",
              "      let quickchartButtonEl =\n",
              "        document.querySelector('#df-70d22591-5640-4aeb-8f80-5f8f2daa5d31 button');\n",
              "      quickchartButtonEl.style.display =\n",
              "        google.colab.kernel.accessAllowed ? 'block' : 'none';\n",
              "    })();\n",
              "  </script>\n",
              "</div>\n",
              "\n",
              "    </div>\n",
              "  </div>\n"
            ],
            "application/vnd.google.colaboratory.intrinsic+json": {
              "type": "dataframe",
              "variable_name": "df",
              "summary": "{\n  \"name\": \"df\",\n  \"rows\": 28574,\n  \"fields\": [\n    {\n      \"column\": \"input\",\n      \"properties\": {\n        \"dtype\": \"category\",\n        \"num_unique_values\": 10767,\n        \"samples\": [\n          \"\\ud0dd\\ubc30 \\ubd84\\ub958 \\uc778\\ub825 6,000\\uba85\\uc774 \\ud22c\\uc785\\ub41c 4\\uc77c \\ud0dd\\ubc30\\uc5c5\\uacc4\\uc5d4 \\ub610 \\ub2e4\\ub978 \\uac08\\ub4f1\\uc774 \\ubd88\\uac70\\uc84c\\ub2e4. \\uc774\\ub0a0 \\ud22c\\uc785\\uc774 \\uc644\\ub8cc\\ub41c \\ubd84\\ub958\\uc778\\ub825\\uc758 \\ube44\\uc6a9 \\ubd80\\ub2f4\\uc744 \\ub450\\uace0 \\ud0dd\\ubc30\\uc0ac\\uc640 \\ub300\\ub9ac\\uc810 \\uac04\\uc5d0 \\uc785\\uc7a5\\uc774 \\uc5c7\\uac08\\ub9ac\\uba74\\uc11c\\ub2e4. \\n\\uc774\\ub0a0 CJ\\ub300\\ud55c\\ud1b5\\uc6b4, \\ub86f\\ub370\\uae00\\ub85c\\ubc8c\\ub85c\\uc9c0\\uc2a4, \\ud55c\\uc9c4, \\ub85c\\uc820 \\ub4f1 \\uad6d\\ub0b4 \\ud0dd\\ubc30 4\\uc0ac\\uc758 \\ub300\\ub9ac\\uc810 \\uc5f0\\ud569\\ud68c\\ub294 \\uc11c\\uc6b8 \\uc5ec\\uc758\\ub3c4 \\uad6d\\ud68c \\uc55e\\uc5d0\\uc11c \\uae30\\uc790\\ud68c\\uacac\\uc744 \\uc5f4\\uace0 \\u201c4\\uc77c\\ubd80\\ud130 \\ubd84\\ub958\\uc778\\ub825 \\ud22c\\uc785\\uc744 \\uacb0\\uc815\\ud55c \\ud0dd\\ubc30\\uc0ac\\uc640 \\ud0dd\\ubc30\\uae30\\uc0ac\\uac04 \\ub0a0\\uce58\\uae30\\uc2dd \\ucd94\\uac00\\ud569\\uc758\\ub294 \\uc6d0\\ucc9c\\uc801 \\ubb34\\ud6a8\\u201d\\ub77c\\uace0 \\uc8fc\\uc7a5\\ud588\\ub2e4. \\u2018\\ud0dd\\ubc30\\ub178\\ub3d9\\uc790 \\uacfc\\ub85c\\uc0ac \\ub300\\ucc45\\uc744 \\uc704\\ud55c \\uc0ac\\ud68c\\uc801\\ud569\\uc758\\uae30\\uad6c\\u2019\\uc758 \\ud55c \\ucd95\\uc778 \\ub300\\ub9ac\\uc810\\uc774 \\ubc30\\uc81c\\ub41c \\ucc44 \\uc774\\ub904\\uc9c4 \\ud569\\uc758\\ub77c\\ub294 \\uc774\\uc720\\uc5d0\\uc11c\\ub2e4. \\n\\uc0ac\\ud68c\\uc801 \\ud569\\uc758\\uae30\\uad6c\\ub294 \\uc9c0\\ub09c\\ub2ec 21\\uc77c \\ud0dd\\ubc30 \\ubd84\\ub958\\uc791\\uc5c5\\uc744 \\ud0dd\\ubc30\\uae30\\uc0ac\\uc758 \\uae30\\ubcf8 \\uc5c5\\ubb34 \\ubc94\\uc704\\uc5d0\\uc11c \\uc81c\\uc678\\ud558\\uace0 \\uc774\\ub97c \\uc0ac\\uc5c5\\uc790\\uac00 \\ubd80\\ub2f4\\ud558\\ub3c4\\ub85d \\ud558\\ub294 1\\ucc28 \\ud569\\uc758\\ubb38\\uc744 \\ubc1c\\ud45c\\ud588\\ub2e4. \\ub300\\ub9ac\\uc810\\uc5f0\\ud569\\ud68c\\uc5d0 \\ub530\\ub974\\uba74 \\uc774 \\ub54c\\ub3c4 \\u2018\\ubd84\\ub958\\uc791\\uc5c5 \\uc815\\uc0c1\\ud654 \\uc2dc\\uc810\\u2019\\uc744 \\ub450\\uace0 \\uc774\\uacac\\uc774 \\uc0c1\\ub2f9\\ud588\\ub2e4. \\uae09\\uae30\\uc57c \\ud569\\uc758\\ubb38 \\ubc1c\\ud45c\\ub418\\uace0 6\\uc77c\\uc774 \\uc9c0\\ub09c \\uc774\\ud6c4 \\ud0dd\\ubc30\\ub178\\uc870\\ub294 \\ud0dd\\ubc30\\uc0ac\\uc5c5\\uc790\\uac00 \\uc0ac\\ud68c\\uc801 \\ud569\\uc758\\ub97c \\ud30c\\uae30\\ud588\\ub2e4\\uba70 \\ucd1d\\ud30c\\uc5c5\\uc744 \\uc608\\uace0\\ud588\\ub2e4. \\uc774\\uc5d0 \\ud0dd\\ubc30\\uc0ac\\uac00 \\ud0dd\\ubc30\\uae30\\uc0ac\\ub4e4\\uc758 \\uc694\\uad6c\\ub97c \\ubc18\\uc601\\ud574 \\ub098\\uc628 \\uac8c 4\\uc77c\\ubd80\\ud130 \\ubd84\\ub958\\uc778\\ub825\\uc744 \\ud22c\\uc785\\ud0a4\\ub85c \\ud55c \\ucd94\\uac00 \\ud569\\uc758\\ubb38\\uc774\\ub2e4. \\ucd94\\uac00 \\ud569\\uc758 \\uc774\\ud6c4 \\ud0dd\\ubc30\\ub178\\uc870\\ub294 \\ud30c\\uc5c5\\uc744 \\ucca0\\ud68c\\ud588\\ub2e4.\\n\\uc0ac\\ud0dc\\uac00 \\uc77c\\ub2e8\\ub77d\\ub418\\ub294 \\ub4ef \\ud588\\uc9c0\\ub9cc \\uc774\\ubc88\\uc5d4 \\ud0dd\\ubc30\\ub300\\ub9ac\\uc810\\uc774 \\ubd84\\ub958\\uc778\\ub825\\uc758 \\ube44\\uc6a9 \\ubd80\\ub2f4\\uc744 \\ubb38\\uc81c\\uc0bc\\uace0 \\ub098\\uc130\\ub2e4. \\ud0dd\\ubc30\\uc0ac\\uac00 \\ubd84\\ub958\\uc778\\ub825\\uc758 \\ube44\\uc6a9\\uc744 \\ucc45\\uc784\\uc838\\uc57c \\ud558\\uc9c0\\ub9cc \\uc2e4\\uc81c\\ub85c\\ub294 \\ub300\\ub9ac\\uc810\\uc774 \\ubd80\\ub2f4\\ud558\\uace0 \\uc788\\ub2e4\\ub294 \\uac83\\uc774\\ub2e4. \\ud55c\\uc9c4 \\ub300\\ub9ac\\uc810 \\uad00\\uacc4\\uc790\\ub294 \\u201c\\ubd84\\ub958\\uc778\\ub825 \\ube44\\uc6a9\\uc744 \\ud604\\uc7ac \\ub300\\ub9ac\\uc810\\uc774 \\ubd80\\ub2f4\\ud558\\uace0 \\uc788\\ub2e4\\u201d\\uba70 \\u201c\\ud0dd\\ubc30\\uc0ac \\uce21\\uc774 \\uba85\\ud655\\ud558\\uac8c \\ube44\\uc6a9 \\uc9c0\\ubd88\\uc5d0 \\ub300\\ud574 \\uc5b8\\uae09\\ud558\\uc9c0 \\uc54a\\uace0 \\uc788\\ub2e4\\u201d\\uace0 \\ub9d0\\ud588\\ub2e4.\\n\\ub300\\ub9ac\\uc810 \\uc5f0\\ud569\\ud68c\\ub294 \\uc774\\ub0a0 \\ubc1c\\ud45c\\ud55c \\uc785\\uc7a5\\ubb38\\uc5d0\\uc11c \\u201c1\\ucc28 \\ud569\\uc758\\ub294 \\ub300\\ub9ac\\uc810 \\uc785\\uc7a5\\uc774 \\ucda9\\ubd84\\ud788 \\uad00\\ucca0\\ub418\\uc9c0 \\uc54a\\uc558\\uc9c0\\ub9cc \\ud0dd\\ubc30\\uc0ac\\uc640 \\ud0dd\\ubc30\\uae30\\uc0ac \\uce21\\uc758 \\uc785\\uc7a5\\uc744 \\uc874\\uc911\\ud558\\ub294 \\ub9c8\\uc74c\\uc73c\\ub85c \\uc11c\\uba85\\ud588\\ub2e4\\u201d\\uba70 \\u201c\\uadf8\\ub7ec\\ub098 \\ucd5c\\uadfc \\ub300\\ub9ac\\uc810\\uc774 \\ubc30\\uc81c\\ub41c \\ucc44 \\ube44\\uacf5\\uac1c \\uc11d\\uc0c1\\uc5d0\\uc11c \\ucd94\\uac00 \\ud569\\uc758\\uc548\\uc774 \\ub9cc\\ub4e4\\uc5b4\\uc84c\\ub2e4\\u201d\\uace0 \\uc9c0\\uc801\\ud588\\ub2e4. \\uc774\\uc5b4 \\u201c\\ud0dd\\ubc30\\uc0ac\\uc640 \\ud0dd\\ubc30\\uae30\\uc0ac\\uc758 \\ud611\\uc0c1 \\ud14c\\uc774\\ube14\\uc5d0\\ub294 \\uc815\\ubd80 \\uad00\\uacc4\\uc790\\uc640 \\uc815\\uce58\\uc778 \\ub4f1\\uc774 \\ubc30\\uc11d\\ud55c \\uac83\\uc73c\\ub85c \\uc54c\\uace0 \\uc788\\ub2e4\\u201d\\uba70 \\u201c\\ub300\\ub9ac\\uc810\\ub9cc \\ub530\\ub3cc\\ub9b0 \\ucc44 \\ubc00\\uc2e4\\uc5d0\\uc11c \\ud0dc\\uc5b4\\ub09c \\ucd94\\uac00\\ud569\\uc758\\uc548\\uc758 \\uc815\\ub2f9\\uc131\\uc744 \\uc778\\uc815\\ud560 \\uc218 \\uc5c6\\ub2e4\\u201d\\uace0 \\uac15\\uc870\\ud588\\ub2e4.\\n\\ub300\\ub9ac\\uc810\\uc5f0\\ud569\\ud68c\\ub294 \\ud569\\uc758 \\ubb34\\ud6a8 \\uc694\\uad6c\\uac00 \\uac70\\ubd80\\ub420 \\uacbd\\uc6b0 17\\uc77c\\ub85c \\uc608\\uc815\\ub41c \\uc0ac\\ud68c\\uc801 \\ud569\\uc758\\uae30\\uad6c 2\\ucc28 \\ud68c\\uc758\\uc5d0 \\ubd88\\ucc38\\ud558\\uace0 \\ud30c\\uc5c5\\uc5d0 \\ub3cc\\uc785\\ud560 \\uacc4\\ud68d\\uc774\\ub2e4. \\ud0dd\\ubc30 4\\uc0ac \\ub300\\ub9ac\\uc810\\uc740 \\ucd1d 4,220\\uc5ec\\uac1c\\ub85c \\uc774 \\uc911 \\uc808\\ubc18\\uc774 \\ub118\\ub294 2,180\\uc5ec\\uacf3\\uc774 \\ub300\\ub9ac\\uc810\\uc5f0\\ud569\\ud68c \\uc18c\\uc18d\\uc778 \\uac83\\uc73c\\ub85c \\uc54c\\ub824\\uc84c\\ub2e4.\",\n          \"\\ud55c\\uad6d\\uc790\\uc0b0\\uad00\\ub9ac\\uacf5\\uc0ac(\\ucea0\\ucf54)\\ub294 1561\\uc5b5 \\uc6d0 \\uaddc\\ubaa8\\uc758 \\uad6d\\uc720\\uc99d\\uad8c\\uc744 18\\uc77c\\ubd80\\ud130 \\uc628\\ube44\\ub4dc(www.onbid.co.kr)\\ub97c \\ud1b5\\ud574 \\uacf5\\uac1c\\uc785\\ucc30 \\ubc29\\uc2dd\\uc73c\\ub85c \\ub9e4\\uac01\\ud55c\\ub2e4\\uace0 4\\uc77c \\ubc1d\\ud614\\ub2e4. \\n\\n \\n\\n \\uc774\\ubc88\\uc5d0 \\ub9e4\\uac01\\ud558\\ub294 \\ube44\\uc0c1\\uc7a5\\uc99d\\uad8c\\uc758 \\ubc1c\\ud589\\ubc95\\uc778\\uc740 \\u25b3\\uac74\\uc124\\uc5c5 16\\uac1c \\u25b3\\uc81c\\uc870\\uc5c5 10\\uac1c \\u25b3\\ubd80\\ub3d9\\uc0b0\\u00b7\\uc784\\ub300\\uc5c5 3\\uac1c \\u25b3\\ub3c4\\u00b7\\uc18c\\ub9e4\\uc5c5 6\\uac1c \\u25b3\\uae30\\ud0c0 \\uc5c5\\uc885 8\\uac1c \\ub4f1 \\ucd1d 43\\uac1c \\ubc95\\uc778\\uc774\\ub2e4. \\n\\n \\n\\n \\uc774\\ubc88 \\ube44\\uc0c1\\uc7a5\\uc99d\\uad8c \\ub9e4\\uac01 \\uc785\\ucc30\\uc740 \\ub9e4\\uac01\\uc608\\uc815\\uac00\\uc758 100%\\ub97c \\uc2dc\\uc791\\uc73c\\ub85c \\ucd1d 4\\ud68c\\uc5d0 \\uac78\\uccd0 \\uc9c4\\ud589\\ub41c\\ub2e4. 2\\ud68c \\uc720\\ucc30\\ub41c \\uc885\\ubaa9\\uc758 \\uacbd\\uc6b0 3\\ud68c\\ubd80\\ud130 \\ub9e4\\ud68c \\ucd5c\\ucd08\\ub9e4\\uac01\\uc608\\uc815\\uac00\\uc758 10%\\uc529 \\ub2e8\\uacc4\\uc801\\uc73c\\ub85c \\uc904\\uc5ec \\uc785\\ucc30\\uc744 \\uc9c4\\ud589\\ud55c\\ub2e4. 2\\ud68c \\uc774\\uc0c1 \\uc720\\ucc30\\ub41c \\uc885\\ubaa9\\uc740 \\uc804 \\ud68c\\ucc28 \\ub9e4\\uac01 \\uc870\\uac74\\uc73c\\ub85c \\ucc28\\uae30 \\uc785\\ucc30 \\uc804\\uc77c\\uae4c\\uc9c0 \\uc218\\uc758\\uacc4\\uc57d\\ub3c4 \\uac00\\ub2a5\\ud558\\ub2e4. \\n\\n \\n\\n \\uc785\\ucc30\\ud76c\\ub9dd\\uc790\\ub294 \\uc628\\ube44\\ub4dc\\ub97c \\ud1b5\\ud574 \\uc785\\ucc30\\uae30\\uac04 \\uc911 \\uc785\\ucc30\\uae08\\uc561\\uc758 5% \\uc774\\uc0c1\\uc744 \\uc9c0\\uc815\\ub41c \\uac00\\uc0c1\\uacc4\\uc88c\\uc5d0 \\uc785\\uae08\\ud574\\uc57c \\ud55c\\ub2e4. \\ub2e4\\ub9cc \\u2018\\uad6d\\uc720\\uc7ac\\uc0b0\\ubc95 \\uc2dc\\ud589\\ub839\\u2019\\uc5d0 \\ub530\\ub77c \\uad6d\\uc138(\\uc0c1\\uc18d\\uc138, \\uc99d\\uc5ec\\uc138 \\ub4f1)\\ub97c \\ube44\\uc0c1\\uc7a5\\uc99d\\uad8c\\uc73c\\ub85c \\ubb3c\\ub0a9\\ud55c \\uc790(\\ubb3c\\ub0a9\\ud55c \\ubcf8\\uc778 \\ubc0f \\uc5f0\\ub300\\ub0a9\\uc138\\uc758\\ubb34\\uc790) \\ubc0f \\ubbfc\\ubc95\\uc0c1 \\ubb3c\\ub0a9\\uc790\\uc758 \\uac00\\uc871\\uc5d0 \\ud574\\ub2f9\\ud558\\ub294 \\uc790\\ub294 \\ubb3c\\ub0a9\\uac00\\uc561 \\ubbf8\\ub9cc\\uc73c\\ub85c \\ud574\\ub2f9 \\ube44\\uc0c1\\uc7a5\\uc99d\\uad8c\\uc744 \\ub9e4\\uc218\\ud560 \\uc218 \\uc5c6\\ub2e4. \\n\\n \\n\\n \\ub099\\ucc30\\ub410\\ub2e4\\uba74 \\ub099\\ucc30\\uc77c\\ub85c\\ubd80\\ud130 5\\uc77c \\ub0b4\\uc5d0 \\uc8fc\\uad8c\\ub9e4\\ub9e4\\uacc4\\uc57d\\uc744 \\uccb4\\uacb0\\ud558\\uace0 60\\uc77c\\ub0b4\\uc5d0 \\ub300\\uae08\\uc744 \\uc644\\ub0a9\\ud574\\uc57c \\ud55c\\ub2e4. \\ud55c\\ud3b8, \\ubd84\\ud560\\ub0a9\\ubd80\\uc758 \\uacbd\\uc6b0 \\ubd84\\ub0a9\\uc8fc\\uae30 \\ubc0f \\uae30\\uac04(\\ucd5c\\uc7a5 1\\ub144 \\uc774\\ub0b4)\\uc744 \\uc815\\ud558\\uc5ec \\ub300\\uae08\\uc744 \\ub0a9\\ubd80\\ud560 \\uc218 \\uc788\\ub2e4. \\n\\n \\n\\n \\ucea0\\ucf54 \\uad00\\uacc4\\uc790\\ub294 \\u201c\\uc774\\ubc88\\uc5d0 \\uacf5\\ub9e4\\ub418\\ub294 \\ubc95\\uc778 \\uc911 \\ud734\\ud14c\\ud06c\\uc0b0\\uc5c5, \\ud604\\ud574\\uac74\\uc124 \\ub4f1 \\uc7ac\\ubb34\\uc0c1\\ud0dc\\uac00 \\uc591\\ud638\\ud558\\uac70\\ub098 \\uc9c0\\uc18d \\uc131\\uc7a5 \\uc911\\uc778 \\uc885\\ubaa9\\uc774 \\uc0c1\\ub2f9\\uc218 \\ud3ec\\ud568\\ub3fc \\uc788\\uc5b4, \\uc2e4\\uc218\\uc694\\uc790\\ub4e4\\uc740 \\uad00\\uc2ec\\uc744 \\uac00\\uc838\\ubcfc \\ub9cc\\ud558\\ub2e4\\u201d\\uace0 \\ub367\\ubd99\\uc600\\ub2e4. \\n\\n \\n\",\n          \"\\uae30\\uc544\\uc758 \\uccab \\uc804\\uc6a9 \\uc804\\uae30\\ucc28\\uc778 \\u2018EV6\\u2019\\uac00 \\ub9c8\\uce68\\ub0b4 \\ubca0\\uc77c\\uc744 \\ubc97\\uc5c8\\ub2e4. \\ubbf8\\ub798\\uc9c0\\ud5a5\\uc801\\uc774\\uba74\\uc11c\\ub3c4 \\ub3c5\\ucc3d\\uc801\\uc778 \\ub514\\uc790\\uc778\\uc774 \\uc801\\uc6a9\\ub41c \\uac83\\uc73c\\ub85c \\ud3c9\\uac00\\ub41c EV6\\ub294 \\uae30\\uc874\\uc758 \\ud604\\ub300\\uc790\\ub3d9\\ucc28 \\u2018\\uc544\\uc774\\uc624\\ub2c95\\u2019\\uc640 \\ud14c\\uc2ac\\ub77c \\u2018\\ubaa8\\ub378Y\\u2019, \\ud3ed\\uc2a4\\ubc14\\uac90 \\u2018ID.4\\u2019 \\ub4f1\\uacfc \\uad6d\\ub0b4 \\uc804\\uae30\\ucc28 \\uc2dc\\uc7a5\\uc5d0\\uc11c \\uce58\\uc5f4\\ud55c \\uac01\\ucd95\\uc804\\uc744 \\ubc8c\\uc77c \\uac83\\uc73c\\ub85c \\uc810\\uccd0\\uc9c4\\ub2e4\\n\\uae30\\uc544\\ub294 15\\uc77c \\uc0c8\\ub85c\\uc6b4 \\ub514\\uc790\\uc778 \\ucca0\\ud559\\uc778 \\u2018\\uc624\\ud37c\\uc9d3 \\uc720\\ub098\\uc774\\ud2f0\\ub4dc(\\uc0c1\\ubc18\\ub41c \\uac1c\\ub150\\uc758 \\ucc3d\\uc758\\uc801 \\uc735\\ud569)\\u2019\\uac00 \\ubc18\\uc601\\ub41c \\u2018EV6\\u2019\\uc758 \\ub0b4\\u00b7\\uc678\\uc7a5 \\ub514\\uc790\\uc778\\uc744 \\uacf5\\uac1c\\ud588\\ub2e4. \\uae30\\uc544\\uc758 \\uc62c\\ud574 \\ucd5c\\ub300 \\uc57c\\uc2ec\\uc791\\uc73c\\ub85c \\uaf3d\\ud78c EV6\\uc758 \\ud2b9\\uc9d5\\uc740 \\uc5ed\\uc2dc \\ub514\\uc790\\uc778\\uc774\\ub2e4.\\n\\uc6b0\\uc120 \\uc804\\uba74\\ubd80\\uc5d4 \\uae30\\uc874 \\uae30\\uc544 \\ubaa8\\ub378\\uc758 \\uc815\\uba74 \\ub514\\uc790\\uc778 \\uc0c1\\uc9d5\\uc778 \\u2018\\ud0c0\\uc774\\uac70 \\ub178\\uc988\\u2019(\\ud638\\ub791\\uc774 \\ucf54)\\ub97c \\uc7ac\\ud574\\uc11d\\ud55c \\u2018\\ub514\\uc9c0\\ud138 \\ud0c0\\uc774\\uac70 \\ud398\\uc774\\uc2a4\\u2019 \\uadf8\\ub9b4\\uc744 \\uc801\\uc6a9\\ud588\\ub2e4. \\uc8fc\\uac04\\uc8fc\\ud589\\ub4f1(DRL)\\uc5d4 \\ub514\\uc9c0\\ud138 \\uc774\\ubbf8\\uc9c0\\ub97c \\uad6c\\uc131\\ud558\\ub294 \\ud53d\\uc140\\uc5d0\\uc11c \\uc5f0\\uc0c1\\ub41c \\u2018\\ubb34\\ube59 \\ub77c\\uc774\\ud2b8 \\ud328\\ud134\\u2019\\uc744 \\uc785\\ud614\\ub2e4.\\n\\uc606\\ubaa8\\uc2b5\\ub3c4 \\uac04\\uacb0\\ud558\\ub2e4. \\ud2b9\\ud788 \\ub4b7\\ubc14\\ud034 \\uc544\\ub7ab\\ubd80\\ubd84\\ubd80\\ud130 \\ud6c4\\ubbf8\\ub4f1\\uae4c\\uc9c0 \\uc774\\uc5b4\\uc9c4 \\u2018\\ub2e4\\uc774\\ub0b4\\ubbf9 \\uce90\\ub9ad\\ud130\\u2019\\ub294 \\uc720\\uc120\\ud615\\uc758 \\ucc28\\uccb4\\uc640 \\ubbf8\\ub798\\uc9c0\\ud5a5\\uc801\\uc778 \\ub290\\ub08c\\uc758 \\ud6c4\\uba74\\ubd80\\ub97c \\uad50\\ucc28\\uc2dc\\ud0b4\\uc73c\\ub85c\\uc368 \\ub514\\uc790\\uc778 \\uc644\\uc131\\ub3c4\\ub97c \\ub04c\\uc5b4\\uc62c\\ub838\\ub2e4. \\ud6c4\\ubbf8\\ub4f1\\uc758 \\ubc1c\\uad11\\ub2e4\\uc774\\uc624\\ub4dc(LED) \\ud074\\ub7ec\\uc2a4\\ud130 \\ub7a8\\ud504\\ub294 \\ube5b\\uc744 \\ub9e4\\uac1c\\uccb4\\ub85c \\ub3c5\\ud2b9\\ud55c \\ud328\\ud134\\uc744 \\ud615\\uc0c1\\ud654\\ud574 EV6\\ub9cc\\uc758 \\ucc28\\ubcc4\\ud654\\ub41c \\uc694\\uc18c\\ub85c \\uc791\\uc6a9\\ud55c\\ub2e4.\\n\\ub0b4\\uc7a5 \\ub514\\uc790\\uc778\\ub3c4 \\uae30\\uc544\\uc758 \\uc2e0\\uaddc \\ub514\\uc790\\uc778 \\ucca0\\ud559\\uc774 \\uacf3\\uacf3\\uc5d0 \\ubc18\\uc601\\ub410\\ub2e4. \\uc804\\uba74\\ubd80\\ub97c \\ub9e4\\ub044\\ub7fd\\uac8c \\uac10\\uc2f8\\ub4ef \\uc790\\ub9ac\\ud55c \\u2018\\ud30c\\ub178\\ub77c\\ubbf9 \\ucee4\\ube0c\\ub4dc \\ub514\\uc2a4\\ud50c\\ub808\\uc774\\u2019\\ub294 \\ub113\\uac8c \\ud3bc\\uccd0\\uc9c4 \\ud654\\uba74\\uacfc \\uc2ac\\ub9bc\\ud55c \\ub300\\uc2dc\\ubcf4\\ub4dc\\ub85c \\ub0b4\\ubd80\\ub97c \\ub354\\uc6b1 \\ub113\\uc5b4 \\ubcf4\\uc774\\uac8c \\ud55c\\ub2e4. \\uc6b4\\uc804\\uc790 \\ucabd\\uc5d4 \\uacc4\\uae30\\ubc18\\uc744 \\ubc30\\uce58\\ud588\\uace0 \\uc13c\\ud130\\ucf58\\uc194 \\ucabd\\uc5d4 \\ub0b4\\ube44\\uac8c\\uc774\\uc158\\uc744 \\ud3ec\\ud568\\ud55c \\ucca8\\ub2e8 \\uc778\\ud3ec\\ud14c\\uc778\\uba3c\\ud2b8 \\uc2dc\\uc2a4\\ud15c\\uc744 \\uc124\\uce58\\ud588\\ub2e4.\\n\\ub0b4\\ube44\\uac8c\\uc774\\uc158 \\ud654\\uba74 \\ud558\\ub2e8\\uc758 \\uc778\\ud3ec\\ud14c\\uc778\\uba3c\\ud2b8\\u00b7\\uacf5\\uc870 \\uc804\\ud658 \\uc870\\uc791\\uacc4\\ub294 \\ubbf8\\ub514\\uc5b4 \\uc74c\\ub7c9\\uacfc \\uc2e4\\ub0b4 \\uc628\\ub3c4 \\ub4f1 \\uc8fc\\ud589 \\uc911 \\uc9c1\\uad00\\uc801\\uc73c\\ub85c \\uc870\\uc791\\uc774 \\ud544\\uc694\\ud55c \\ubc84\\ud2bc \\uc678\\uc5d0 \\ubaa8\\ub4e0 \\ubc84\\ud2bc\\uc744 \\ud130\\uce58 \\ubc29\\uc2dd\\uc73c\\ub85c \\uc801\\uc6a9\\ud574 \\uc2e4\\ub0b4 \\uc911\\uc559\\ubd80 \\uacf5\\uac04\\uc744 \\ucd5c\\uc18c\\ud654\\ud588\\ub2e4. \\uc911\\uc559\\uc218\\ub0a9\\uc7a5\\uc740 \\ub9c8\\uce58 \\uc911\\uc559\\uc5d0 \\ub5a0 \\uc788\\ub294 \\ub4ef\\ud55c \\ud615\\uc0c1\\uc73c\\ub85c \\uc790\\ub9ac \\uc7a1\\uc558\\ub2e4. \\ubb3c\\ub9ac\\uc801 \\ubc84\\ud2bc\\uc744 \\ucd5c\\uc18c\\ud654\\ud558\\uace0 \\u2018\\ud585\\ud2f1(\\uc9c4\\ub3d9)\\u2019 \\uae30\\uc220\\uc744 \\ud65c\\uc6a9\\ud55c \\ud130\\uce58\\uc2dd \\ubc84\\ud2bc\\uc744 \\ubd80\\ucc29\\ud588\\ub2e4. \\nEV6\\ub97c \\uc704\\ud574 \\ud2b9\\ubcc4\\ud788 \\uc124\\uacc4\\ub41c \\uc804\\uae30\\ucc28 \\uc804\\uc6a9 \\uc2dc\\ud2b8\\ub294 \\ucf8c\\uc801\\ud568\\uc744 \\ub354\\ud574\\uc900\\ub2e4. \\ub610 \\ubb38 \\uc218\\ub0a9\\uacf5\\uac04 \\ub4f1\\uc5d0 \\ud3d0\\ud50c\\ub77c\\uc2a4\\ud2f1 \\uc7ac\\ud65c\\uc6a9 \\uc18c\\uc7ac\\ub97c \\uc801\\uc6a9\\ud558\\uace0 \\u2018\\uc544\\ub9c8\\uc528 \\ucd94\\ucd9c\\ubb3c\\u2019\\uc744 \\uc774\\uc6a9\\ud55c \\uce5c\\ud658\\uacbd \\uacf5\\uc815 \\ub098\\ud30c \\uac00\\uc8fd \\uc2dc\\ud2b8 \\ub4f1 \\uce5c\\ud658\\uacbd \\uc18c\\uc7ac\\ub3c4 \\ud65c\\uc6a9\\ud588\\ub2e4.\\n\\uce74\\ub9bc \\ud558\\ube44\\ube0c \\uae30\\uc544\\ub514\\uc790\\uc778\\ub2f4\\ub2f9 \\uc804\\ubb34\\ub294 \\u201c\\uae30\\uc544\\uc758 \\ubaa9\\ud45c\\ub294 \\ub3c5\\ucc3d\\uc801\\uc774\\uace0 \\ucc3d\\uc758\\uc801\\uc778 \\uc990\\uac70\\uc6c0\\uc744 \\ub514\\uc790\\uc778\\ud558\\uace0 \\uae30\\uc544 \\ube0c\\ub79c\\ub4dc\\ub97c \\ud1b5\\ud574 \\uace0\\uac1d\\uc774 \\uc774\\ub97c \\uc9c0\\uc18d\\uc801\\uc73c\\ub85c \\uacbd\\ud5d8\\ud558\\uac8c \\ud558\\ub294 \\uac83\\u201d\\uc774\\ub77c\\uba70 \\u201cEV6\\ub97c \\uc2dc\\uc791\\uc73c\\ub85c \\uc55e\\uc73c\\ub85c \\ucd9c\\uc2dc\\ub418\\ub294 \\ubaa8\\ub4e0 \\uae30\\uc544\\uc758 \\uc81c\\ud488\\ub4e4\\uc744 \\ud1b5\\ud574\\uc11c \\ub514\\uc790\\uc778 \\ucca0\\ud559 \\uc624\\ud37c\\uc9d3 \\uc720\\ub098\\uc774\\ud2f0\\ub4dc\\ub97c \\uc9c1\\uc811 \\uacbd\\ud5d8\\ud558\\uace0 \\ub290\\ub084 \\uc218 \\uc788\\uc744 \\uac83\\u201d\\uc774\\ub77c\\uace0 \\ub9d0\\ud588\\ub2e4.\"\n        ],\n        \"semantic_type\": \"\",\n        \"description\": \"\"\n      }\n    },\n    {\n      \"column\": \"instruction\",\n      \"properties\": {\n        \"dtype\": \"string\",\n        \"num_unique_values\": 28568,\n        \"samples\": [\n          \"\\ubd80\\ub3d9\\uc0b0\\uacfc \\uad00\\ub828\\ud574\\uc11c \\uacbd\\uae30\\ub3c4\\uac00 \\uc9c4\\ud589\\ud55c \\uc124\\ubb38 \\uc870\\uc0ac\\ub294 \\ub300\\uc0c1 \\ubc94\\uc704\\ub97c \\uc5b4\\ub5bb\\uac8c \\uc815\\ud588\\uc5b4\",\n          \"<\\ucd08\\ub4f1\\uacfc\\ud559Q> \\uc2dc\\ub9ac\\uc988 \\uba87 \\uad8c\",\n          \"\\uc804\\ubd81\\ud14c\\ud06c\\ub178\\ud30c\\ud06c\\uac00 \\ubaa8\\uc9d1\\ud558\\uc5ec \\ubf51\\uc740 \\uae30\\uc5c5\\ub4e4\\uc744 \\uc0c1\\ub300\\ub85c \\ub3c4\\uc640\\uc8fc\\ub824\\ub294 \\ubd84\\uc57c\\ub294 \\ubb50\\uc57c\"\n        ],\n        \"semantic_type\": \"\",\n        \"description\": \"\"\n      }\n    },\n    {\n      \"column\": \"output\",\n      \"properties\": {\n        \"dtype\": \"category\",\n        \"num_unique_values\": 13364,\n        \"samples\": [\n          \"1\\uc6d4 1\\uc77c\",\n          \"3\\ub144\\uac04 \\ubd88\\uc131\\uc2e4\\uacf5\\uc2dc\\ubc95\\uc778 \\uc9c0\\uc815 \\uc720\\uc608 \\uc790\\uaca9 \\ubd80\\uc5ec, \\uc758\\ubb34\\uad50\\uc721 \\uc774\\uc218 \\uba74\\uc81c, \\ud3ec\\uc0c1\\uae08 \\uc9c0\\uae09 \\ub4f1\",\n          \"\\uc5f4\\ub78c\\uacfc \\uc774\\uc758\\uc81c\\uae30 \\uad8c\\ub9ac \\ud589\\uc0ac\\ubc29\\ubc95\"\n        ],\n        \"semantic_type\": \"\",\n        \"description\": \"\"\n      }\n    }\n  ]\n}"
            }
          },
          "metadata": {},
          "execution_count": 7
        }
      ],
      "source": [
        "df.columns = [\"id\",\"input\",\"instruction\",\"output\"]\n",
        "df=df.drop(columns=['id'])\n",
        "df.head(2)"
      ]
    },
    {
      "cell_type": "code",
      "execution_count": null,
      "metadata": {
        "colab": {
          "base_uri": "https://localhost:8080/"
        },
        "executionInfo": {
          "elapsed": 752,
          "status": "ok",
          "timestamp": 1723631110905,
          "user": {
            "displayName": "joha dae",
            "userId": "03564021945157250655"
          },
          "user_tz": -540
        },
        "id": "djqHKYmP_Jy2",
        "outputId": "2fa321c4-df81-494f-dbb0-7ff52effd9ee"
      },
      "outputs": [
        {
          "output_type": "execute_result",
          "data": {
            "text/plain": [
              "Dataset({\n",
              "    features: ['input', 'instruction', 'output', '__index_level_0__'],\n",
              "    num_rows: 28574\n",
              "})"
            ]
          },
          "metadata": {},
          "execution_count": 8
        }
      ],
      "source": [
        "dataset = Dataset.from_pandas(df)\n",
        "dataset"
      ]
    },
    {
      "cell_type": "markdown",
      "metadata": {
        "id": "loLyvV8VXxq_"
      },
      "source": [
        "라이브러리 선언"
      ]
    },
    {
      "cell_type": "code",
      "execution_count": null,
      "metadata": {
        "colab": {
          "base_uri": "https://localhost:8080/"
        },
        "executionInfo": {
          "elapsed": 58338,
          "status": "ok",
          "timestamp": 1723631169241,
          "user": {
            "displayName": "joha dae",
            "userId": "03564021945157250655"
          },
          "user_tz": -540
        },
        "id": "YSkllA7uAK8W",
        "outputId": "34485f53-fbe6-4296-ad10-6742233a8668"
      },
      "outputs": [
        {
          "output_type": "stream",
          "name": "stdout",
          "text": [
            "Collecting accelerate==0.29.3\n",
            "  Downloading accelerate-0.29.3-py3-none-any.whl.metadata (18 kB)\n",
            "Collecting peft==0.10.0\n",
            "  Downloading peft-0.10.0-py3-none-any.whl.metadata (13 kB)\n",
            "Collecting bitsandbytes==0.43.1\n",
            "  Downloading bitsandbytes-0.43.1-py3-none-manylinux_2_24_x86_64.whl.metadata (2.2 kB)\n",
            "Collecting transformers==4.40.1\n",
            "  Downloading transformers-4.40.1-py3-none-any.whl.metadata (137 kB)\n",
            "\u001b[2K     \u001b[90m━━━━━━━━━━━━━━━━━━━━━━━━━━━━━━━━━━━━━━━━\u001b[0m \u001b[32m138.0/138.0 kB\u001b[0m \u001b[31m14.0 MB/s\u001b[0m eta \u001b[36m0:00:00\u001b[0m\n",
            "\u001b[?25hCollecting trl==0.8.6\n",
            "  Downloading trl-0.8.6-py3-none-any.whl.metadata (11 kB)\n",
            "Requirement already satisfied: numpy>=1.17 in /usr/local/lib/python3.10/dist-packages (from accelerate==0.29.3) (1.26.4)\n",
            "Requirement already satisfied: packaging>=20.0 in /usr/local/lib/python3.10/dist-packages (from accelerate==0.29.3) (24.1)\n",
            "Requirement already satisfied: psutil in /usr/local/lib/python3.10/dist-packages (from accelerate==0.29.3) (5.9.5)\n",
            "Requirement already satisfied: pyyaml in /usr/local/lib/python3.10/dist-packages (from accelerate==0.29.3) (6.0.2)\n",
            "Requirement already satisfied: torch>=1.10.0 in /usr/local/lib/python3.10/dist-packages (from accelerate==0.29.3) (2.3.1+cu121)\n",
            "Requirement already satisfied: huggingface-hub in /usr/local/lib/python3.10/dist-packages (from accelerate==0.29.3) (0.23.5)\n",
            "Requirement already satisfied: safetensors>=0.3.1 in /usr/local/lib/python3.10/dist-packages (from accelerate==0.29.3) (0.4.4)\n",
            "Requirement already satisfied: tqdm in /usr/local/lib/python3.10/dist-packages (from peft==0.10.0) (4.66.5)\n",
            "Requirement already satisfied: filelock in /usr/local/lib/python3.10/dist-packages (from transformers==4.40.1) (3.15.4)\n",
            "Requirement already satisfied: regex!=2019.12.17 in /usr/local/lib/python3.10/dist-packages (from transformers==4.40.1) (2024.5.15)\n",
            "Requirement already satisfied: requests in /usr/local/lib/python3.10/dist-packages (from transformers==4.40.1) (2.32.3)\n",
            "Requirement already satisfied: tokenizers<0.20,>=0.19 in /usr/local/lib/python3.10/dist-packages (from transformers==4.40.1) (0.19.1)\n",
            "Requirement already satisfied: datasets in /usr/local/lib/python3.10/dist-packages (from trl==0.8.6) (2.19.0)\n",
            "Collecting tyro>=0.5.11 (from trl==0.8.6)\n",
            "  Downloading tyro-0.8.6-py3-none-any.whl.metadata (8.4 kB)\n",
            "Requirement already satisfied: fsspec>=2023.5.0 in /usr/local/lib/python3.10/dist-packages (from huggingface-hub->accelerate==0.29.3) (2024.3.1)\n",
            "Requirement already satisfied: typing-extensions>=3.7.4.3 in /usr/local/lib/python3.10/dist-packages (from huggingface-hub->accelerate==0.29.3) (4.12.2)\n",
            "Requirement already satisfied: sympy in /usr/local/lib/python3.10/dist-packages (from torch>=1.10.0->accelerate==0.29.3) (1.13.1)\n",
            "Requirement already satisfied: networkx in /usr/local/lib/python3.10/dist-packages (from torch>=1.10.0->accelerate==0.29.3) (3.3)\n",
            "Requirement already satisfied: jinja2 in /usr/local/lib/python3.10/dist-packages (from torch>=1.10.0->accelerate==0.29.3) (3.1.4)\n",
            "Collecting nvidia-cuda-nvrtc-cu12==12.1.105 (from torch>=1.10.0->accelerate==0.29.3)\n",
            "  Using cached nvidia_cuda_nvrtc_cu12-12.1.105-py3-none-manylinux1_x86_64.whl.metadata (1.5 kB)\n",
            "Collecting nvidia-cuda-runtime-cu12==12.1.105 (from torch>=1.10.0->accelerate==0.29.3)\n",
            "  Using cached nvidia_cuda_runtime_cu12-12.1.105-py3-none-manylinux1_x86_64.whl.metadata (1.5 kB)\n",
            "Collecting nvidia-cuda-cupti-cu12==12.1.105 (from torch>=1.10.0->accelerate==0.29.3)\n",
            "  Using cached nvidia_cuda_cupti_cu12-12.1.105-py3-none-manylinux1_x86_64.whl.metadata (1.6 kB)\n",
            "Collecting nvidia-cudnn-cu12==8.9.2.26 (from torch>=1.10.0->accelerate==0.29.3)\n",
            "  Using cached nvidia_cudnn_cu12-8.9.2.26-py3-none-manylinux1_x86_64.whl.metadata (1.6 kB)\n",
            "Collecting nvidia-cublas-cu12==12.1.3.1 (from torch>=1.10.0->accelerate==0.29.3)\n",
            "  Using cached nvidia_cublas_cu12-12.1.3.1-py3-none-manylinux1_x86_64.whl.metadata (1.5 kB)\n",
            "Collecting nvidia-cufft-cu12==11.0.2.54 (from torch>=1.10.0->accelerate==0.29.3)\n",
            "  Using cached nvidia_cufft_cu12-11.0.2.54-py3-none-manylinux1_x86_64.whl.metadata (1.5 kB)\n",
            "Collecting nvidia-curand-cu12==10.3.2.106 (from torch>=1.10.0->accelerate==0.29.3)\n",
            "  Using cached nvidia_curand_cu12-10.3.2.106-py3-none-manylinux1_x86_64.whl.metadata (1.5 kB)\n",
            "Collecting nvidia-cusolver-cu12==11.4.5.107 (from torch>=1.10.0->accelerate==0.29.3)\n",
            "  Using cached nvidia_cusolver_cu12-11.4.5.107-py3-none-manylinux1_x86_64.whl.metadata (1.6 kB)\n",
            "Collecting nvidia-cusparse-cu12==12.1.0.106 (from torch>=1.10.0->accelerate==0.29.3)\n",
            "  Using cached nvidia_cusparse_cu12-12.1.0.106-py3-none-manylinux1_x86_64.whl.metadata (1.6 kB)\n",
            "Collecting nvidia-nccl-cu12==2.20.5 (from torch>=1.10.0->accelerate==0.29.3)\n",
            "  Using cached nvidia_nccl_cu12-2.20.5-py3-none-manylinux2014_x86_64.whl.metadata (1.8 kB)\n",
            "Collecting nvidia-nvtx-cu12==12.1.105 (from torch>=1.10.0->accelerate==0.29.3)\n",
            "  Using cached nvidia_nvtx_cu12-12.1.105-py3-none-manylinux1_x86_64.whl.metadata (1.7 kB)\n",
            "Requirement already satisfied: triton==2.3.1 in /usr/local/lib/python3.10/dist-packages (from torch>=1.10.0->accelerate==0.29.3) (2.3.1)\n",
            "Collecting nvidia-nvjitlink-cu12 (from nvidia-cusolver-cu12==11.4.5.107->torch>=1.10.0->accelerate==0.29.3)\n",
            "  Using cached nvidia_nvjitlink_cu12-12.6.20-py3-none-manylinux2014_x86_64.whl.metadata (1.5 kB)\n",
            "Requirement already satisfied: docstring-parser>=0.16 in /usr/local/lib/python3.10/dist-packages (from tyro>=0.5.11->trl==0.8.6) (0.16)\n",
            "Requirement already satisfied: rich>=11.1.0 in /usr/local/lib/python3.10/dist-packages (from tyro>=0.5.11->trl==0.8.6) (13.7.1)\n",
            "Collecting shtab>=1.5.6 (from tyro>=0.5.11->trl==0.8.6)\n",
            "  Downloading shtab-1.7.1-py3-none-any.whl.metadata (7.3 kB)\n",
            "Requirement already satisfied: pyarrow>=12.0.0 in /usr/local/lib/python3.10/dist-packages (from datasets->trl==0.8.6) (14.0.2)\n",
            "Requirement already satisfied: pyarrow-hotfix in /usr/local/lib/python3.10/dist-packages (from datasets->trl==0.8.6) (0.6)\n",
            "Requirement already satisfied: dill<0.3.9,>=0.3.0 in /usr/local/lib/python3.10/dist-packages (from datasets->trl==0.8.6) (0.3.8)\n",
            "Requirement already satisfied: pandas in /usr/local/lib/python3.10/dist-packages (from datasets->trl==0.8.6) (2.1.4)\n",
            "Requirement already satisfied: xxhash in /usr/local/lib/python3.10/dist-packages (from datasets->trl==0.8.6) (3.4.1)\n",
            "Requirement already satisfied: multiprocess in /usr/local/lib/python3.10/dist-packages (from datasets->trl==0.8.6) (0.70.16)\n",
            "Requirement already satisfied: aiohttp in /usr/local/lib/python3.10/dist-packages (from datasets->trl==0.8.6) (3.10.1)\n",
            "Requirement already satisfied: charset-normalizer<4,>=2 in /usr/local/lib/python3.10/dist-packages (from requests->transformers==4.40.1) (3.3.2)\n",
            "Requirement already satisfied: idna<4,>=2.5 in /usr/local/lib/python3.10/dist-packages (from requests->transformers==4.40.1) (3.7)\n",
            "Requirement already satisfied: urllib3<3,>=1.21.1 in /usr/local/lib/python3.10/dist-packages (from requests->transformers==4.40.1) (2.0.7)\n",
            "Requirement already satisfied: certifi>=2017.4.17 in /usr/local/lib/python3.10/dist-packages (from requests->transformers==4.40.1) (2024.7.4)\n",
            "Requirement already satisfied: aiohappyeyeballs>=2.3.0 in /usr/local/lib/python3.10/dist-packages (from aiohttp->datasets->trl==0.8.6) (2.3.4)\n",
            "Requirement already satisfied: aiosignal>=1.1.2 in /usr/local/lib/python3.10/dist-packages (from aiohttp->datasets->trl==0.8.6) (1.3.1)\n",
            "Requirement already satisfied: attrs>=17.3.0 in /usr/local/lib/python3.10/dist-packages (from aiohttp->datasets->trl==0.8.6) (24.2.0)\n",
            "Requirement already satisfied: frozenlist>=1.1.1 in /usr/local/lib/python3.10/dist-packages (from aiohttp->datasets->trl==0.8.6) (1.4.1)\n",
            "Requirement already satisfied: multidict<7.0,>=4.5 in /usr/local/lib/python3.10/dist-packages (from aiohttp->datasets->trl==0.8.6) (6.0.5)\n",
            "Requirement already satisfied: yarl<2.0,>=1.0 in /usr/local/lib/python3.10/dist-packages (from aiohttp->datasets->trl==0.8.6) (1.9.4)\n",
            "Requirement already satisfied: async-timeout<5.0,>=4.0 in /usr/local/lib/python3.10/dist-packages (from aiohttp->datasets->trl==0.8.6) (4.0.3)\n",
            "Requirement already satisfied: markdown-it-py>=2.2.0 in /usr/local/lib/python3.10/dist-packages (from rich>=11.1.0->tyro>=0.5.11->trl==0.8.6) (3.0.0)\n",
            "Requirement already satisfied: pygments<3.0.0,>=2.13.0 in /usr/local/lib/python3.10/dist-packages (from rich>=11.1.0->tyro>=0.5.11->trl==0.8.6) (2.16.1)\n",
            "Requirement already satisfied: MarkupSafe>=2.0 in /usr/local/lib/python3.10/dist-packages (from jinja2->torch>=1.10.0->accelerate==0.29.3) (2.1.5)\n",
            "Requirement already satisfied: python-dateutil>=2.8.2 in /usr/local/lib/python3.10/dist-packages (from pandas->datasets->trl==0.8.6) (2.8.2)\n",
            "Requirement already satisfied: pytz>=2020.1 in /usr/local/lib/python3.10/dist-packages (from pandas->datasets->trl==0.8.6) (2024.1)\n",
            "Requirement already satisfied: tzdata>=2022.1 in /usr/local/lib/python3.10/dist-packages (from pandas->datasets->trl==0.8.6) (2024.1)\n",
            "Requirement already satisfied: mpmath<1.4,>=1.1.0 in /usr/local/lib/python3.10/dist-packages (from sympy->torch>=1.10.0->accelerate==0.29.3) (1.3.0)\n",
            "Requirement already satisfied: mdurl~=0.1 in /usr/local/lib/python3.10/dist-packages (from markdown-it-py>=2.2.0->rich>=11.1.0->tyro>=0.5.11->trl==0.8.6) (0.1.2)\n",
            "Requirement already satisfied: six>=1.5 in /usr/local/lib/python3.10/dist-packages (from python-dateutil>=2.8.2->pandas->datasets->trl==0.8.6) (1.16.0)\n",
            "Downloading accelerate-0.29.3-py3-none-any.whl (297 kB)\n",
            "\u001b[2K   \u001b[90m━━━━━━━━━━━━━━━━━━━━━━━━━━━━━━━━━━━━━━━━\u001b[0m \u001b[32m297.6/297.6 kB\u001b[0m \u001b[31m21.4 MB/s\u001b[0m eta \u001b[36m0:00:00\u001b[0m\n",
            "\u001b[?25hDownloading peft-0.10.0-py3-none-any.whl (199 kB)\n",
            "\u001b[2K   \u001b[90m━━━━━━━━━━━━━━━━━━━━━━━━━━━━━━━━━━━━━━━━\u001b[0m \u001b[32m199.1/199.1 kB\u001b[0m \u001b[31m18.9 MB/s\u001b[0m eta \u001b[36m0:00:00\u001b[0m\n",
            "\u001b[?25hDownloading bitsandbytes-0.43.1-py3-none-manylinux_2_24_x86_64.whl (119.8 MB)\n",
            "\u001b[2K   \u001b[90m━━━━━━━━━━━━━━━━━━━━━━━━━━━━━━━━━━━━━━━━\u001b[0m \u001b[32m119.8/119.8 MB\u001b[0m \u001b[31m13.7 MB/s\u001b[0m eta \u001b[36m0:00:00\u001b[0m\n",
            "\u001b[?25hDownloading transformers-4.40.1-py3-none-any.whl (9.0 MB)\n",
            "\u001b[2K   \u001b[90m━━━━━━━━━━━━━━━━━━━━━━━━━━━━━━━━━━━━━━━━\u001b[0m \u001b[32m9.0/9.0 MB\u001b[0m \u001b[31m94.6 MB/s\u001b[0m eta \u001b[36m0:00:00\u001b[0m\n",
            "\u001b[?25hDownloading trl-0.8.6-py3-none-any.whl (245 kB)\n",
            "\u001b[2K   \u001b[90m━━━━━━━━━━━━━━━━━━━━━━━━━━━━━━━━━━━━━━━━\u001b[0m \u001b[32m245.2/245.2 kB\u001b[0m \u001b[31m22.9 MB/s\u001b[0m eta \u001b[36m0:00:00\u001b[0m\n",
            "\u001b[?25hUsing cached nvidia_cublas_cu12-12.1.3.1-py3-none-manylinux1_x86_64.whl (410.6 MB)\n",
            "Using cached nvidia_cuda_cupti_cu12-12.1.105-py3-none-manylinux1_x86_64.whl (14.1 MB)\n",
            "Using cached nvidia_cuda_nvrtc_cu12-12.1.105-py3-none-manylinux1_x86_64.whl (23.7 MB)\n",
            "Using cached nvidia_cuda_runtime_cu12-12.1.105-py3-none-manylinux1_x86_64.whl (823 kB)\n",
            "Using cached nvidia_cudnn_cu12-8.9.2.26-py3-none-manylinux1_x86_64.whl (731.7 MB)\n",
            "Using cached nvidia_cufft_cu12-11.0.2.54-py3-none-manylinux1_x86_64.whl (121.6 MB)\n",
            "Using cached nvidia_curand_cu12-10.3.2.106-py3-none-manylinux1_x86_64.whl (56.5 MB)\n",
            "Using cached nvidia_cusolver_cu12-11.4.5.107-py3-none-manylinux1_x86_64.whl (124.2 MB)\n",
            "Using cached nvidia_cusparse_cu12-12.1.0.106-py3-none-manylinux1_x86_64.whl (196.0 MB)\n",
            "Using cached nvidia_nccl_cu12-2.20.5-py3-none-manylinux2014_x86_64.whl (176.2 MB)\n",
            "Using cached nvidia_nvtx_cu12-12.1.105-py3-none-manylinux1_x86_64.whl (99 kB)\n",
            "Downloading tyro-0.8.6-py3-none-any.whl (103 kB)\n",
            "\u001b[2K   \u001b[90m━━━━━━━━━━━━━━━━━━━━━━━━━━━━━━━━━━━━━━━━\u001b[0m \u001b[32m103.8/103.8 kB\u001b[0m \u001b[31m136.8 kB/s\u001b[0m eta \u001b[36m0:00:00\u001b[0m\n",
            "\u001b[?25hDownloading shtab-1.7.1-py3-none-any.whl (14 kB)\n",
            "Using cached nvidia_nvjitlink_cu12-12.6.20-py3-none-manylinux2014_x86_64.whl (19.7 MB)\n",
            "Installing collected packages: shtab, nvidia-nvtx-cu12, nvidia-nvjitlink-cu12, nvidia-nccl-cu12, nvidia-curand-cu12, nvidia-cufft-cu12, nvidia-cuda-runtime-cu12, nvidia-cuda-nvrtc-cu12, nvidia-cuda-cupti-cu12, nvidia-cublas-cu12, nvidia-cusparse-cu12, nvidia-cudnn-cu12, tyro, nvidia-cusolver-cu12, transformers, bitsandbytes, accelerate, trl, peft\n",
            "  Attempting uninstall: transformers\n",
            "    Found existing installation: transformers 4.42.4\n",
            "    Uninstalling transformers-4.42.4:\n",
            "      Successfully uninstalled transformers-4.42.4\n",
            "  Attempting uninstall: accelerate\n",
            "    Found existing installation: accelerate 0.32.1\n",
            "    Uninstalling accelerate-0.32.1:\n",
            "      Successfully uninstalled accelerate-0.32.1\n",
            "Successfully installed accelerate-0.29.3 bitsandbytes-0.43.1 nvidia-cublas-cu12-12.1.3.1 nvidia-cuda-cupti-cu12-12.1.105 nvidia-cuda-nvrtc-cu12-12.1.105 nvidia-cuda-runtime-cu12-12.1.105 nvidia-cudnn-cu12-8.9.2.26 nvidia-cufft-cu12-11.0.2.54 nvidia-curand-cu12-10.3.2.106 nvidia-cusolver-cu12-11.4.5.107 nvidia-cusparse-cu12-12.1.0.106 nvidia-nccl-cu12-2.20.5 nvidia-nvjitlink-cu12-12.6.20 nvidia-nvtx-cu12-12.1.105 peft-0.10.0 shtab-1.7.1 transformers-4.40.1 trl-0.8.6 tyro-0.8.6\n"
          ]
        }
      ],
      "source": [
        "!pip install -U accelerate==0.29.3 peft==0.10.0 bitsandbytes==0.43.1 transformers==4.40.1 trl==0.8.6"
      ]
    },
    {
      "cell_type": "code",
      "execution_count": null,
      "metadata": {
        "id": "MmYu2KXfXvoA"
      },
      "outputs": [],
      "source": [
        "import os\n",
        "import torch\n",
        "from datasets import load_dataset\n",
        "\n",
        "from transformers import (\n",
        "    AutoModelForCausalLM,\n",
        "    AutoTokenizer,\n",
        "    BitsAndBytesConfig,\n",
        "    TrainingArguments,\n",
        "    pipeline,\n",
        "    logging\n",
        ")\n",
        "from peft import LoraConfig\n",
        "from trl import SFTTrainer"
      ]
    },
    {
      "cell_type": "markdown",
      "metadata": {
        "id": "NG-5-OHPqDkq"
      },
      "source": [
        "2. 모델 설정"
      ]
    },
    {
      "cell_type": "code",
      "execution_count": null,
      "metadata": {
        "id": "HLc8W0uKTZFH"
      },
      "outputs": [],
      "source": [
        "# Hugging Face Basic Model\n",
        "base_model = \"NousResearch/Nous-Hermes-2-SOLAR-10.7B\""
      ]
    },
    {
      "cell_type": "markdown",
      "metadata": {
        "id": "YfrgmBBxmpps"
      },
      "source": [
        "3. 데이터 불러오기 (훈련)"
      ]
    },
    {
      "cell_type": "code",
      "execution_count": null,
      "metadata": {
        "id": "zSPJ_SYQFm_3"
      },
      "outputs": [],
      "source": [
        "# 솔라 포맷으로 변환하는 함수\n",
        "### System:\\n{input}\\n\\n### User:\\n{instruction}\\n### Assistant:\\n\n",
        "\n",
        "def convert_to_solar_format(dataset):\n",
        "    input=dataset['input']\n",
        "    instruction = dataset['instruction']\n",
        "    output = dataset['output']\n",
        "\n",
        "    prompt = f\"<s>### System:\\n{input}\\n\\n### User:\\n{instruction}\\n### Assistant:\\n{output}</s>\"\n",
        "\n",
        "    return {'prompt': prompt}"
      ]
    },
    {
      "cell_type": "code",
      "execution_count": null,
      "metadata": {
        "colab": {
          "base_uri": "https://localhost:8080/",
          "height": 49,
          "referenced_widgets": [
            "5c70e45f36164fe887cfc86d501a2c4e",
            "5322ea5ea5e5453fa4178eeabd11189f",
            "2e87b353f27c4dbca52ee162bca990ea",
            "14dcfcf1816549a4b8b09b5839a70d32",
            "83e8723f1297453891a5771cfa1c54a2",
            "c8602a40b2cb4d6483dc0135bfc6782a",
            "bca63a57f5114048bb99e185af3108df",
            "71926dff7d684bf0970b8f50e49fceff",
            "fdf3b08792d34e7d89d632e987b5968b",
            "9b18c0bcc7314c32be4024bbdc93fc5e",
            "87c3e3da56214a95b7912b9fe8c8655d"
          ]
        },
        "executionInfo": {
          "elapsed": 2439,
          "status": "ok",
          "timestamp": 1723631181039,
          "user": {
            "displayName": "joha dae",
            "userId": "03564021945157250655"
          },
          "user_tz": -540
        },
        "id": "DNf9cj2XBalI",
        "outputId": "2348f18c-923f-435e-d6ed-f36120f369aa"
      },
      "outputs": [
        {
          "output_type": "display_data",
          "data": {
            "text/plain": [
              "Map:   0%|          | 0/28574 [00:00<?, ? examples/s]"
            ],
            "application/vnd.jupyter.widget-view+json": {
              "version_major": 2,
              "version_minor": 0,
              "model_id": "5c70e45f36164fe887cfc86d501a2c4e"
            }
          },
          "metadata": {}
        }
      ],
      "source": [
        "# 데이터셋을 SOLAR 포맷으로 변환\n",
        "solar_dataset = dataset.map(convert_to_solar_format, remove_columns=['__index_level_0__','input','instruction', 'output'])"
      ]
    },
    {
      "cell_type": "code",
      "execution_count": null,
      "metadata": {
        "colab": {
          "base_uri": "https://localhost:8080/"
        },
        "executionInfo": {
          "elapsed": 4,
          "status": "ok",
          "timestamp": 1723631181040,
          "user": {
            "displayName": "joha dae",
            "userId": "03564021945157250655"
          },
          "user_tz": -540
        },
        "id": "HUGQtOgsGFk_",
        "outputId": "a3fca4d5-2aa9-4c4a-81f5-5ca1d882d293"
      },
      "outputs": [
        {
          "output_type": "stream",
          "name": "stdout",
          "text": [
            "{'prompt': '<s>### System:\\n\\n\\n 르노그룹이 지분 약 80%를 보유한 자회사 르노삼성자동차의 경영실적 부진에 대해 비용 절감 등 고강도 자구책을 주문하고 나섰다. \\n\\n \\n\\n 17일 르노그룹에 따르면 지난 14일(현지시간) 프랑스 본사에서 그룹 경쟁력 강화를 위해 수익성을 중심으로 경영 전략을 전환하는 그룹의 새로운 경영전략안인 ‘르놀루션’을 발표했다. \\n\\n \\n\\n 그룹이 이 같은 경영전략안을 내놓게 된 것은 코로나19 여파로 인해 메르세데스-벤츠, BMW 등 글로벌 자동차 업체들이 판매부진을 겪고 있는 상황에서 르노그룹도 수조 원의 적자를 내는 등 경영에 어려움을 겪고 있는 것과 무관치 않다. \\n\\n \\n\\n 이날 내놓은 경영전략안에는 수익성 확보를 위한 다양한 방안과 함께 그룹 산하 조직별로 경쟁력과 비용 등을 책임진다는 내용이 포함됐다. 특히 르노삼성차가 있는 한국을 포함해 인도, 라틴아메리카를 현재보다 수익성을 더욱 강화해야 할 국가로 지목하면서 부산공장에 미칠 파장이 적지 않을 것으로 보인다. \\n\\n \\n\\n 르노삼성차는 지난해 수출이 77.7% 급감하면서 700억 원 안팎의 적자를 낸 것으로 알려졌다. 이는 8년 만의 적자로, 2014년 이후 부산공장에서 생산되며 수출 효자 노릇을 한 닛산 ‘로그’가 지난해 3월부터 생산라인에서 빠진 것이 영향을 미쳤다. \\n\\n \\n\\n 이 같은 실적 부진과 관련, 르노삼성차 측은 최근 전체 임원을 40%가량 줄이고 급여도 20% 삭감하기로 했다. 향후 비용 절감을 위한 구조조정도 불가피할 것으로 보여 노조와의 충돌도 예상된다. \\n\\n \\n\\n 르노삼성차 관계자는 “2011~2012년 대규모 적자에도 신차 개발 등으로 회생을 한 만큼 이번에도 잘 극복해 나갈 것”이라고 말했다.\\n\\n### User:\\n실적 부진으로 인해 르노그룹에서 자구책을 세운 대상은 어디야\\n### Assistant:\\n르노삼성자동차</s>'}\n"
          ]
        }
      ],
      "source": [
        "print(solar_dataset[1])"
      ]
    },
    {
      "cell_type": "markdown",
      "metadata": {
        "id": "QzcpgpBWwWZN"
      },
      "source": []
    },
    {
      "cell_type": "markdown",
      "metadata": {
        "id": "Wz2mmVOHpahf"
      },
      "source": [
        "**4**. 4비트 양자화 QLoRA 파인튜닝 (효율성) * 파라미터를 고정 시키고 추가데이터만 튜닝"
      ]
    },
    {
      "cell_type": "code",
      "execution_count": null,
      "metadata": {
        "executionInfo": {
          "elapsed": 18273,
          "status": "ok",
          "timestamp": 1723631199310,
          "user": {
            "displayName": "joha dae",
            "userId": "03564021945157250655"
          },
          "user_tz": -540
        },
        "id": "jGsp1xxjsIMz",
        "colab": {
          "base_uri": "https://localhost:8080/"
        },
        "outputId": "5e445ad8-10d7-4da0-f3e6-9671339190fd"
      },
      "outputs": [
        {
          "output_type": "stream",
          "name": "stdout",
          "text": [
            "\u001b[?25l     \u001b[90m━━━━━━━━━━━━━━━━━━━━━━━━━━━━━━━━━━━━━━━━\u001b[0m \u001b[32m0.0/2.6 MB\u001b[0m \u001b[31m?\u001b[0m eta \u001b[36m-:--:--\u001b[0m\r\u001b[2K     \u001b[91m━━━━━━━━━━━━━━━━━━━━━━━━━━━━━━━━━━━━━━━\u001b[0m\u001b[91m╸\u001b[0m \u001b[32m2.6/2.6 MB\u001b[0m \u001b[31m163.4 MB/s\u001b[0m eta \u001b[36m0:00:01\u001b[0m\r\u001b[2K     \u001b[90m━━━━━━━━━━━━━━━━━━━━━━━━━━━━━━━━━━━━━━━━\u001b[0m \u001b[32m2.6/2.6 MB\u001b[0m \u001b[31m72.5 MB/s\u001b[0m eta \u001b[36m0:00:00\u001b[0m\n",
            "\u001b[?25h  Preparing metadata (setup.py) ... \u001b[?25l\u001b[?25hdone\n",
            "  Building wheel for flash-attn (setup.py) ... \u001b[?25l\u001b[?25hdone\n"
          ]
        }
      ],
      "source": [
        "# GPU의 Compute Capability가 8 이상이면 최신의 고성능 GPU로 간주\n",
        "if torch.cuda.get_device_capability()[0] >= 8:  # 현재 사용 중인 CUDA 장치(GPU)의 Compute Capability를 반환. 이 반환 값은 (major, minor) 형식의 튜플로, 여기서 major 값이 8 이상인지를 체크\n",
        "  !pip install -qqq flash-attn  # Flash Attention은 성능을 극대화하기 위한 고효율 어텐션 구현\n",
        "  attn_implementation = \"flash_attention_2\"  # Flash Attention v2를 사용하도록 설정\n",
        "  torch_dtype = torch.bfloat16  # 데이터 타입으로 bfloat16을 사용. bfloat16은 메모리 사용량을 줄이면서도 성능을 유지할 수 있는 데이터 타입\n",
        "else:\n",
        "  attn_implementation = \"eahf_YLtfLFonsXPkjgBnlFlieNGJBCYvKFCAqUger\"  # Eager 모드의 어텐션 구현을 사용. 이는 더 낮은 성능의 GPU에서도 호환됨\n",
        "  torch_dtype = torch.float16  # 데이터 타입으로 float16을 사용. 이는 일반적인 반정밀도(float16) 데이터 타입\n",
        "\n",
        "\n",
        "### QLoRa config\n",
        "quant_config = BitsAndBytesConfig(\n",
        "    load_in_4bit=True,  # 모델을 4비트 정밀도로 로드. 이는 모델의 메모리 사용량을 크게 줄일 수 있음\n",
        "    bnb_4bit_quant_type=\"nf4\",  # 4비트 양자화 타입을 nf4로 설정. nf4는 특정 양자화 기법을 의미\n",
        "    bnb_4bit_compute_dtype=torch_dtype,  # 계산에 사용할 데이터 타입을 위에서 선택한 torch.float16 으로 설정. GPU 성능에 따라 bfloat16일 수도 있음\n",
        "    bnb_4bit_use_double_quant=False,  # 더블 양자화를 사용하지 않음. 더블 양자화는 두 단계로 양자화하는 기법\n",
        ")"
      ]
    },
    {
      "cell_type": "markdown",
      "metadata": {
        "id": "X-T9vT3mBr0J"
      },
      "source": [
        "### 5. 모델 불러오기"
      ]
    },
    {
      "cell_type": "code",
      "execution_count": 16,
      "metadata": {
        "colab": {
          "base_uri": "https://localhost:8080/",
          "height": 692,
          "referenced_widgets": [
            "74f138c403614393a1309bf0a1a667bd",
            "d3d0035ae6374e49b193708efea55dd4",
            "d60dd19a1be44f34867d3143d67fc564",
            "6b70050e35c8413887e5dc2df5e11bfc",
            "ea932bf4f93e47688a09672603deb60f",
            "2aa37fe99916452b96e1e044a2799448",
            "4f158b93a51f422f8e88333255266cf2",
            "ecd1a2d9017f4a3ebf4fbde6a8cc3e80",
            "23579acbd4b542489cd4dccd14078a80",
            "7f4792649ae8491c84d776710e9af9f4",
            "dc7caadd10234dd6b8669cb80656197b",
            "090f08d0c5854233bd41cfb096a87c19",
            "5729a977b7634bb79c109dfa00e9e7b9",
            "044eef4179874d11929d8f3dc9cee7d9",
            "ac46805f7b9d4b8388547d02c53d881d",
            "b5dec53e5d6940ca8256a7896183fb2b",
            "0ee61ea42f734d8e93c55f57fc1b44ea",
            "50983b942f4f437a85d0517576d76077",
            "a05887e5d7f94ca5be177c9c818e22f7",
            "28be9f3a8c61437fb6add3047eded613",
            "4347aa77d899492397d2b868a6185d28",
            "296da8311c0045b6b4ec7fcc64218d32",
            "6876fb55398e4c0fbb6a120730fbab2f",
            "d7b0dc8043c6432eb7f32e3062a02ca4",
            "03341d5121624b8982e812a42268023c",
            "b781c4d09dfb4befbdc49436db7f1380",
            "aa62e62a205d4f358197c65eecc16f82",
            "a5910e860bf34203a04c59f4c3371c5b",
            "80f51a87716440128e8516023c1a95af",
            "524c55d6982d411c9112f1785be806d7",
            "b5a2a0433780412fba01cb5d71e834d9",
            "88c29ab960ef47b6b9f69ed9ea65378f",
            "3d37d46a01c848e4978bb85e101bdc0e",
            "552862e28fff45c78e418d81eb9e2a02",
            "224af5d34cad4809af05935ad6eeced7",
            "11f9d05407e64214a3180369d4770513",
            "10296915880f4fbd8e305d2a0dbe68d0",
            "3a8e5211b6774acbab708b61b0d00f3c",
            "3c964d028303444baa5c6da91280d084",
            "4f99302c678447dfb5b5bdbb9c08b4dc",
            "cceb27c13a524460864a775f0a96a671",
            "ee05869b9d34417099427dfeda6137fb",
            "2e14fc9039644012b64ded5c9777dd26",
            "de8b305d85c7481abd9644aa767d0a3a",
            "7371868d045a43c9acf1375807219232",
            "30980b3fc8c346ec9b6a21386a588ee7",
            "eac5d2d12b564a6ea3ca8277ac0e5474",
            "7095f1d7acb54b54a08274ee7aff4742",
            "70f82a9c8c2f48b3a7a0750836b7388b",
            "cca2ee4fdb90409caa151fabbb50e39f",
            "0dbd81dfaf32492b8cd1dbff584abf30",
            "0170eb89067b4e759a44cc8319416b0b",
            "a17b6c5e4b724e1a85ca082fb01c7bd3",
            "83404275ed7a408aafe5afff93bb95c2",
            "d9343b36c6af47e28e64ce9b52070ddb"
          ]
        },
        "id": "4MzdYalJBruZ",
        "outputId": "349554cb-5a77-48f4-f926-2bcd27b1977f",
        "executionInfo": {
          "status": "error",
          "timestamp": 1723632207943,
          "user_tz": -540,
          "elapsed": 49754,
          "user": {
            "displayName": "joha dae",
            "userId": "03564021945157250655"
          }
        }
      },
      "outputs": [
        {
          "metadata": {
            "tags": null
          },
          "name": "stderr",
          "output_type": "stream",
          "text": [
            "/usr/local/lib/python3.10/dist-packages/huggingface_hub/file_download.py:1132: FutureWarning: `resume_download` is deprecated and will be removed in version 1.0.0. Downloads always resume when possible. If you want to force a new download, use `force_download=True`.\n",
            "  warnings.warn(\n",
            "/usr/local/lib/python3.10/dist-packages/huggingface_hub/utils/_token.py:89: UserWarning: \n",
            "The secret `HF_TOKEN` does not exist in your Colab secrets.\n",
            "To authenticate with the Hugging Face Hub, create a token in your settings tab (https://huggingface.co/settings/tokens), set it as secret in your Google Colab and restart your session.\n",
            "You will be able to reuse this secret in all of your notebooks.\n",
            "Please note that authentication is recommended but still optional to access public models or datasets.\n",
            "  warnings.warn(\n"
          ]
        },
        {
          "data": {
            "application/vnd.jupyter.widget-view+json": {
              "model_id": "74f138c403614393a1309bf0a1a667bd",
              "version_major": 2,
              "version_minor": 0
            },
            "text/plain": [
              "config.json:   0%|          | 0.00/694 [00:00<?, ?B/s]"
            ]
          },
          "metadata": {},
          "output_type": "display_data"
        },
        {
          "data": {
            "application/vnd.jupyter.widget-view+json": {
              "model_id": "090f08d0c5854233bd41cfb096a87c19",
              "version_major": 2,
              "version_minor": 0
            },
            "text/plain": [
              "model.safetensors.index.json:   0%|          | 0.00/35.8k [00:00<?, ?B/s]"
            ]
          },
          "metadata": {},
          "output_type": "display_data"
        },
        {
          "data": {
            "application/vnd.jupyter.widget-view+json": {
              "model_id": "6876fb55398e4c0fbb6a120730fbab2f",
              "version_major": 2,
              "version_minor": 0
            },
            "text/plain": [
              "Downloading shards:   0%|          | 0/5 [00:00<?, ?it/s]"
            ]
          },
          "metadata": {},
          "output_type": "display_data"
        },
        {
          "data": {
            "application/vnd.jupyter.widget-view+json": {
              "model_id": "552862e28fff45c78e418d81eb9e2a02",
              "version_major": 2,
              "version_minor": 0
            },
            "text/plain": [
              "model-00001-of-00005.safetensors:   0%|          | 0.00/4.94G [00:00<?, ?B/s]"
            ]
          },
          "metadata": {},
          "output_type": "display_data"
        },
        {
          "output_type": "display_data",
          "data": {
            "text/plain": [
              "model-00002-of-00005.safetensors:   0%|          | 0.00/5.00G [00:00<?, ?B/s]"
            ],
            "application/vnd.jupyter.widget-view+json": {
              "version_major": 2,
              "version_minor": 0,
              "model_id": "7371868d045a43c9acf1375807219232"
            }
          },
          "metadata": {}
        },
        {
          "output_type": "error",
          "ename": "KeyboardInterrupt",
          "evalue": "",
          "traceback": [
            "\u001b[0;31m---------------------------------------------------------------------------\u001b[0m",
            "\u001b[0;31mKeyboardInterrupt\u001b[0m                         Traceback (most recent call last)",
            "\u001b[0;32m<ipython-input-16-f03e6d92f635>\u001b[0m in \u001b[0;36m<cell line: 1>\u001b[0;34m()\u001b[0m\n\u001b[0;32m----> 1\u001b[0;31m model = AutoModelForCausalLM.from_pretrained(  # 사전 학습된 언어 모델을 로드하는 함수! AutoModelForCausalLM은 Causal Language Modeling(자연어 생성)을 위한 사전 학습된 모델을 자동으로 로드하는 클래스\n\u001b[0m\u001b[1;32m      2\u001b[0m     \u001b[0mbase_model\u001b[0m\u001b[0;34m,\u001b[0m  \u001b[0;31m# 사전 학습된 모델의 이름이나 경로 (위에서 선언함! 허깅페이스에 올라온 모델)\u001b[0m\u001b[0;34m\u001b[0m\u001b[0;34m\u001b[0m\u001b[0m\n\u001b[1;32m      3\u001b[0m     \u001b[0mquantization_config\u001b[0m\u001b[0;34m=\u001b[0m\u001b[0mquant_config\u001b[0m\u001b[0;34m,\u001b[0m  \u001b[0;31m# 위에서 양자화 설정 되어 있는 것 받아옴\u001b[0m\u001b[0;34m\u001b[0m\u001b[0;34m\u001b[0m\u001b[0m\n\u001b[1;32m      4\u001b[0m     \u001b[0mdevice_map\u001b[0m\u001b[0;34m=\u001b[0m\u001b[0;34m{\u001b[0m\u001b[0;34m\"\"\u001b[0m\u001b[0;34m:\u001b[0m \u001b[0;36m0\u001b[0m\u001b[0;34m}\u001b[0m  \u001b[0;31m# 모델을 특정 장치에 할당. 빈 문자열 키 => 전체 모델 / 값 0 => 첫 번째 GPU 장치(또는 CPU)로 모델을 할당함을 의미\u001b[0m\u001b[0;34m\u001b[0m\u001b[0;34m\u001b[0m\u001b[0m\n\u001b[1;32m      5\u001b[0m     \u001b[0;31m# device_map=\"auto\"  # 모델을 가능한 모든 장치에 자동으로 분산할 수 있음을 나타냄 (여기서는 수동으로 첫 번째 장치에 할당)\u001b[0m\u001b[0;34m\u001b[0m\u001b[0;34m\u001b[0m\u001b[0m\n",
            "\u001b[0;32m/usr/local/lib/python3.10/dist-packages/transformers/models/auto/auto_factory.py\u001b[0m in \u001b[0;36mfrom_pretrained\u001b[0;34m(cls, pretrained_model_name_or_path, *model_args, **kwargs)\u001b[0m\n\u001b[1;32m    561\u001b[0m         \u001b[0;32melif\u001b[0m \u001b[0mtype\u001b[0m\u001b[0;34m(\u001b[0m\u001b[0mconfig\u001b[0m\u001b[0;34m)\u001b[0m \u001b[0;32min\u001b[0m \u001b[0mcls\u001b[0m\u001b[0;34m.\u001b[0m\u001b[0m_model_mapping\u001b[0m\u001b[0;34m.\u001b[0m\u001b[0mkeys\u001b[0m\u001b[0;34m(\u001b[0m\u001b[0;34m)\u001b[0m\u001b[0;34m:\u001b[0m\u001b[0;34m\u001b[0m\u001b[0;34m\u001b[0m\u001b[0m\n\u001b[1;32m    562\u001b[0m             \u001b[0mmodel_class\u001b[0m \u001b[0;34m=\u001b[0m \u001b[0m_get_model_class\u001b[0m\u001b[0;34m(\u001b[0m\u001b[0mconfig\u001b[0m\u001b[0;34m,\u001b[0m \u001b[0mcls\u001b[0m\u001b[0;34m.\u001b[0m\u001b[0m_model_mapping\u001b[0m\u001b[0;34m)\u001b[0m\u001b[0;34m\u001b[0m\u001b[0;34m\u001b[0m\u001b[0m\n\u001b[0;32m--> 563\u001b[0;31m             return model_class.from_pretrained(\n\u001b[0m\u001b[1;32m    564\u001b[0m                 \u001b[0mpretrained_model_name_or_path\u001b[0m\u001b[0;34m,\u001b[0m \u001b[0;34m*\u001b[0m\u001b[0mmodel_args\u001b[0m\u001b[0;34m,\u001b[0m \u001b[0mconfig\u001b[0m\u001b[0;34m=\u001b[0m\u001b[0mconfig\u001b[0m\u001b[0;34m,\u001b[0m \u001b[0;34m**\u001b[0m\u001b[0mhub_kwargs\u001b[0m\u001b[0;34m,\u001b[0m \u001b[0;34m**\u001b[0m\u001b[0mkwargs\u001b[0m\u001b[0;34m\u001b[0m\u001b[0;34m\u001b[0m\u001b[0m\n\u001b[1;32m    565\u001b[0m             )\n",
            "\u001b[0;32m/usr/local/lib/python3.10/dist-packages/transformers/modeling_utils.py\u001b[0m in \u001b[0;36mfrom_pretrained\u001b[0;34m(cls, pretrained_model_name_or_path, config, cache_dir, ignore_mismatched_sizes, force_download, local_files_only, token, revision, use_safetensors, *model_args, **kwargs)\u001b[0m\n\u001b[1;32m   3434\u001b[0m         \u001b[0;32mif\u001b[0m \u001b[0mis_sharded\u001b[0m\u001b[0;34m:\u001b[0m\u001b[0;34m\u001b[0m\u001b[0;34m\u001b[0m\u001b[0m\n\u001b[1;32m   3435\u001b[0m             \u001b[0;31m# rsolved_archive_file becomes a list of files that point to the different checkpoint shards in this case.\u001b[0m\u001b[0;34m\u001b[0m\u001b[0;34m\u001b[0m\u001b[0m\n\u001b[0;32m-> 3436\u001b[0;31m             resolved_archive_file, sharded_metadata = get_checkpoint_shard_files(\n\u001b[0m\u001b[1;32m   3437\u001b[0m                 \u001b[0mpretrained_model_name_or_path\u001b[0m\u001b[0;34m,\u001b[0m\u001b[0;34m\u001b[0m\u001b[0;34m\u001b[0m\u001b[0m\n\u001b[1;32m   3438\u001b[0m                 \u001b[0mresolved_archive_file\u001b[0m\u001b[0;34m,\u001b[0m\u001b[0;34m\u001b[0m\u001b[0;34m\u001b[0m\u001b[0m\n",
            "\u001b[0;32m/usr/local/lib/python3.10/dist-packages/transformers/utils/hub.py\u001b[0m in \u001b[0;36mget_checkpoint_shard_files\u001b[0;34m(pretrained_model_name_or_path, index_filename, cache_dir, force_download, proxies, resume_download, local_files_only, token, user_agent, revision, subfolder, _commit_hash, **deprecated_kwargs)\u001b[0m\n\u001b[1;32m   1036\u001b[0m         \u001b[0;32mtry\u001b[0m\u001b[0;34m:\u001b[0m\u001b[0;34m\u001b[0m\u001b[0;34m\u001b[0m\u001b[0m\n\u001b[1;32m   1037\u001b[0m             \u001b[0;31m# Load from URL\u001b[0m\u001b[0;34m\u001b[0m\u001b[0;34m\u001b[0m\u001b[0m\n\u001b[0;32m-> 1038\u001b[0;31m             cached_filename = cached_file(\n\u001b[0m\u001b[1;32m   1039\u001b[0m                 \u001b[0mpretrained_model_name_or_path\u001b[0m\u001b[0;34m,\u001b[0m\u001b[0;34m\u001b[0m\u001b[0;34m\u001b[0m\u001b[0m\n\u001b[1;32m   1040\u001b[0m                 \u001b[0mshard_filename\u001b[0m\u001b[0;34m,\u001b[0m\u001b[0;34m\u001b[0m\u001b[0;34m\u001b[0m\u001b[0m\n",
            "\u001b[0;32m/usr/local/lib/python3.10/dist-packages/transformers/utils/hub.py\u001b[0m in \u001b[0;36mcached_file\u001b[0;34m(path_or_repo_id, filename, cache_dir, force_download, resume_download, proxies, token, revision, local_files_only, subfolder, repo_type, user_agent, _raise_exceptions_for_gated_repo, _raise_exceptions_for_missing_entries, _raise_exceptions_for_connection_errors, _commit_hash, **deprecated_kwargs)\u001b[0m\n\u001b[1;32m    396\u001b[0m     \u001b[0;32mtry\u001b[0m\u001b[0;34m:\u001b[0m\u001b[0;34m\u001b[0m\u001b[0;34m\u001b[0m\u001b[0m\n\u001b[1;32m    397\u001b[0m         \u001b[0;31m# Load from URL or cache if already cached\u001b[0m\u001b[0;34m\u001b[0m\u001b[0;34m\u001b[0m\u001b[0m\n\u001b[0;32m--> 398\u001b[0;31m         resolved_file = hf_hub_download(\n\u001b[0m\u001b[1;32m    399\u001b[0m             \u001b[0mpath_or_repo_id\u001b[0m\u001b[0;34m,\u001b[0m\u001b[0;34m\u001b[0m\u001b[0;34m\u001b[0m\u001b[0m\n\u001b[1;32m    400\u001b[0m             \u001b[0mfilename\u001b[0m\u001b[0;34m,\u001b[0m\u001b[0;34m\u001b[0m\u001b[0;34m\u001b[0m\u001b[0m\n",
            "\u001b[0;32m/usr/local/lib/python3.10/dist-packages/huggingface_hub/utils/_validators.py\u001b[0m in \u001b[0;36m_inner_fn\u001b[0;34m(*args, **kwargs)\u001b[0m\n\u001b[1;32m    112\u001b[0m             \u001b[0mkwargs\u001b[0m \u001b[0;34m=\u001b[0m \u001b[0msmoothly_deprecate_use_auth_token\u001b[0m\u001b[0;34m(\u001b[0m\u001b[0mfn_name\u001b[0m\u001b[0;34m=\u001b[0m\u001b[0mfn\u001b[0m\u001b[0;34m.\u001b[0m\u001b[0m__name__\u001b[0m\u001b[0;34m,\u001b[0m \u001b[0mhas_token\u001b[0m\u001b[0;34m=\u001b[0m\u001b[0mhas_token\u001b[0m\u001b[0;34m,\u001b[0m \u001b[0mkwargs\u001b[0m\u001b[0;34m=\u001b[0m\u001b[0mkwargs\u001b[0m\u001b[0;34m)\u001b[0m\u001b[0;34m\u001b[0m\u001b[0;34m\u001b[0m\u001b[0m\n\u001b[1;32m    113\u001b[0m \u001b[0;34m\u001b[0m\u001b[0m\n\u001b[0;32m--> 114\u001b[0;31m         \u001b[0;32mreturn\u001b[0m \u001b[0mfn\u001b[0m\u001b[0;34m(\u001b[0m\u001b[0;34m*\u001b[0m\u001b[0margs\u001b[0m\u001b[0;34m,\u001b[0m \u001b[0;34m**\u001b[0m\u001b[0mkwargs\u001b[0m\u001b[0;34m)\u001b[0m\u001b[0;34m\u001b[0m\u001b[0;34m\u001b[0m\u001b[0m\n\u001b[0m\u001b[1;32m    115\u001b[0m \u001b[0;34m\u001b[0m\u001b[0m\n\u001b[1;32m    116\u001b[0m     \u001b[0;32mreturn\u001b[0m \u001b[0m_inner_fn\u001b[0m  \u001b[0;31m# type: ignore\u001b[0m\u001b[0;34m\u001b[0m\u001b[0;34m\u001b[0m\u001b[0m\n",
            "\u001b[0;32m/usr/local/lib/python3.10/dist-packages/huggingface_hub/file_download.py\u001b[0m in \u001b[0;36mhf_hub_download\u001b[0;34m(repo_id, filename, subfolder, repo_type, revision, library_name, library_version, cache_dir, local_dir, user_agent, force_download, proxies, etag_timeout, token, local_files_only, headers, endpoint, legacy_cache_layout, resume_download, force_filename, local_dir_use_symlinks)\u001b[0m\n\u001b[1;32m   1219\u001b[0m         )\n\u001b[1;32m   1220\u001b[0m     \u001b[0;32melse\u001b[0m\u001b[0;34m:\u001b[0m\u001b[0;34m\u001b[0m\u001b[0;34m\u001b[0m\u001b[0m\n\u001b[0;32m-> 1221\u001b[0;31m         return _hf_hub_download_to_cache_dir(\n\u001b[0m\u001b[1;32m   1222\u001b[0m             \u001b[0;31m# Destination\u001b[0m\u001b[0;34m\u001b[0m\u001b[0;34m\u001b[0m\u001b[0m\n\u001b[1;32m   1223\u001b[0m             \u001b[0mcache_dir\u001b[0m\u001b[0;34m=\u001b[0m\u001b[0mcache_dir\u001b[0m\u001b[0;34m,\u001b[0m\u001b[0;34m\u001b[0m\u001b[0;34m\u001b[0m\u001b[0m\n",
            "\u001b[0;32m/usr/local/lib/python3.10/dist-packages/huggingface_hub/file_download.py\u001b[0m in \u001b[0;36m_hf_hub_download_to_cache_dir\u001b[0;34m(cache_dir, repo_id, filename, repo_type, revision, headers, proxies, etag_timeout, endpoint, local_files_only, force_download)\u001b[0m\n\u001b[1;32m   1365\u001b[0m     \u001b[0mPath\u001b[0m\u001b[0;34m(\u001b[0m\u001b[0mlock_path\u001b[0m\u001b[0;34m)\u001b[0m\u001b[0;34m.\u001b[0m\u001b[0mparent\u001b[0m\u001b[0;34m.\u001b[0m\u001b[0mmkdir\u001b[0m\u001b[0;34m(\u001b[0m\u001b[0mparents\u001b[0m\u001b[0;34m=\u001b[0m\u001b[0;32mTrue\u001b[0m\u001b[0;34m,\u001b[0m \u001b[0mexist_ok\u001b[0m\u001b[0;34m=\u001b[0m\u001b[0;32mTrue\u001b[0m\u001b[0;34m)\u001b[0m\u001b[0;34m\u001b[0m\u001b[0;34m\u001b[0m\u001b[0m\n\u001b[1;32m   1366\u001b[0m     \u001b[0;32mwith\u001b[0m \u001b[0mWeakFileLock\u001b[0m\u001b[0;34m(\u001b[0m\u001b[0mlock_path\u001b[0m\u001b[0;34m)\u001b[0m\u001b[0;34m:\u001b[0m\u001b[0;34m\u001b[0m\u001b[0;34m\u001b[0m\u001b[0m\n\u001b[0;32m-> 1367\u001b[0;31m         _download_to_tmp_and_move(\n\u001b[0m\u001b[1;32m   1368\u001b[0m             \u001b[0mincomplete_path\u001b[0m\u001b[0;34m=\u001b[0m\u001b[0mPath\u001b[0m\u001b[0;34m(\u001b[0m\u001b[0mblob_path\u001b[0m \u001b[0;34m+\u001b[0m \u001b[0;34m\".incomplete\"\u001b[0m\u001b[0;34m)\u001b[0m\u001b[0;34m,\u001b[0m\u001b[0;34m\u001b[0m\u001b[0;34m\u001b[0m\u001b[0m\n\u001b[1;32m   1369\u001b[0m             \u001b[0mdestination_path\u001b[0m\u001b[0;34m=\u001b[0m\u001b[0mPath\u001b[0m\u001b[0;34m(\u001b[0m\u001b[0mblob_path\u001b[0m\u001b[0;34m)\u001b[0m\u001b[0;34m,\u001b[0m\u001b[0;34m\u001b[0m\u001b[0;34m\u001b[0m\u001b[0m\n",
            "\u001b[0;32m/usr/local/lib/python3.10/dist-packages/huggingface_hub/file_download.py\u001b[0m in \u001b[0;36m_download_to_tmp_and_move\u001b[0;34m(incomplete_path, destination_path, url_to_download, proxies, headers, expected_size, filename, force_download)\u001b[0m\n\u001b[1;32m   1882\u001b[0m             \u001b[0m_check_disk_space\u001b[0m\u001b[0;34m(\u001b[0m\u001b[0mexpected_size\u001b[0m\u001b[0;34m,\u001b[0m \u001b[0mdestination_path\u001b[0m\u001b[0;34m.\u001b[0m\u001b[0mparent\u001b[0m\u001b[0;34m)\u001b[0m\u001b[0;34m\u001b[0m\u001b[0;34m\u001b[0m\u001b[0m\n\u001b[1;32m   1883\u001b[0m \u001b[0;34m\u001b[0m\u001b[0m\n\u001b[0;32m-> 1884\u001b[0;31m         http_get(\n\u001b[0m\u001b[1;32m   1885\u001b[0m             \u001b[0murl_to_download\u001b[0m\u001b[0;34m,\u001b[0m\u001b[0;34m\u001b[0m\u001b[0;34m\u001b[0m\u001b[0m\n\u001b[1;32m   1886\u001b[0m             \u001b[0mf\u001b[0m\u001b[0;34m,\u001b[0m\u001b[0;34m\u001b[0m\u001b[0;34m\u001b[0m\u001b[0m\n",
            "\u001b[0;32m/usr/local/lib/python3.10/dist-packages/huggingface_hub/file_download.py\u001b[0m in \u001b[0;36mhttp_get\u001b[0;34m(url, temp_file, proxies, resume_size, headers, expected_size, displayed_filename, _nb_retries, _tqdm_bar)\u001b[0m\n\u001b[1;32m    537\u001b[0m     \u001b[0mnew_resume_size\u001b[0m \u001b[0;34m=\u001b[0m \u001b[0mresume_size\u001b[0m\u001b[0;34m\u001b[0m\u001b[0;34m\u001b[0m\u001b[0m\n\u001b[1;32m    538\u001b[0m     \u001b[0;32mtry\u001b[0m\u001b[0;34m:\u001b[0m\u001b[0;34m\u001b[0m\u001b[0;34m\u001b[0m\u001b[0m\n\u001b[0;32m--> 539\u001b[0;31m         \u001b[0;32mfor\u001b[0m \u001b[0mchunk\u001b[0m \u001b[0;32min\u001b[0m \u001b[0mr\u001b[0m\u001b[0;34m.\u001b[0m\u001b[0miter_content\u001b[0m\u001b[0;34m(\u001b[0m\u001b[0mchunk_size\u001b[0m\u001b[0;34m=\u001b[0m\u001b[0mDOWNLOAD_CHUNK_SIZE\u001b[0m\u001b[0;34m)\u001b[0m\u001b[0;34m:\u001b[0m\u001b[0;34m\u001b[0m\u001b[0;34m\u001b[0m\u001b[0m\n\u001b[0m\u001b[1;32m    540\u001b[0m             \u001b[0;32mif\u001b[0m \u001b[0mchunk\u001b[0m\u001b[0;34m:\u001b[0m  \u001b[0;31m# filter out keep-alive new chunks\u001b[0m\u001b[0;34m\u001b[0m\u001b[0;34m\u001b[0m\u001b[0m\n\u001b[1;32m    541\u001b[0m                 \u001b[0mprogress\u001b[0m\u001b[0;34m.\u001b[0m\u001b[0mupdate\u001b[0m\u001b[0;34m(\u001b[0m\u001b[0mlen\u001b[0m\u001b[0;34m(\u001b[0m\u001b[0mchunk\u001b[0m\u001b[0;34m)\u001b[0m\u001b[0;34m)\u001b[0m\u001b[0;34m\u001b[0m\u001b[0;34m\u001b[0m\u001b[0m\n",
            "\u001b[0;32m/usr/local/lib/python3.10/dist-packages/requests/models.py\u001b[0m in \u001b[0;36mgenerate\u001b[0;34m()\u001b[0m\n\u001b[1;32m    818\u001b[0m             \u001b[0;32mif\u001b[0m \u001b[0mhasattr\u001b[0m\u001b[0;34m(\u001b[0m\u001b[0mself\u001b[0m\u001b[0;34m.\u001b[0m\u001b[0mraw\u001b[0m\u001b[0;34m,\u001b[0m \u001b[0;34m\"stream\"\u001b[0m\u001b[0;34m)\u001b[0m\u001b[0;34m:\u001b[0m\u001b[0;34m\u001b[0m\u001b[0;34m\u001b[0m\u001b[0m\n\u001b[1;32m    819\u001b[0m                 \u001b[0;32mtry\u001b[0m\u001b[0;34m:\u001b[0m\u001b[0;34m\u001b[0m\u001b[0;34m\u001b[0m\u001b[0m\n\u001b[0;32m--> 820\u001b[0;31m                     \u001b[0;32myield\u001b[0m \u001b[0;32mfrom\u001b[0m \u001b[0mself\u001b[0m\u001b[0;34m.\u001b[0m\u001b[0mraw\u001b[0m\u001b[0;34m.\u001b[0m\u001b[0mstream\u001b[0m\u001b[0;34m(\u001b[0m\u001b[0mchunk_size\u001b[0m\u001b[0;34m,\u001b[0m \u001b[0mdecode_content\u001b[0m\u001b[0;34m=\u001b[0m\u001b[0;32mTrue\u001b[0m\u001b[0;34m)\u001b[0m\u001b[0;34m\u001b[0m\u001b[0;34m\u001b[0m\u001b[0m\n\u001b[0m\u001b[1;32m    821\u001b[0m                 \u001b[0;32mexcept\u001b[0m \u001b[0mProtocolError\u001b[0m \u001b[0;32mas\u001b[0m \u001b[0me\u001b[0m\u001b[0;34m:\u001b[0m\u001b[0;34m\u001b[0m\u001b[0;34m\u001b[0m\u001b[0m\n\u001b[1;32m    822\u001b[0m                     \u001b[0;32mraise\u001b[0m \u001b[0mChunkedEncodingError\u001b[0m\u001b[0;34m(\u001b[0m\u001b[0me\u001b[0m\u001b[0;34m)\u001b[0m\u001b[0;34m\u001b[0m\u001b[0;34m\u001b[0m\u001b[0m\n",
            "\u001b[0;32m/usr/local/lib/python3.10/dist-packages/urllib3/response.py\u001b[0m in \u001b[0;36mstream\u001b[0;34m(self, amt, decode_content)\u001b[0m\n\u001b[1;32m    934\u001b[0m         \u001b[0;32melse\u001b[0m\u001b[0;34m:\u001b[0m\u001b[0;34m\u001b[0m\u001b[0;34m\u001b[0m\u001b[0m\n\u001b[1;32m    935\u001b[0m             \u001b[0;32mwhile\u001b[0m \u001b[0;32mnot\u001b[0m \u001b[0mis_fp_closed\u001b[0m\u001b[0;34m(\u001b[0m\u001b[0mself\u001b[0m\u001b[0;34m.\u001b[0m\u001b[0m_fp\u001b[0m\u001b[0;34m)\u001b[0m \u001b[0;32mor\u001b[0m \u001b[0mlen\u001b[0m\u001b[0;34m(\u001b[0m\u001b[0mself\u001b[0m\u001b[0;34m.\u001b[0m\u001b[0m_decoded_buffer\u001b[0m\u001b[0;34m)\u001b[0m \u001b[0;34m>\u001b[0m \u001b[0;36m0\u001b[0m\u001b[0;34m:\u001b[0m\u001b[0;34m\u001b[0m\u001b[0;34m\u001b[0m\u001b[0m\n\u001b[0;32m--> 936\u001b[0;31m                 \u001b[0mdata\u001b[0m \u001b[0;34m=\u001b[0m \u001b[0mself\u001b[0m\u001b[0;34m.\u001b[0m\u001b[0mread\u001b[0m\u001b[0;34m(\u001b[0m\u001b[0mamt\u001b[0m\u001b[0;34m=\u001b[0m\u001b[0mamt\u001b[0m\u001b[0;34m,\u001b[0m \u001b[0mdecode_content\u001b[0m\u001b[0;34m=\u001b[0m\u001b[0mdecode_content\u001b[0m\u001b[0;34m)\u001b[0m\u001b[0;34m\u001b[0m\u001b[0;34m\u001b[0m\u001b[0m\n\u001b[0m\u001b[1;32m    937\u001b[0m \u001b[0;34m\u001b[0m\u001b[0m\n\u001b[1;32m    938\u001b[0m                 \u001b[0;32mif\u001b[0m \u001b[0mdata\u001b[0m\u001b[0;34m:\u001b[0m\u001b[0;34m\u001b[0m\u001b[0;34m\u001b[0m\u001b[0m\n",
            "\u001b[0;32m/usr/local/lib/python3.10/dist-packages/urllib3/response.py\u001b[0m in \u001b[0;36mread\u001b[0;34m(self, amt, decode_content, cache_content)\u001b[0m\n\u001b[1;32m    877\u001b[0m                 \u001b[0;32mreturn\u001b[0m \u001b[0mself\u001b[0m\u001b[0;34m.\u001b[0m\u001b[0m_decoded_buffer\u001b[0m\u001b[0;34m.\u001b[0m\u001b[0mget\u001b[0m\u001b[0;34m(\u001b[0m\u001b[0mamt\u001b[0m\u001b[0;34m)\u001b[0m\u001b[0;34m\u001b[0m\u001b[0;34m\u001b[0m\u001b[0m\n\u001b[1;32m    878\u001b[0m \u001b[0;34m\u001b[0m\u001b[0m\n\u001b[0;32m--> 879\u001b[0;31m         \u001b[0mdata\u001b[0m \u001b[0;34m=\u001b[0m \u001b[0mself\u001b[0m\u001b[0;34m.\u001b[0m\u001b[0m_raw_read\u001b[0m\u001b[0;34m(\u001b[0m\u001b[0mamt\u001b[0m\u001b[0;34m)\u001b[0m\u001b[0;34m\u001b[0m\u001b[0;34m\u001b[0m\u001b[0m\n\u001b[0m\u001b[1;32m    880\u001b[0m \u001b[0;34m\u001b[0m\u001b[0m\n\u001b[1;32m    881\u001b[0m         \u001b[0mflush_decoder\u001b[0m \u001b[0;34m=\u001b[0m \u001b[0mamt\u001b[0m \u001b[0;32mis\u001b[0m \u001b[0;32mNone\u001b[0m \u001b[0;32mor\u001b[0m \u001b[0;34m(\u001b[0m\u001b[0mamt\u001b[0m \u001b[0;34m!=\u001b[0m \u001b[0;36m0\u001b[0m \u001b[0;32mand\u001b[0m \u001b[0;32mnot\u001b[0m \u001b[0mdata\u001b[0m\u001b[0;34m)\u001b[0m\u001b[0;34m\u001b[0m\u001b[0;34m\u001b[0m\u001b[0m\n",
            "\u001b[0;32m/usr/local/lib/python3.10/dist-packages/urllib3/response.py\u001b[0m in \u001b[0;36m_raw_read\u001b[0;34m(self, amt)\u001b[0m\n\u001b[1;32m    812\u001b[0m \u001b[0;34m\u001b[0m\u001b[0m\n\u001b[1;32m    813\u001b[0m         \u001b[0;32mwith\u001b[0m \u001b[0mself\u001b[0m\u001b[0;34m.\u001b[0m\u001b[0m_error_catcher\u001b[0m\u001b[0;34m(\u001b[0m\u001b[0;34m)\u001b[0m\u001b[0;34m:\u001b[0m\u001b[0;34m\u001b[0m\u001b[0;34m\u001b[0m\u001b[0m\n\u001b[0;32m--> 814\u001b[0;31m             \u001b[0mdata\u001b[0m \u001b[0;34m=\u001b[0m \u001b[0mself\u001b[0m\u001b[0;34m.\u001b[0m\u001b[0m_fp_read\u001b[0m\u001b[0;34m(\u001b[0m\u001b[0mamt\u001b[0m\u001b[0;34m)\u001b[0m \u001b[0;32mif\u001b[0m \u001b[0;32mnot\u001b[0m \u001b[0mfp_closed\u001b[0m \u001b[0;32melse\u001b[0m \u001b[0;34mb\"\"\u001b[0m\u001b[0;34m\u001b[0m\u001b[0;34m\u001b[0m\u001b[0m\n\u001b[0m\u001b[1;32m    815\u001b[0m             \u001b[0;32mif\u001b[0m \u001b[0mamt\u001b[0m \u001b[0;32mis\u001b[0m \u001b[0;32mnot\u001b[0m \u001b[0;32mNone\u001b[0m \u001b[0;32mand\u001b[0m \u001b[0mamt\u001b[0m \u001b[0;34m!=\u001b[0m \u001b[0;36m0\u001b[0m \u001b[0;32mand\u001b[0m \u001b[0;32mnot\u001b[0m \u001b[0mdata\u001b[0m\u001b[0;34m:\u001b[0m\u001b[0;34m\u001b[0m\u001b[0;34m\u001b[0m\u001b[0m\n\u001b[1;32m    816\u001b[0m                 \u001b[0;31m# Platform-specific: Buggy versions of Python.\u001b[0m\u001b[0;34m\u001b[0m\u001b[0;34m\u001b[0m\u001b[0m\n",
            "\u001b[0;32m/usr/local/lib/python3.10/dist-packages/urllib3/response.py\u001b[0m in \u001b[0;36m_fp_read\u001b[0;34m(self, amt)\u001b[0m\n\u001b[1;32m    797\u001b[0m         \u001b[0;32melse\u001b[0m\u001b[0;34m:\u001b[0m\u001b[0;34m\u001b[0m\u001b[0;34m\u001b[0m\u001b[0m\n\u001b[1;32m    798\u001b[0m             \u001b[0;31m# StringIO doesn't like amt=None\u001b[0m\u001b[0;34m\u001b[0m\u001b[0;34m\u001b[0m\u001b[0m\n\u001b[0;32m--> 799\u001b[0;31m             \u001b[0;32mreturn\u001b[0m \u001b[0mself\u001b[0m\u001b[0;34m.\u001b[0m\u001b[0m_fp\u001b[0m\u001b[0;34m.\u001b[0m\u001b[0mread\u001b[0m\u001b[0;34m(\u001b[0m\u001b[0mamt\u001b[0m\u001b[0;34m)\u001b[0m \u001b[0;32mif\u001b[0m \u001b[0mamt\u001b[0m \u001b[0;32mis\u001b[0m \u001b[0;32mnot\u001b[0m \u001b[0;32mNone\u001b[0m \u001b[0;32melse\u001b[0m \u001b[0mself\u001b[0m\u001b[0;34m.\u001b[0m\u001b[0m_fp\u001b[0m\u001b[0;34m.\u001b[0m\u001b[0mread\u001b[0m\u001b[0;34m(\u001b[0m\u001b[0;34m)\u001b[0m\u001b[0;34m\u001b[0m\u001b[0;34m\u001b[0m\u001b[0m\n\u001b[0m\u001b[1;32m    800\u001b[0m \u001b[0;34m\u001b[0m\u001b[0m\n\u001b[1;32m    801\u001b[0m     def _raw_read(\n",
            "\u001b[0;32m/usr/lib/python3.10/http/client.py\u001b[0m in \u001b[0;36mread\u001b[0;34m(self, amt)\u001b[0m\n\u001b[1;32m    464\u001b[0m                 \u001b[0;31m# clip the read to the \"end of response\"\u001b[0m\u001b[0;34m\u001b[0m\u001b[0;34m\u001b[0m\u001b[0m\n\u001b[1;32m    465\u001b[0m                 \u001b[0mamt\u001b[0m \u001b[0;34m=\u001b[0m \u001b[0mself\u001b[0m\u001b[0;34m.\u001b[0m\u001b[0mlength\u001b[0m\u001b[0;34m\u001b[0m\u001b[0;34m\u001b[0m\u001b[0m\n\u001b[0;32m--> 466\u001b[0;31m             \u001b[0ms\u001b[0m \u001b[0;34m=\u001b[0m \u001b[0mself\u001b[0m\u001b[0;34m.\u001b[0m\u001b[0mfp\u001b[0m\u001b[0;34m.\u001b[0m\u001b[0mread\u001b[0m\u001b[0;34m(\u001b[0m\u001b[0mamt\u001b[0m\u001b[0;34m)\u001b[0m\u001b[0;34m\u001b[0m\u001b[0;34m\u001b[0m\u001b[0m\n\u001b[0m\u001b[1;32m    467\u001b[0m             \u001b[0;32mif\u001b[0m \u001b[0;32mnot\u001b[0m \u001b[0ms\u001b[0m \u001b[0;32mand\u001b[0m \u001b[0mamt\u001b[0m\u001b[0;34m:\u001b[0m\u001b[0;34m\u001b[0m\u001b[0;34m\u001b[0m\u001b[0m\n\u001b[1;32m    468\u001b[0m                 \u001b[0;31m# Ideally, we would raise IncompleteRead if the content-length\u001b[0m\u001b[0;34m\u001b[0m\u001b[0;34m\u001b[0m\u001b[0m\n",
            "\u001b[0;32m/usr/lib/python3.10/socket.py\u001b[0m in \u001b[0;36mreadinto\u001b[0;34m(self, b)\u001b[0m\n\u001b[1;32m    703\u001b[0m         \u001b[0;32mwhile\u001b[0m \u001b[0;32mTrue\u001b[0m\u001b[0;34m:\u001b[0m\u001b[0;34m\u001b[0m\u001b[0;34m\u001b[0m\u001b[0m\n\u001b[1;32m    704\u001b[0m             \u001b[0;32mtry\u001b[0m\u001b[0;34m:\u001b[0m\u001b[0;34m\u001b[0m\u001b[0;34m\u001b[0m\u001b[0m\n\u001b[0;32m--> 705\u001b[0;31m                 \u001b[0;32mreturn\u001b[0m \u001b[0mself\u001b[0m\u001b[0;34m.\u001b[0m\u001b[0m_sock\u001b[0m\u001b[0;34m.\u001b[0m\u001b[0mrecv_into\u001b[0m\u001b[0;34m(\u001b[0m\u001b[0mb\u001b[0m\u001b[0;34m)\u001b[0m\u001b[0;34m\u001b[0m\u001b[0;34m\u001b[0m\u001b[0m\n\u001b[0m\u001b[1;32m    706\u001b[0m             \u001b[0;32mexcept\u001b[0m \u001b[0mtimeout\u001b[0m\u001b[0;34m:\u001b[0m\u001b[0;34m\u001b[0m\u001b[0;34m\u001b[0m\u001b[0m\n\u001b[1;32m    707\u001b[0m                 \u001b[0mself\u001b[0m\u001b[0;34m.\u001b[0m\u001b[0m_timeout_occurred\u001b[0m \u001b[0;34m=\u001b[0m \u001b[0;32mTrue\u001b[0m\u001b[0;34m\u001b[0m\u001b[0;34m\u001b[0m\u001b[0m\n",
            "\u001b[0;32m/usr/lib/python3.10/ssl.py\u001b[0m in \u001b[0;36mrecv_into\u001b[0;34m(self, buffer, nbytes, flags)\u001b[0m\n\u001b[1;32m   1301\u001b[0m                   \u001b[0;34m\"non-zero flags not allowed in calls to recv_into() on %s\"\u001b[0m \u001b[0;34m%\u001b[0m\u001b[0;34m\u001b[0m\u001b[0;34m\u001b[0m\u001b[0m\n\u001b[1;32m   1302\u001b[0m                   self.__class__)\n\u001b[0;32m-> 1303\u001b[0;31m             \u001b[0;32mreturn\u001b[0m \u001b[0mself\u001b[0m\u001b[0;34m.\u001b[0m\u001b[0mread\u001b[0m\u001b[0;34m(\u001b[0m\u001b[0mnbytes\u001b[0m\u001b[0;34m,\u001b[0m \u001b[0mbuffer\u001b[0m\u001b[0;34m)\u001b[0m\u001b[0;34m\u001b[0m\u001b[0;34m\u001b[0m\u001b[0m\n\u001b[0m\u001b[1;32m   1304\u001b[0m         \u001b[0;32melse\u001b[0m\u001b[0;34m:\u001b[0m\u001b[0;34m\u001b[0m\u001b[0;34m\u001b[0m\u001b[0m\n\u001b[1;32m   1305\u001b[0m             \u001b[0;32mreturn\u001b[0m \u001b[0msuper\u001b[0m\u001b[0;34m(\u001b[0m\u001b[0;34m)\u001b[0m\u001b[0;34m.\u001b[0m\u001b[0mrecv_into\u001b[0m\u001b[0;34m(\u001b[0m\u001b[0mbuffer\u001b[0m\u001b[0;34m,\u001b[0m \u001b[0mnbytes\u001b[0m\u001b[0;34m,\u001b[0m \u001b[0mflags\u001b[0m\u001b[0;34m)\u001b[0m\u001b[0;34m\u001b[0m\u001b[0;34m\u001b[0m\u001b[0m\n",
            "\u001b[0;32m/usr/lib/python3.10/ssl.py\u001b[0m in \u001b[0;36mread\u001b[0;34m(self, len, buffer)\u001b[0m\n\u001b[1;32m   1157\u001b[0m         \u001b[0;32mtry\u001b[0m\u001b[0;34m:\u001b[0m\u001b[0;34m\u001b[0m\u001b[0;34m\u001b[0m\u001b[0m\n\u001b[1;32m   1158\u001b[0m             \u001b[0;32mif\u001b[0m \u001b[0mbuffer\u001b[0m \u001b[0;32mis\u001b[0m \u001b[0;32mnot\u001b[0m \u001b[0;32mNone\u001b[0m\u001b[0;34m:\u001b[0m\u001b[0;34m\u001b[0m\u001b[0;34m\u001b[0m\u001b[0m\n\u001b[0;32m-> 1159\u001b[0;31m                 \u001b[0;32mreturn\u001b[0m \u001b[0mself\u001b[0m\u001b[0;34m.\u001b[0m\u001b[0m_sslobj\u001b[0m\u001b[0;34m.\u001b[0m\u001b[0mread\u001b[0m\u001b[0;34m(\u001b[0m\u001b[0mlen\u001b[0m\u001b[0;34m,\u001b[0m \u001b[0mbuffer\u001b[0m\u001b[0;34m)\u001b[0m\u001b[0;34m\u001b[0m\u001b[0;34m\u001b[0m\u001b[0m\n\u001b[0m\u001b[1;32m   1160\u001b[0m             \u001b[0;32melse\u001b[0m\u001b[0;34m:\u001b[0m\u001b[0;34m\u001b[0m\u001b[0;34m\u001b[0m\u001b[0m\n\u001b[1;32m   1161\u001b[0m                 \u001b[0;32mreturn\u001b[0m \u001b[0mself\u001b[0m\u001b[0;34m.\u001b[0m\u001b[0m_sslobj\u001b[0m\u001b[0;34m.\u001b[0m\u001b[0mread\u001b[0m\u001b[0;34m(\u001b[0m\u001b[0mlen\u001b[0m\u001b[0;34m)\u001b[0m\u001b[0;34m\u001b[0m\u001b[0;34m\u001b[0m\u001b[0m\n",
            "\u001b[0;31mKeyboardInterrupt\u001b[0m: "
          ]
        }
      ],
      "source": [
        "model = AutoModelForCausalLM.from_pretrained(  # 사전 학습된 언어 모델을 로드하는 함수! AutoModelForCausalLM은 Causal Language Modeling(자연어 생성)을 위한 사전 학습된 모델을 자동으로 로드하는 클래스\n",
        "    base_model,  # 사전 학습된 모델의 이름이나 경로 (위에서 선언함! 허깅페이스에 올라온 모델)\n",
        "    quantization_config=quant_config,  # 위에서 양자화 설정 되어 있는 것 받아옴\n",
        "    device_map={\"\": 0}  # 모델을 특정 장치에 할당. 빈 문자열 키 => 전체 모델 / 값 0 => 첫 번째 GPU 장치(또는 CPU)로 모델을 할당함을 의미\n",
        "    # device_map=\"auto\"  # 모델을 가능한 모든 장치에 자동으로 분산할 수 있음을 나타냄 (여기서는 수동으로 첫 번째 장치에 할당)\n",
        ")\n",
        "model.config.use_cache = False  # 모델이 추론 시 캐시를 사용하지 않도록 함. 캐시를 사용하면 모델의 속도가 빨라질 수 있지만, 여기서는 캐시를 사용하지 않도록 설정\n",
        "model.config.pretraining_tp = 1  # 모델의 pretraining tensor parallelism(사전 학습 시 텐서 병렬화) 설정을 1로 설정. 이는 병렬화를 사용하지 않도록 설정한 것"
      ]
    },
    {
      "cell_type": "markdown",
      "metadata": {
        "id": "373RWcrjsO1R"
      },
      "source": [
        "6. 토크나이저 불러오기 (Hugginface에서 토크나이저를 로드하고 padding_side를 \"right\"로 설정하여 fp16과 관련된 문제해결)"
      ]
    },
    {
      "cell_type": "code",
      "execution_count": null,
      "metadata": {
        "id": "vphx-2kUB1XS",
        "executionInfo": {
          "status": "aborted",
          "timestamp": 1723632207948,
          "user_tz": -540,
          "elapsed": 7,
          "user": {
            "displayName": "joha dae",
            "userId": "03564021945157250655"
          }
        }
      },
      "outputs": [],
      "source": [
        "# AutoTokenizer : 특정 모델에 해당하는 토크나이저를 자동으로 로드하는 클래스\n",
        "# AutoTokenizer.from_pretrained : 사전 학습된 토크나이저를 로드하는 함수\n",
        "tokenizer = AutoTokenizer.from_pretrained(base_model, trust_remote_code=True)  # 원격 코드를 신뢰하도록 설정. Hugging Face Hub에 호스팅된 원격 모델 및 토크나이저 코드를 신뢰하고 로드\n",
        "\n",
        "# tokenizer.eos_token : 문장의 끝을 나타내는 토큰. 패딩 토큰을 문장의 끝 토큰으로 설정하여 문장의 패딩을 수행할 것임을 의미\n",
        "tokenizer.pad_token = tokenizer.eos_token\n",
        "\n",
        "# 패딩을 적용할 쪽을 오른쪽으로 설정. 토크나이저가 패딩 토큰을 문장의 끝에 추가할 것임을 나타냄. 즉, 오른쪽에 패딩을 적용\n",
        "tokenizer.padding_side = \"right\""
      ]
    },
    {
      "cell_type": "markdown",
      "metadata": {
        "id": "43MulhnmsZBQ"
      },
      "source": [
        "### 7. PEFT 파라미터 (Parameter-Efficient Fine-Tuning (PEFT)은 모델 파라미터의\n",
        "\n",
        "https://huggingface.co/docs/peft/conceptual_guides/lora"
      ]
    },
    {
      "cell_type": "code",
      "execution_count": null,
      "metadata": {
        "id": "jtyS90eRIbk5",
        "executionInfo": {
          "status": "aborted",
          "timestamp": 1723632207949,
          "user_tz": -540,
          "elapsed": 7,
          "user": {
            "displayName": "joha dae",
            "userId": "03564021945157250655"
          }
        }
      },
      "outputs": [],
      "source": [
        "peft_params = LoraConfig(\n",
        "    lora_alpha=16,  # attention 계산에 사용되는 가중치 행렬의 크기를 나타냄. 일반적으로 큰 값일수록 모델의 표현력이 높아지지만, 계산 비용이 증가\n",
        "    lora_dropout=0.1,  # attention 계산 시에 적용되는 드롭아웃의 확률을 지정. 드롭아웃은 모델의 과적합을 방지하고 일반화 성능을 향상시키는 데 사용\n",
        "    r=64,  # attention 계산에 사용되는 쿼리(query), 키(key), 밸류(value)의 차원을 결정. 이 값은 일반적으로 lora_alpha와 관련이 있으며, 주로 모델의 표현력과 계산 비용을 조정하는 데 사용\n",
        "    bias=\"none\",  # attention 계산의 편향(bias)을 지정. 여기서는 \"none\"으로 설정되어 있으므로, 어텐션 계산에 편향이 추가되지 않음. 다른 옵션으로는 \"query\", \"key\", \"value\" 등이 있음\n",
        "    task_type=\"CAUSAL_LM\",  # 모델이 수행할 작업 유형. 여기서는 모델이 인과 언어 모델링(causal language modeling) 작업을 수행. 이는 주어진 이전 토큰들을 기반으로 다음 토큰을 예측하는 작업을 의미\n",
        ")"
      ]
    },
    {
      "cell_type": "code",
      "execution_count": null,
      "metadata": {
        "id": "Y5TNKfR-sYEy",
        "executionInfo": {
          "status": "aborted",
          "timestamp": 1723632207950,
          "user_tz": -540,
          "elapsed": 8,
          "user": {
            "displayName": "joha dae",
            "userId": "03564021945157250655"
          }
        }
      },
      "outputs": [],
      "source": [
        "training_params = TrainingArguments(\n",
        "    output_dir=\"nous_results\",  # 학습 결과를 저장할 디렉토리 경로\n",
        "    num_train_epochs=1,  # 문제지를 몇 번 돌릴 것인지\n",
        "    per_device_train_batch_size=1,  # 각 학습 장치(device) 당 배치 크기. 더 큰 배치 크기는 학습 속도를 높일 수 있지만, GPU 메모리에 맞게 조정해야 함\n",
        "    gradient_accumulation_steps=1,  # 그래디언트 누적 단계 수. 배치 크기를 사용하면 GPU 메모리 부족으로 배치를 처리할 수 없을 수 있으므로, 그래디언트 누적을 통해 이를 해결\n",
        "    optim=\"paged_adamw_32bit\",  # 최적화 알고리즘. paged_adamw_32bit\"는 페이지드 AdamW 최적화 알고리즘. 이는 AdamW 최적화 알고리즘의 변형으로, 32비트로 연산을 수행\n",
        "    save_steps=10000,  # 중간 체크포인트 저장 간격. 모델의 중간 상태를 저장하여 학습 중에 중단되었을 때 학습을 재개\n",
        "    logging_steps=1000,  # 학습 로그 출력 간격. 학습 중간에 로그를 출력하여 모델의 학습 진행 상황을 모니터링\n",
        "    learning_rate=2e-4,  # 초기 학습률. 학습률은 모델이 가중치를 업데이트하는 속도를 결정\n",
        "    weight_decay=0.001,  # 가중치 감쇠 정도. 중치 감쇠는 모델의 복잡도를 줄이고 과적합을 방지하는 데 도움\n",
        "    fp16=False,  # mixed precision 학습 사용 여부 (16비트/32비트). True로 설정하면 16비트 부동소수점 형식을 사용하여 학습 속도를 높임\n",
        "    bf16=True,  # bfloat16 precision 학습 사용 여부 (16비트/32비트)\n",
        "    max_grad_norm=0.3,  # 그래디언트 클리핑을 위한 최대 그래디언트 노름. 그래디언트 클리핑은 그래디언트 폭주를 방지하고 안정적인 학습을 위해 사용\n",
        "    max_steps=-1,  # 최대 학습 스텝 수 (-1이면 무제한). 학습 스텝 수가 지정된 값에 도달하면 학습이 중단\n",
        "    warmup_ratio=0.03,  # 학습률 스케줄러의 초기 웜업 비율. 웜업 단계에서는 초기 학습률을 점진적으로 증가시켜 안정적인 학습을 유도\n",
        "    group_by_length=True,  # 그룹 당 장치 개수. 분산 학습을 위해 사용\n",
        "    #lr_scheduler_type=\"constant\",  # 학습률 스케줄러 타입. 여기서는 \"constant\"로 설정되어 있으며, 학습률을 일정한 상수 값으로 유지\n",
        "    # per_device_group_size=True,  # 그룹 당 장치 개수. 분산 학습을 위해 사용\n",
        "    # learning_rate_scheduler_type=\"constant\",  # 학습률 스케줄러 타입. 여기서는 \"constant\"로 설정되어 있으며, 학습률을 일정한 상수 값으로 유지\n",
        "    report_to=\"tensorboard\"  # 학습 결과 보고서를 전송할 위치. TensorBoard를 사용하여 학습 과정을 모니터링\n",
        ")"
      ]
    },
    {
      "cell_type": "markdown",
      "metadata": {
        "id": "8nH_LQZ7cMlM"
      },
      "source": [
        "### 8. 모델 훈련"
      ]
    },
    {
      "cell_type": "code",
      "execution_count": null,
      "metadata": {
        "id": "tO3nS0BTfDIU",
        "executionInfo": {
          "status": "aborted",
          "timestamp": 1723632207950,
          "user_tz": -540,
          "elapsed": 8,
          "user": {
            "displayName": "joha dae",
            "userId": "03564021945157250655"
          }
        }
      },
      "outputs": [],
      "source": [
        "trainer = SFTTrainer(\n",
        "    model=model,  # 학습할 모델 (사전 학습된 모델)\n",
        "    train_dataset=solar_dataset,  # 학습 데이터셋 (새로 학습할 추가 데이터셋)\n",
        "    peft_config=peft_params,  # SFT 모델의 설정\n",
        "    dataset_text_field=\"prompt\",  # 데이터셋에서 텍스트 필드의 이름\n",
        "    max_seq_length=None,  # 최대 시퀀스 길이\n",
        "    tokenizer=tokenizer,  # 토크나이저\n",
        "    args=training_params,  # 학습 인자들 (파라미터 설정 넣어주는 부분?)\n",
        "    packing=False,  # 패킹 사용 여부\n",
        ")"
      ]
    },
    {
      "cell_type": "code",
      "execution_count": null,
      "metadata": {
        "colab": {
          "base_uri": "https://localhost:8080/",
          "height": 1000
        },
        "id": "tnytwYVrcPjw",
        "outputId": "eac8f7d0-be40-44a5-f560-b48af71a4df3",
        "executionInfo": {
          "status": "ok",
          "timestamp": 1721702613952,
          "user_tz": -540,
          "elapsed": 9578929,
          "user": {
            "displayName": "joha dae",
            "userId": "03564021945157250655"
          }
        }
      },
      "outputs": [
        {
          "data": {
            "text/html": [
              "\n",
              "    <div>\n",
              "      \n",
              "      <progress value='13341' max='28574' style='width:300px; height:20px; vertical-align: middle;'></progress>\n",
              "      [13341/28574 2:19:49 < 2:39:40, 1.59 it/s, Epoch 0.47/1]\n",
              "    </div>\n",
              "    <table border=\"1\" class=\"dataframe\">\n",
              "  <thead>\n",
              " <tr style=\"text-align: left;\">\n",
              "      <th>Step</th>\n",
              "      <th>Training Loss</th>\n",
              "    </tr>\n",
              "  </thead>\n",
              "  <tbody>\n",
              "    <tr>\n",
              "      <td>1000</td>\n",
              "      <td>1.197900</td>\n",
              "    </tr>\n",
              "    <tr>\n",
              "      <td>2000</td>\n",
              "      <td>1.082500</td>\n",
              "    </tr>\n",
              "    <tr>\n",
              "      <td>3000</td>\n",
              "      <td>1.029600</td>\n",
              "    </tr>\n",
              "    <tr>\n",
              "      <td>4000</td>\n",
              "      <td>1.009500</td>\n",
              "    </tr>\n",
              "    <tr>\n",
              "      <td>5000</td>\n",
              "      <td>0.997700</td>\n",
              "    </tr>\n",
              "    <tr>\n",
              "      <td>6000</td>\n",
              "      <td>0.967700</td>\n",
              "    </tr>\n",
              "    <tr>\n",
              "      <td>7000</td>\n",
              "      <td>0.962900</td>\n",
              "    </tr>\n",
              "    <tr>\n",
              "      <td>8000</td>\n",
              "      <td>0.946400</td>\n",
              "    </tr>\n",
              "    <tr>\n",
              "      <td>9000</td>\n",
              "      <td>0.941700</td>\n",
              "    </tr>\n",
              "    <tr>\n",
              "      <td>10000</td>\n",
              "      <td>0.937400</td>\n",
              "    </tr>\n",
              "    <tr>\n",
              "      <td>11000</td>\n",
              "      <td>0.905200</td>\n",
              "    </tr>\n",
              "    <tr>\n",
              "      <td>12000</td>\n",
              "      <td>0.920700</td>\n",
              "    </tr>\n",
              "    <tr>\n",
              "      <td>13000</td>\n",
              "      <td>0.899000</td>\n",
              "    </tr>\n",
              "  </tbody>\n",
              "</table><p>"
            ],
            "text/plain": [
              "<IPython.core.display.HTML object>"
            ]
          },
          "metadata": {},
          "output_type": "display_data"
        },
        {
          "metadata": {
            "tags": null
          },
          "name": "stderr",
          "output_type": "stream",
          "text": [
            "/usr/local/lib/python3.10/dist-packages/huggingface_hub/file_download.py:1132: FutureWarning: `resume_download` is deprecated and will be removed in version 1.0.0. Downloads always resume when possible. If you want to force a new download, use `force_download=True`.\n",
            "  warnings.warn(\n"
          ]
        },
        {
          "output_type": "display_data",
          "data": {
            "text/plain": [
              "<IPython.core.display.HTML object>"
            ],
            "text/html": [
              "\n",
              "    <div>\n",
              "      \n",
              "      <progress value='28574' max='28574' style='width:300px; height:20px; vertical-align: middle;'></progress>\n",
              "      [28574/28574 4:59:28, Epoch 1/1]\n",
              "    </div>\n",
              "    <table border=\"1\" class=\"dataframe\">\n",
              "  <thead>\n",
              " <tr style=\"text-align: left;\">\n",
              "      <th>Step</th>\n",
              "      <th>Training Loss</th>\n",
              "    </tr>\n",
              "  </thead>\n",
              "  <tbody>\n",
              "    <tr>\n",
              "      <td>1000</td>\n",
              "      <td>1.197900</td>\n",
              "    </tr>\n",
              "    <tr>\n",
              "      <td>2000</td>\n",
              "      <td>1.082500</td>\n",
              "    </tr>\n",
              "    <tr>\n",
              "      <td>3000</td>\n",
              "      <td>1.029600</td>\n",
              "    </tr>\n",
              "    <tr>\n",
              "      <td>4000</td>\n",
              "      <td>1.009500</td>\n",
              "    </tr>\n",
              "    <tr>\n",
              "      <td>5000</td>\n",
              "      <td>0.997700</td>\n",
              "    </tr>\n",
              "    <tr>\n",
              "      <td>6000</td>\n",
              "      <td>0.967700</td>\n",
              "    </tr>\n",
              "    <tr>\n",
              "      <td>7000</td>\n",
              "      <td>0.962900</td>\n",
              "    </tr>\n",
              "    <tr>\n",
              "      <td>8000</td>\n",
              "      <td>0.946400</td>\n",
              "    </tr>\n",
              "    <tr>\n",
              "      <td>9000</td>\n",
              "      <td>0.941700</td>\n",
              "    </tr>\n",
              "    <tr>\n",
              "      <td>10000</td>\n",
              "      <td>0.937400</td>\n",
              "    </tr>\n",
              "    <tr>\n",
              "      <td>11000</td>\n",
              "      <td>0.905200</td>\n",
              "    </tr>\n",
              "    <tr>\n",
              "      <td>12000</td>\n",
              "      <td>0.920700</td>\n",
              "    </tr>\n",
              "    <tr>\n",
              "      <td>13000</td>\n",
              "      <td>0.899000</td>\n",
              "    </tr>\n",
              "    <tr>\n",
              "      <td>14000</td>\n",
              "      <td>0.889000</td>\n",
              "    </tr>\n",
              "    <tr>\n",
              "      <td>15000</td>\n",
              "      <td>0.879700</td>\n",
              "    </tr>\n",
              "    <tr>\n",
              "      <td>16000</td>\n",
              "      <td>0.879000</td>\n",
              "    </tr>\n",
              "    <tr>\n",
              "      <td>17000</td>\n",
              "      <td>0.871300</td>\n",
              "    </tr>\n",
              "    <tr>\n",
              "      <td>18000</td>\n",
              "      <td>0.852600</td>\n",
              "    </tr>\n",
              "    <tr>\n",
              "      <td>19000</td>\n",
              "      <td>0.859000</td>\n",
              "    </tr>\n",
              "    <tr>\n",
              "      <td>20000</td>\n",
              "      <td>0.856100</td>\n",
              "    </tr>\n",
              "    <tr>\n",
              "      <td>21000</td>\n",
              "      <td>0.853400</td>\n",
              "    </tr>\n",
              "    <tr>\n",
              "      <td>22000</td>\n",
              "      <td>0.842200</td>\n",
              "    </tr>\n",
              "    <tr>\n",
              "      <td>23000</td>\n",
              "      <td>0.833400</td>\n",
              "    </tr>\n",
              "    <tr>\n",
              "      <td>24000</td>\n",
              "      <td>0.840200</td>\n",
              "    </tr>\n",
              "    <tr>\n",
              "      <td>25000</td>\n",
              "      <td>0.832600</td>\n",
              "    </tr>\n",
              "    <tr>\n",
              "      <td>26000</td>\n",
              "      <td>0.842000</td>\n",
              "    </tr>\n",
              "    <tr>\n",
              "      <td>27000</td>\n",
              "      <td>0.831900</td>\n",
              "    </tr>\n",
              "    <tr>\n",
              "      <td>28000</td>\n",
              "      <td>0.848000</td>\n",
              "    </tr>\n",
              "  </tbody>\n",
              "</table><p>"
            ]
          },
          "metadata": {}
        },
        {
          "output_type": "stream",
          "name": "stderr",
          "text": [
            "/usr/local/lib/python3.10/dist-packages/huggingface_hub/file_download.py:1132: FutureWarning: `resume_download` is deprecated and will be removed in version 1.0.0. Downloads always resume when possible. If you want to force a new download, use `force_download=True`.\n",
            "  warnings.warn(\n"
          ]
        },
        {
          "output_type": "execute_result",
          "data": {
            "text/plain": [
              "TrainOutput(global_step=28574, training_loss=0.9130406161089545, metrics={'train_runtime': 17970.9781, 'train_samples_per_second': 1.59, 'train_steps_per_second': 1.59, 'total_flos': 1.547473235701457e+18, 'train_loss': 0.9130406161089545, 'epoch': 1.0})"
            ]
          },
          "metadata": {},
          "execution_count": 36
        }
      ],
      "source": [
        "trainer.train()"
      ]
    },
    {
      "cell_type": "markdown",
      "metadata": {
        "id": "rgRRQWPbCfBU"
      },
      "source": [
        "### 검증"
      ]
    },
    {
      "cell_type": "code",
      "execution_count": null,
      "metadata": {
        "id": "aSYMBiynU1cO"
      },
      "outputs": [],
      "source": [
        "newModelPath = '/content/drive/MyDrive/nous_solar_training_final'"
      ]
    },
    {
      "cell_type": "code",
      "execution_count": null,
      "metadata": {
        "id": "8HMukQtNCtsN",
        "colab": {
          "base_uri": "https://localhost:8080/"
        },
        "executionInfo": {
          "status": "ok",
          "timestamp": 1721702618100,
          "user_tz": -540,
          "elapsed": 533,
          "user": {
            "displayName": "joha dae",
            "userId": "03564021945157250655"
          }
        },
        "outputId": "4881b60c-829f-4ecd-903f-8f78fabd7280"
      },
      "outputs": [
        {
          "output_type": "stream",
          "name": "stderr",
          "text": [
            "/usr/local/lib/python3.10/dist-packages/huggingface_hub/file_download.py:1132: FutureWarning: `resume_download` is deprecated and will be removed in version 1.0.0. Downloads always resume when possible. If you want to force a new download, use `force_download=True`.\n",
            "  warnings.warn(\n"
          ]
        }
      ],
      "source": [
        "# 어댑터 저장 (향후 재사용 시 베이스모델 + 어댑터 저장해서 활용해야함)\n",
        "trainer.save_model(newModelPath)  # 위에서 선언한 모델명으로 로컬 저장"
      ]
    }
  ],
  "metadata": {
    "accelerator": "GPU",
    "colab": {
      "gpuType": "A100",
      "machine_shape": "hm",
      "provenance": [
        {
          "file_id": "1n8OMF3QEpVd-SjJmIJ3HPcMoQ5DLno9K",
          "timestamp": 1723566847626
        },
        {
          "file_id": "11ITc7pD7BWHrloKa8ibQFryOKP7wNprc",
          "timestamp": 1721683553616
        },
        {
          "file_id": "1HStOAkUYrVzRzVsGuCLKKelr7Lyw_TaT",
          "timestamp": 1720964759638
        },
        {
          "file_id": "1qo6x7JvCVgVQ_jmNSjQkn1f1fdwHk4T4",
          "timestamp": 1706834964797
        }
      ]
    },
    "kernelspec": {
      "display_name": "Python 3",
      "name": "python3"
    },
    "language_info": {
      "name": "python"
    }
  },
  "nbformat": 4,
  "nbformat_minor": 0
}
